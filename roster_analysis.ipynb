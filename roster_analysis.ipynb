{
 "cells": [
  {
   "cell_type": "code",
   "execution_count": 16,
   "id": "3ffe54b6",
   "metadata": {},
   "outputs": [
    {
     "name": "stdout",
     "output_type": "stream",
     "text": [
      "✅ Libraries imported successfully!\n",
      "📊 Ready for CFB Dynasty roster analysis and visualization\n",
      "🗺️ Geographic coordinate lookup with JSON file caching enabled\n"
     ]
    }
   ],
   "source": [
    "# CFB Dynasty Roster Analysis and Visualization\n",
    "import pandas as pd\n",
    "import numpy as np\n",
    "import matplotlib.pyplot as plt\n",
    "import seaborn as sns\n",
    "import plotly.express as px\n",
    "import plotly.graph_objects as go\n",
    "from plotly.subplots import make_subplots\n",
    "import glob\n",
    "import os\n",
    "import warnings\n",
    "\n",
    "# Dynasty analysis modules\n",
    "from dynasty.analysis.player_valuation import calculate_player_value\n",
    "from dynasty.analysis.roster_analysis import player_status, calculate_position_grade, calculate_blended_measure\n",
    "from dynasty.analysis.recruiting_plan import determine_priority\n",
    "from dynasty.config.constants import DEV_TRAIT_MULTIPLIERS, DEFAULT_POSITION_REQUIREMENTS, STARTERS_COUNT\n",
    "\n",
    "# Utility modules\n",
    "from utils.file_utils import load_roster, export_files\n",
    "\n",
    "# Geography modules\n",
    "from geography.heatmaps import create_geographic_heatmap, create_city_bar_chart\n",
    "from geography.territory_analysis import create_recruiting_territory_map\n",
    "from geography.geocoding import get_city_coordinates\n",
    "\n",
    "# Import coordinate caching functions\n",
    "try:\n",
    "    from geography.geocoding import get_cache_statistics, clear_coordinate_cache\n",
    "    coordinate_caching_available = True\n",
    "except ImportError:\n",
    "    coordinate_caching_available = False\n",
    "    print(\"⚠️  Note: Advanced coordinate caching functions not available\")\n",
    "\n",
    "warnings.filterwarnings('ignore')\n",
    "\n",
    "# Set up plotting style\n",
    "plt.style.use('default')\n",
    "sns.set_palette(\"husl\")\n",
    "pd.set_option('display.max_columns', None)\n",
    "\n",
    "print(\"✅ Libraries imported successfully!\")\n",
    "print(\"📊 Ready for CFB Dynasty roster analysis and visualization\")\n",
    "if coordinate_caching_available:\n",
    "    print(\"🗺️ Geographic coordinate lookup with JSON file caching enabled\")\n",
    "else:\n",
    "    print(\"🗺️ Basic geographic coordinate lookup enabled\")"
   ]
  },
  {
   "cell_type": "markdown",
   "id": "a6152ced",
   "metadata": {},
   "source": [
    "# 🏈 CFB Dynasty Roster Analysis Dashboard\n",
    "\n",
    "This notebook provides comprehensive analysis and visualization of your CFB Dynasty roster data, including:\n",
    "\n",
    "- **Player Valuations** - Calculate player value based on ratings, development traits, and remaining years\n",
    "- **Roster Composition** - Analyze position strength and depth across your roster\n",
    "- **Recruiting Strategy** - Identify positions of need and priority for recruiting\n",
    "- **Interactive Visualizations** - Charts and graphs to better understand your roster\n",
    "\n",
    "---"
   ]
  },
  {
   "cell_type": "code",
   "execution_count": 17,
   "id": "a1e2ade3",
   "metadata": {},
   "outputs": [
    {
     "name": "stdout",
     "output_type": "stream",
     "text": [
      "📋 Configuration loaded successfully!\n",
      "📊 Tracking 21 positions\n",
      "🎯 4 development trait levels defined\n"
     ]
    }
   ],
   "source": [
    "# Configuration and Constants\n",
    "\n",
    "\n",
    "\n",
    "print(\"📋 Configuration loaded successfully!\")\n",
    "print(f\"📊 Tracking {len(DEFAULT_POSITION_REQUIREMENTS)} positions\")\n",
    "print(f\"🎯 {len(DEV_TRAIT_MULTIPLIERS)} development trait levels defined\")"
   ]
  },
  {
   "cell_type": "code",
   "execution_count": 18,
   "id": "52d8f1d7",
   "metadata": {},
   "outputs": [
    {
     "name": "stdout",
     "output_type": "stream",
     "text": [
      "✅ Analysis functions defined successfully!\n",
      "🔧 Ready to process roster data\n"
     ]
    }
   ],
   "source": [
    "\n",
    "\n",
    "\n",
    "\n",
    "\n",
    "\n",
    "print(\"✅ Analysis functions defined successfully!\")\n",
    "print(\"🔧 Ready to process roster data\")"
   ]
  },
  {
   "cell_type": "markdown",
   "id": "9f3b188f",
   "metadata": {},
   "source": [
    "## 📂 Data Loading\n",
    "\n",
    "Load your roster CSV file from the Downloads folder. The script will automatically detect roster files."
   ]
  },
  {
   "cell_type": "code",
   "execution_count": 19,
   "id": "f0cc8dde",
   "metadata": {},
   "outputs": [
    {
     "name": "stdout",
     "output_type": "stream",
     "text": [
      "📁 Found 1 roster file(s):\n",
      "  1. Rice Dynasty - 2026 raw roster.csv\n",
      "\n",
      "📊 Loading: Rice Dynasty - 2026 raw roster.csv\n",
      "✅ Successfully loaded 85 players\n",
      "📋 Columns: ['RS', 'FIRST NAME', 'LAST NAME', 'YEAR', 'POSITION', 'OVERALL', 'BASE OVERALL', 'CITY', 'STATE', 'ARCHETYPE', 'DEV TRAIT']\n",
      "\n",
      "📈 Quick Stats:\n",
      "  • Total Players: 85\n",
      "  • Positions: 20\n",
      "  • Years: FR, FR (RS), JR, JR (RS), SO, SO (RS), SR, SR (RS)\n"
     ]
    }
   ],
   "source": [
    "# Load Roster Data\n",
    "roster_df = load_roster()\n"
   ]
  },
  {
   "cell_type": "code",
   "execution_count": 20,
   "id": "405b5a02",
   "metadata": {},
   "outputs": [
    {
     "name": "stdout",
     "output_type": "stream",
     "text": [
      "⚠️  Missing required columns: ['VALUE', 'STATUS', 'Best at Position', 'Current Count', 'Min Required', 'Grade']\n",
      "📝 Adding missing columns with default values...\n",
      "✅ Roster data processed successfully!\n",
      "💰 Player values calculated\n",
      "📊 Player status determined\n",
      "\n",
      "📋 Sample of processed roster:\n",
      "RS FIRST NAME    LAST NAME    YEAR POSITION  OVERALL  BASE OVERALL            ARCHETYPE DEV TRAIT  VALUE  STATUS\n",
      "        CHASE      JENKINS SO (RS)       QB       71            71          DUAL THREAT    NORMAL 101.17    SAFE\n",
      "RS    PATRICK  CRAYTON JR.      FR       QB       71            71          DUAL THREAT    NORMAL 124.25    SAFE\n",
      "           AJ      PADGETT JR (RS)       QB       70            70        POCKET PASSER    NORMAL  83.12     CUT\n",
      "         DREW    DEVILLIER FR (RS)       QB       70            70        POCKET PASSER    IMPACT 128.01    SAFE\n",
      "          MAX    BALTHAZAR JR (RS)       HB       79            79  EAST/WEST PLAYMAKER    NORMAL  93.81    SAFE\n",
      "      QUINTON      JACKSON JR (RS)       HB       78            78  EAST/WEST PLAYMAKER    NORMAL  92.62     CUT\n",
      "       DAELEN    ALEXANDER SO (RS)       HB       76            76  EAST/WEST PLAYMAKER    NORMAL 108.30 AT RISK\n",
      "RS       TAJI       ATKINS      SO       HB       75            75  EAST/WEST PLAYMAKER    NORMAL 112.50 AT RISK\n",
      "RS     TYVONN        BYARS      FR       HB       74            74      ELUSIVE BRUISER    NORMAL 129.50    SAFE\n",
      "RS    D'ANDRE HARDEMAN JR.      FR       HB       70            70 NORTH/SOUTH RECEIVER    NORMAL 122.50 AT RISK\n"
     ]
    }
   ],
   "source": [
    "# Process Roster Data\n",
    "if roster_df is not None:\n",
    "    # Ensure required columns exist\n",
    "    required_columns = [\n",
    "        'RS', 'FIRST NAME', 'LAST NAME', 'YEAR', 'POSITION', 'OVERALL', 'BASE OVERALL',\n",
    "        'ARCHETYPE', 'DEV TRAIT', 'VALUE', 'STATUS', 'Best at Position', 'Current Count', 'Min Required', 'Grade'\n",
    "    ]\n",
    "\n",
    "    missing_columns = [col for col in required_columns if col not in roster_df.columns]\n",
    "    if missing_columns:\n",
    "        print(f\"⚠️  Missing required columns: {missing_columns}\")\n",
    "        print(\"📝 Adding missing columns with default values...\")\n",
    "\n",
    "        # Add missing columns with defaults\n",
    "        for col in missing_columns:\n",
    "            if col in ['CUT', 'REDSHIRT']:\n",
    "                roster_df[col] = False\n",
    "            elif col == 'DRAFTED':\n",
    "                roster_df[col] = None\n",
    "            else:\n",
    "                roster_df[col] = ''\n",
    "\n",
    "    # Calculate player values\n",
    "    roster_df['VALUE'] = roster_df.apply(lambda row: calculate_player_value(row, DEV_TRAIT_MULTIPLIERS), axis=1)\n",
    "\n",
    "    # Default handling for empty RS values\n",
    "    roster_df['RS'] = roster_df['RS'].fillna('')\n",
    "\n",
    "    # Fill missing archetypes\n",
    "    roster_df['ARCHETYPE'] = roster_df['ARCHETYPE'].fillna('')\n",
    "\n",
    "    # Determine best player at each position\n",
    "    roster_df['Best at Position'] = roster_df.groupby('POSITION')['OVERALL'].transform(lambda x: x == x.max())\n",
    "\n",
    "    # Apply player status\n",
    "    roster_df['STATUS'] = roster_df.apply(player_status, axis=1)\n",
    "\n",
    "    # Sort roster\n",
    "    position_order = ['QB', 'HB', 'WR', 'TE', 'LT', 'LG', 'C', 'RG', 'RT',\n",
    "                     'LEDG', 'REDG', 'DT', 'WILL', 'MIKE', 'SAM', 'CB', 'FS', 'SS', 'K', 'P', 'ATH']\n",
    "    roster_df['POSITION'] = pd.Categorical(roster_df['POSITION'], categories=position_order, ordered=True)\n",
    "    roster_df = roster_df.sort_values(by=['POSITION', 'OVERALL'], ascending=[True, False])\n",
    "\n",
    "    print(\"✅ Roster data processed successfully!\")\n",
    "    print(f\"💰 Player values calculated\")\n",
    "    print(f\"📊 Player status determined\")\n",
    "\n",
    "    # Show sample of processed data\n",
    "    print(f\"\\n📋 Sample of processed roster:\")\n",
    "    display_cols = [\n",
    "        'RS', 'FIRST NAME', 'LAST NAME', 'YEAR', 'POSITION', 'OVERALL',\n",
    "        'BASE OVERALL', 'ARCHETYPE', 'DEV TRAIT', 'VALUE', 'STATUS'\n",
    "    ]\n",
    "    sample_df = roster_df[display_cols].head(10)\n",
    "    print(sample_df.to_string(index=False))\n",
    "\n",
    "else:\n",
    "    print(\"❌ Failed to load roster data. Please check the file path and format.\")\n",
    "    exit(1)"
   ]
  },
  {
   "cell_type": "code",
   "execution_count": 21,
   "id": "53ab056b",
   "metadata": {},
   "outputs": [
    {
     "name": "stdout",
     "output_type": "stream",
     "text": [
      "✅ Recruiting plan generated!\n",
      "\n",
      "📋 Recruiting Priorities Summary:\n",
      "\n",
      "🚨 HIGH PRIORITY positions (3):\n",
      "  • C: 0/3 (Grade: F)\n",
      "  • SS: 1/2 (Grade: C)\n",
      "  • FB: 0/0 (Grade: F)\n",
      "\n",
      "📊 Full recruiting plan available in 'recruiting_plan' DataFrame\n"
     ]
    }
   ],
   "source": [
    "# Generate Recruiting Plan\n",
    "if roster_df is not None:\n",
    "    # Calculate next season counts (excluding graduating players)\n",
    "    next_season_counts = roster_df[roster_df['STATUS'] != 'GRADUATING'].groupby('POSITION').size()\n",
    "\n",
    "    # Calculate blended values for each position\n",
    "    blended_values = {pos: calculate_blended_measure(roster_df, pos) for pos in DEFAULT_POSITION_REQUIREMENTS.keys()}\n",
    "\n",
    "    # Create recruiting plan DataFrame\n",
    "    recruiting_plan = pd.DataFrame({\n",
    "        'Position': DEFAULT_POSITION_REQUIREMENTS.keys(),\n",
    "        'Current Count': [next_season_counts.get(pos, 0) for pos in DEFAULT_POSITION_REQUIREMENTS.keys()],\n",
    "        'Min Required': [DEFAULT_POSITION_REQUIREMENTS[pos]['min'] for pos in DEFAULT_POSITION_REQUIREMENTS.keys()],\n",
    "        'Ideal Count': [DEFAULT_POSITION_REQUIREMENTS[pos]['ideal'] for pos in DEFAULT_POSITION_REQUIREMENTS.keys()],\n",
    "        'Blended Value': [blended_values[pos] for pos in DEFAULT_POSITION_REQUIREMENTS.keys()],\n",
    "        'Grade': [calculate_position_grade(blended_values[pos]) for pos in DEFAULT_POSITION_REQUIREMENTS.keys()]\n",
    "    }).fillna(0)\n",
    "\n",
    "    # Determine priority\n",
    "    recruiting_plan['Priority'] = recruiting_plan.apply(determine_priority, axis=1)\n",
    "\n",
    "    # Calculate need (difference between current and ideal)\n",
    "    recruiting_plan['Need'] = recruiting_plan['Ideal Count'] - recruiting_plan['Current Count']\n",
    "    recruiting_plan['Need'] = recruiting_plan['Need'].clip(lower=0)  # Don't show negative needs\n",
    "\n",
    "    print(\"✅ Recruiting plan generated!\")\n",
    "    print(f\"\\n📋 Recruiting Priorities Summary:\")\n",
    "\n",
    "    # Show high priority positions\n",
    "    high_priority = recruiting_plan[recruiting_plan['Priority'] == 'HIGH'].sort_values('Need', ascending=False)\n",
    "    if len(high_priority) > 0:\n",
    "        print(f\"\\n🚨 HIGH PRIORITY positions ({len(high_priority)}):\")\n",
    "        for _, row in high_priority.iterrows():\n",
    "            print(f\"  • {row['Position']}: {int(row['Current Count'])}/{int(row['Min Required'])} (Grade: {row['Grade']})\")\n",
    "\n",
    "    medium_priority = recruiting_plan[recruiting_plan['Priority'] == 'MEDIUM']\n",
    "    if len(medium_priority) > 0:\n",
    "        print(f\"\\n⚠️  MEDIUM PRIORITY positions ({len(medium_priority)}):\")\n",
    "        for _, row in medium_priority.iterrows():\n",
    "            print(f\"  • {row['Position']}: Grade {row['Grade']} (Value: {row['Blended Value']:.1f})\")\n",
    "\n",
    "    print(f\"\\n📊 Full recruiting plan available in 'recruiting_plan' DataFrame\")"
   ]
  },
  {
   "cell_type": "markdown",
   "id": "87fe0aa8",
   "metadata": {},
   "source": [
    "## 📊 Data Visualizations\n",
    "\n",
    "Interactive charts and graphs to analyze your roster composition, player values, and recruiting needs."
   ]
  },
  {
   "cell_type": "code",
   "execution_count": 22,
   "id": "635a462e",
   "metadata": {},
   "outputs": [
    {
     "data": {
      "application/vnd.plotly.v1+json": {
       "config": {
        "plotlyServerURL": "https://plot.ly"
       },
       "data": [
        {
         "marker": {
          "color": "lightblue"
         },
         "name": "Current Count",
         "type": "bar",
         "x": [
          "QB",
          "HB",
          "WR",
          "TE",
          "LT",
          "LG",
          "C",
          "RG",
          "RT",
          "LEDG",
          "REDG",
          "DT",
          "WILL",
          "MIKE",
          "SAM",
          "CB",
          "FS",
          "SS",
          "K",
          "P",
          "ATH"
         ],
         "xaxis": "x",
         "y": {
          "bdata": "BAYIBAQEAAUDBAUHBAQECQQCAgEA",
          "dtype": "i1"
         },
         "yaxis": "y"
        },
        {
         "marker": {
          "color": [
           "#8B0000",
           "#8B0000",
           "#DC143C",
           "#DC143C",
           "#FF4500",
           "#FF6347",
           "#FF6347",
           "#FF6347",
           "#FF6347",
           "#FF6347",
           "#FF6347",
           "#FF6347",
           "#FF6347",
           "#FF8C00",
           "#FF8C00",
           "#FF8C00",
           "#FF8C00",
           "#FFA500",
           "#FFA500",
           "#FFA500",
           "#FFD700"
          ]
         },
         "name": "Position Strength",
         "orientation": "h",
         "text": [
          "F",
          "F",
          "C-",
          "C-",
          "C",
          "C+",
          "C+",
          "C+",
          "C+",
          "C+",
          "C+",
          "C+",
          "C+",
          "B-",
          "B-",
          "B-",
          "B-",
          "B",
          "B",
          "B",
          "B+"
         ],
         "textposition": "auto",
         "type": "bar",
         "x": {
          "bdata": "AAAAAAAAAAAAAAAAAAAAABSuR+F6dFJAuB6F61FYU0DXo3A9CsdVQGZmZmZmNldAFK5H4XqEV0AAAAAAAFBYQAAAAAAAcFhA16NwPQqnWEBxPQrXo8BYQBSuR+F6xFhAPQrXo3DdWEApXI/C9QhZQI/C9ShcL1lAcT0K16OQWUA9CtejcH1aQArXo3A9iltAw/UoXI+yW0CPwvUoXK9dQD0K16NwHV5A",
          "dtype": "f8"
         },
         "xaxis": "x2",
         "y": [
          "FB",
          "C",
          "P",
          "K",
          "SS",
          "DT",
          "SAM",
          "LG",
          "REDG",
          "RT",
          "LT",
          "WILL",
          "RG",
          "WR",
          "FS",
          "CB",
          "TE",
          "MIKE",
          "LEDG",
          "HB",
          "QB"
         ],
         "yaxis": "y2"
        },
        {
         "domain": {
          "x": [
           0,
           0.45
          ],
          "y": [
           0,
           0.375
          ]
         },
         "labels": [
          "CUT",
          "GRADUATING",
          "AT RISK",
          "SAFE"
         ],
         "marker": {
          "colors": [
           "#DC143C",
           "#808080",
           "#FFD700",
           "#2E8B57"
          ]
         },
         "name": "Status",
         "type": "pie",
         "values": {
          "bdata": "IBURDw==",
          "dtype": "i1"
         }
        },
        {
         "domain": {
          "x": [
           0.55,
           1
          ],
          "y": [
           0,
           0.375
          ]
         },
         "labels": [
          "NORMAL",
          "IMPACT"
         ],
         "marker": {
          "colors": [
           "#808080",
           "#FFD700"
          ]
         },
         "name": "Dev Traits",
         "type": "pie",
         "values": {
          "bdata": "TQg=",
          "dtype": "i1"
         }
        }
       ],
       "layout": {
        "annotations": [
         {
          "font": {
           "size": 16
          },
          "showarrow": false,
          "text": "Current Roster by Position",
          "x": 0.225,
          "xanchor": "center",
          "xref": "paper",
          "y": 1,
          "yanchor": "bottom",
          "yref": "paper"
         },
         {
          "font": {
           "size": 16
          },
          "showarrow": false,
          "text": "Position Strength Grades",
          "x": 0.775,
          "xanchor": "center",
          "xref": "paper",
          "y": 1,
          "yanchor": "bottom",
          "yref": "paper"
         },
         {
          "font": {
           "size": 16
          },
          "showarrow": false,
          "text": "Player Status Distribution",
          "x": 0.225,
          "xanchor": "center",
          "xref": "paper",
          "y": 0.375,
          "yanchor": "bottom",
          "yref": "paper"
         },
         {
          "font": {
           "size": 16
          },
          "showarrow": false,
          "text": "Development Traits",
          "x": 0.775,
          "xanchor": "center",
          "xref": "paper",
          "y": 0.375,
          "yanchor": "bottom",
          "yref": "paper"
         }
        ],
        "height": 800,
        "showlegend": false,
        "template": {
         "data": {
          "bar": [
           {
            "error_x": {
             "color": "#2a3f5f"
            },
            "error_y": {
             "color": "#2a3f5f"
            },
            "marker": {
             "line": {
              "color": "#E5ECF6",
              "width": 0.5
             },
             "pattern": {
              "fillmode": "overlay",
              "size": 10,
              "solidity": 0.2
             }
            },
            "type": "bar"
           }
          ],
          "barpolar": [
           {
            "marker": {
             "line": {
              "color": "#E5ECF6",
              "width": 0.5
             },
             "pattern": {
              "fillmode": "overlay",
              "size": 10,
              "solidity": 0.2
             }
            },
            "type": "barpolar"
           }
          ],
          "carpet": [
           {
            "aaxis": {
             "endlinecolor": "#2a3f5f",
             "gridcolor": "white",
             "linecolor": "white",
             "minorgridcolor": "white",
             "startlinecolor": "#2a3f5f"
            },
            "baxis": {
             "endlinecolor": "#2a3f5f",
             "gridcolor": "white",
             "linecolor": "white",
             "minorgridcolor": "white",
             "startlinecolor": "#2a3f5f"
            },
            "type": "carpet"
           }
          ],
          "choropleth": [
           {
            "colorbar": {
             "outlinewidth": 0,
             "ticks": ""
            },
            "type": "choropleth"
           }
          ],
          "contour": [
           {
            "colorbar": {
             "outlinewidth": 0,
             "ticks": ""
            },
            "colorscale": [
             [
              0,
              "#0d0887"
             ],
             [
              0.1111111111111111,
              "#46039f"
             ],
             [
              0.2222222222222222,
              "#7201a8"
             ],
             [
              0.3333333333333333,
              "#9c179e"
             ],
             [
              0.4444444444444444,
              "#bd3786"
             ],
             [
              0.5555555555555556,
              "#d8576b"
             ],
             [
              0.6666666666666666,
              "#ed7953"
             ],
             [
              0.7777777777777778,
              "#fb9f3a"
             ],
             [
              0.8888888888888888,
              "#fdca26"
             ],
             [
              1,
              "#f0f921"
             ]
            ],
            "type": "contour"
           }
          ],
          "contourcarpet": [
           {
            "colorbar": {
             "outlinewidth": 0,
             "ticks": ""
            },
            "type": "contourcarpet"
           }
          ],
          "heatmap": [
           {
            "colorbar": {
             "outlinewidth": 0,
             "ticks": ""
            },
            "colorscale": [
             [
              0,
              "#0d0887"
             ],
             [
              0.1111111111111111,
              "#46039f"
             ],
             [
              0.2222222222222222,
              "#7201a8"
             ],
             [
              0.3333333333333333,
              "#9c179e"
             ],
             [
              0.4444444444444444,
              "#bd3786"
             ],
             [
              0.5555555555555556,
              "#d8576b"
             ],
             [
              0.6666666666666666,
              "#ed7953"
             ],
             [
              0.7777777777777778,
              "#fb9f3a"
             ],
             [
              0.8888888888888888,
              "#fdca26"
             ],
             [
              1,
              "#f0f921"
             ]
            ],
            "type": "heatmap"
           }
          ],
          "histogram": [
           {
            "marker": {
             "pattern": {
              "fillmode": "overlay",
              "size": 10,
              "solidity": 0.2
             }
            },
            "type": "histogram"
           }
          ],
          "histogram2d": [
           {
            "colorbar": {
             "outlinewidth": 0,
             "ticks": ""
            },
            "colorscale": [
             [
              0,
              "#0d0887"
             ],
             [
              0.1111111111111111,
              "#46039f"
             ],
             [
              0.2222222222222222,
              "#7201a8"
             ],
             [
              0.3333333333333333,
              "#9c179e"
             ],
             [
              0.4444444444444444,
              "#bd3786"
             ],
             [
              0.5555555555555556,
              "#d8576b"
             ],
             [
              0.6666666666666666,
              "#ed7953"
             ],
             [
              0.7777777777777778,
              "#fb9f3a"
             ],
             [
              0.8888888888888888,
              "#fdca26"
             ],
             [
              1,
              "#f0f921"
             ]
            ],
            "type": "histogram2d"
           }
          ],
          "histogram2dcontour": [
           {
            "colorbar": {
             "outlinewidth": 0,
             "ticks": ""
            },
            "colorscale": [
             [
              0,
              "#0d0887"
             ],
             [
              0.1111111111111111,
              "#46039f"
             ],
             [
              0.2222222222222222,
              "#7201a8"
             ],
             [
              0.3333333333333333,
              "#9c179e"
             ],
             [
              0.4444444444444444,
              "#bd3786"
             ],
             [
              0.5555555555555556,
              "#d8576b"
             ],
             [
              0.6666666666666666,
              "#ed7953"
             ],
             [
              0.7777777777777778,
              "#fb9f3a"
             ],
             [
              0.8888888888888888,
              "#fdca26"
             ],
             [
              1,
              "#f0f921"
             ]
            ],
            "type": "histogram2dcontour"
           }
          ],
          "mesh3d": [
           {
            "colorbar": {
             "outlinewidth": 0,
             "ticks": ""
            },
            "type": "mesh3d"
           }
          ],
          "parcoords": [
           {
            "line": {
             "colorbar": {
              "outlinewidth": 0,
              "ticks": ""
             }
            },
            "type": "parcoords"
           }
          ],
          "pie": [
           {
            "automargin": true,
            "type": "pie"
           }
          ],
          "scatter": [
           {
            "fillpattern": {
             "fillmode": "overlay",
             "size": 10,
             "solidity": 0.2
            },
            "type": "scatter"
           }
          ],
          "scatter3d": [
           {
            "line": {
             "colorbar": {
              "outlinewidth": 0,
              "ticks": ""
             }
            },
            "marker": {
             "colorbar": {
              "outlinewidth": 0,
              "ticks": ""
             }
            },
            "type": "scatter3d"
           }
          ],
          "scattercarpet": [
           {
            "marker": {
             "colorbar": {
              "outlinewidth": 0,
              "ticks": ""
             }
            },
            "type": "scattercarpet"
           }
          ],
          "scattergeo": [
           {
            "marker": {
             "colorbar": {
              "outlinewidth": 0,
              "ticks": ""
             }
            },
            "type": "scattergeo"
           }
          ],
          "scattergl": [
           {
            "marker": {
             "colorbar": {
              "outlinewidth": 0,
              "ticks": ""
             }
            },
            "type": "scattergl"
           }
          ],
          "scattermap": [
           {
            "marker": {
             "colorbar": {
              "outlinewidth": 0,
              "ticks": ""
             }
            },
            "type": "scattermap"
           }
          ],
          "scattermapbox": [
           {
            "marker": {
             "colorbar": {
              "outlinewidth": 0,
              "ticks": ""
             }
            },
            "type": "scattermapbox"
           }
          ],
          "scatterpolar": [
           {
            "marker": {
             "colorbar": {
              "outlinewidth": 0,
              "ticks": ""
             }
            },
            "type": "scatterpolar"
           }
          ],
          "scatterpolargl": [
           {
            "marker": {
             "colorbar": {
              "outlinewidth": 0,
              "ticks": ""
             }
            },
            "type": "scatterpolargl"
           }
          ],
          "scatterternary": [
           {
            "marker": {
             "colorbar": {
              "outlinewidth": 0,
              "ticks": ""
             }
            },
            "type": "scatterternary"
           }
          ],
          "surface": [
           {
            "colorbar": {
             "outlinewidth": 0,
             "ticks": ""
            },
            "colorscale": [
             [
              0,
              "#0d0887"
             ],
             [
              0.1111111111111111,
              "#46039f"
             ],
             [
              0.2222222222222222,
              "#7201a8"
             ],
             [
              0.3333333333333333,
              "#9c179e"
             ],
             [
              0.4444444444444444,
              "#bd3786"
             ],
             [
              0.5555555555555556,
              "#d8576b"
             ],
             [
              0.6666666666666666,
              "#ed7953"
             ],
             [
              0.7777777777777778,
              "#fb9f3a"
             ],
             [
              0.8888888888888888,
              "#fdca26"
             ],
             [
              1,
              "#f0f921"
             ]
            ],
            "type": "surface"
           }
          ],
          "table": [
           {
            "cells": {
             "fill": {
              "color": "#EBF0F8"
             },
             "line": {
              "color": "white"
             }
            },
            "header": {
             "fill": {
              "color": "#C8D4E3"
             },
             "line": {
              "color": "white"
             }
            },
            "type": "table"
           }
          ]
         },
         "layout": {
          "annotationdefaults": {
           "arrowcolor": "#2a3f5f",
           "arrowhead": 0,
           "arrowwidth": 1
          },
          "autotypenumbers": "strict",
          "coloraxis": {
           "colorbar": {
            "outlinewidth": 0,
            "ticks": ""
           }
          },
          "colorscale": {
           "diverging": [
            [
             0,
             "#8e0152"
            ],
            [
             0.1,
             "#c51b7d"
            ],
            [
             0.2,
             "#de77ae"
            ],
            [
             0.3,
             "#f1b6da"
            ],
            [
             0.4,
             "#fde0ef"
            ],
            [
             0.5,
             "#f7f7f7"
            ],
            [
             0.6,
             "#e6f5d0"
            ],
            [
             0.7,
             "#b8e186"
            ],
            [
             0.8,
             "#7fbc41"
            ],
            [
             0.9,
             "#4d9221"
            ],
            [
             1,
             "#276419"
            ]
           ],
           "sequential": [
            [
             0,
             "#0d0887"
            ],
            [
             0.1111111111111111,
             "#46039f"
            ],
            [
             0.2222222222222222,
             "#7201a8"
            ],
            [
             0.3333333333333333,
             "#9c179e"
            ],
            [
             0.4444444444444444,
             "#bd3786"
            ],
            [
             0.5555555555555556,
             "#d8576b"
            ],
            [
             0.6666666666666666,
             "#ed7953"
            ],
            [
             0.7777777777777778,
             "#fb9f3a"
            ],
            [
             0.8888888888888888,
             "#fdca26"
            ],
            [
             1,
             "#f0f921"
            ]
           ],
           "sequentialminus": [
            [
             0,
             "#0d0887"
            ],
            [
             0.1111111111111111,
             "#46039f"
            ],
            [
             0.2222222222222222,
             "#7201a8"
            ],
            [
             0.3333333333333333,
             "#9c179e"
            ],
            [
             0.4444444444444444,
             "#bd3786"
            ],
            [
             0.5555555555555556,
             "#d8576b"
            ],
            [
             0.6666666666666666,
             "#ed7953"
            ],
            [
             0.7777777777777778,
             "#fb9f3a"
            ],
            [
             0.8888888888888888,
             "#fdca26"
            ],
            [
             1,
             "#f0f921"
            ]
           ]
          },
          "colorway": [
           "#636efa",
           "#EF553B",
           "#00cc96",
           "#ab63fa",
           "#FFA15A",
           "#19d3f3",
           "#FF6692",
           "#B6E880",
           "#FF97FF",
           "#FECB52"
          ],
          "font": {
           "color": "#2a3f5f"
          },
          "geo": {
           "bgcolor": "white",
           "lakecolor": "white",
           "landcolor": "#E5ECF6",
           "showlakes": true,
           "showland": true,
           "subunitcolor": "white"
          },
          "hoverlabel": {
           "align": "left"
          },
          "hovermode": "closest",
          "mapbox": {
           "style": "light"
          },
          "paper_bgcolor": "white",
          "plot_bgcolor": "#E5ECF6",
          "polar": {
           "angularaxis": {
            "gridcolor": "white",
            "linecolor": "white",
            "ticks": ""
           },
           "bgcolor": "#E5ECF6",
           "radialaxis": {
            "gridcolor": "white",
            "linecolor": "white",
            "ticks": ""
           }
          },
          "scene": {
           "xaxis": {
            "backgroundcolor": "#E5ECF6",
            "gridcolor": "white",
            "gridwidth": 2,
            "linecolor": "white",
            "showbackground": true,
            "ticks": "",
            "zerolinecolor": "white"
           },
           "yaxis": {
            "backgroundcolor": "#E5ECF6",
            "gridcolor": "white",
            "gridwidth": 2,
            "linecolor": "white",
            "showbackground": true,
            "ticks": "",
            "zerolinecolor": "white"
           },
           "zaxis": {
            "backgroundcolor": "#E5ECF6",
            "gridcolor": "white",
            "gridwidth": 2,
            "linecolor": "white",
            "showbackground": true,
            "ticks": "",
            "zerolinecolor": "white"
           }
          },
          "shapedefaults": {
           "line": {
            "color": "#2a3f5f"
           }
          },
          "ternary": {
           "aaxis": {
            "gridcolor": "white",
            "linecolor": "white",
            "ticks": ""
           },
           "baxis": {
            "gridcolor": "white",
            "linecolor": "white",
            "ticks": ""
           },
           "bgcolor": "#E5ECF6",
           "caxis": {
            "gridcolor": "white",
            "linecolor": "white",
            "ticks": ""
           }
          },
          "title": {
           "x": 0.05
          },
          "xaxis": {
           "automargin": true,
           "gridcolor": "white",
           "linecolor": "white",
           "ticks": "",
           "title": {
            "standoff": 15
           },
           "zerolinecolor": "white",
           "zerolinewidth": 2
          },
          "yaxis": {
           "automargin": true,
           "gridcolor": "white",
           "linecolor": "white",
           "ticks": "",
           "title": {
            "standoff": 15
           },
           "zerolinecolor": "white",
           "zerolinewidth": 2
          }
         }
        },
        "title": {
         "text": "🏈 Roster Overview Dashboard"
        },
        "xaxis": {
         "anchor": "y",
         "domain": [
          0,
          0.45
         ],
         "title": {
          "text": "Position"
         }
        },
        "xaxis2": {
         "anchor": "y2",
         "domain": [
          0.55,
          1
         ],
         "title": {
          "text": "Blended Value"
         }
        },
        "yaxis": {
         "anchor": "x",
         "domain": [
          0.625,
          1
         ],
         "title": {
          "text": "Player Count"
         }
        },
        "yaxis2": {
         "anchor": "x2",
         "domain": [
          0.625,
          1
         ]
        }
       }
      }
     },
     "metadata": {},
     "output_type": "display_data"
    },
    {
     "name": "stdout",
     "output_type": "stream",
     "text": [
      "📊 Roster composition visualization created!\n"
     ]
    }
   ],
   "source": [
    "# 1. Roster Composition by Position\n",
    "if roster_df is not None:\n",
    "    fig = make_subplots(\n",
    "        rows=2, cols=2,\n",
    "        subplot_titles=('Current Roster by Position', 'Position Strength Grades',\n",
    "                       'Player Status Distribution', 'Development Traits'),\n",
    "        specs=[[{\"type\": \"bar\"}, {\"type\": \"bar\"}],\n",
    "               [{\"type\": \"pie\"}, {\"type\": \"pie\"}]]\n",
    "    )\n",
    "\n",
    "    # Subplot 1: Current roster by position\n",
    "    position_counts = roster_df['POSITION'].value_counts().reindex(position_order).fillna(0)\n",
    "    fig.add_trace(\n",
    "        go.Bar(x=position_counts.index, y=position_counts.values,\n",
    "               name=\"Current Count\", marker_color='lightblue'),\n",
    "        row=1, col=1\n",
    "    )\n",
    "\n",
    "    # Subplot 2: Position grades\n",
    "    grade_colors = {'A+': '#2E8B57', 'A': '#32CD32', 'A-': '#90EE90',\n",
    "                   'B+': '#FFD700', 'B': '#FFA500', 'B-': '#FF8C00',\n",
    "                   'C+': '#FF6347', 'C': '#FF4500', 'C-': '#DC143C', 'F': '#8B0000'}\n",
    "\n",
    "    recruiting_plan_sorted = recruiting_plan.sort_values('Blended Value', ascending=True)\n",
    "    colors = [grade_colors.get(grade, '#808080') for grade in recruiting_plan_sorted['Grade']]\n",
    "\n",
    "    fig.add_trace(\n",
    "        go.Bar(x=recruiting_plan_sorted['Blended Value'],\n",
    "               y=recruiting_plan_sorted['Position'],\n",
    "               orientation='h',\n",
    "               name=\"Position Strength\",\n",
    "               marker_color=colors,\n",
    "               text=recruiting_plan_sorted['Grade'],\n",
    "               textposition='auto'),\n",
    "        row=1, col=2\n",
    "    )\n",
    "\n",
    "    # Subplot 3: Player status distribution\n",
    "    status_counts = roster_df['STATUS'].value_counts()\n",
    "    status_colors = {'SAFE': '#2E8B57', 'AT RISK': '#FFD700', 'CUT': '#DC143C', 'GRADUATING': '#808080'}\n",
    "    fig.add_trace(\n",
    "        go.Pie(labels=status_counts.index, values=status_counts.values,\n",
    "               name=\"Status\", marker_colors=[status_colors.get(status, '#808080') for status in status_counts.index]),\n",
    "        row=2, col=1\n",
    "    )\n",
    "\n",
    "    # Subplot 4: Development traits\n",
    "    dev_counts = roster_df['DEV TRAIT'].value_counts()\n",
    "    dev_colors = {'ELITE': '#2E8B57', 'STAR': '#32CD32', 'IMPACT': '#FFD700', 'NORMAL': '#808080'}\n",
    "    fig.add_trace(\n",
    "        go.Pie(labels=dev_counts.index, values=dev_counts.values,\n",
    "               name=\"Dev Traits\", marker_colors=[dev_colors.get(trait, '#808080') for trait in dev_counts.index]),\n",
    "        row=2, col=2\n",
    "    )\n",
    "\n",
    "    fig.update_layout(height=800, title_text=\"🏈 Roster Overview Dashboard\", showlegend=False)\n",
    "    fig.update_xaxes(title_text=\"Position\", row=1, col=1)\n",
    "    fig.update_yaxes(title_text=\"Player Count\", row=1, col=1)\n",
    "    fig.update_xaxes(title_text=\"Blended Value\", row=1, col=2)\n",
    "\n",
    "    fig.show()\n",
    "\n",
    "    print(\"📊 Roster composition visualization created!\")"
   ]
  },
  {
   "cell_type": "code",
   "execution_count": 23,
   "id": "3ba1b848",
   "metadata": {},
   "outputs": [
    {
     "data": {
      "application/vnd.plotly.v1+json": {
       "config": {
        "plotlyServerURL": "https://plot.ly"
       },
       "data": [
        {
         "alignmentgroup": "True",
         "hovertemplate": "STATUS=SAFE<br>POSITION=%{x}<br>VALUE=%{y}<extra></extra>",
         "legendgroup": "SAFE",
         "marker": {
          "color": "#2E8B57"
         },
         "name": "SAFE",
         "notched": false,
         "offsetgroup": "SAFE",
         "orientation": "v",
         "showlegend": true,
         "type": "box",
         "x": [
          "QB",
          "QB",
          "QB",
          "HB",
          "HB",
          "WR",
          "LT",
          "LT",
          "RT",
          "LEDG",
          "REDG",
          "WILL",
          "CB",
          "P",
          null
         ],
         "x0": " ",
         "xaxis": "x",
         "y": {
          "bdata": "exSuR+FKWUAAAAAAABBfQLgehetRAGBApHA9CtdzV0AAAAAAADBgQK5H4XoUbltArkfhehTeV0AAAAAAAPBUQHsUrkfhSllAXI/C9SisVUAAAAAAACBXQAAAAAAAYFhA16NwPQofYEDNzMzMzFxaQKRwPQrX41NA",
          "dtype": "f8"
         },
         "y0": " ",
         "yaxis": "y"
        },
        {
         "alignmentgroup": "True",
         "hovertemplate": "STATUS=CUT<br>POSITION=%{x}<br>VALUE=%{y}<extra></extra>",
         "legendgroup": "CUT",
         "marker": {
          "color": "#DC143C"
         },
         "name": "CUT",
         "notched": false,
         "offsetgroup": "CUT",
         "orientation": "v",
         "showlegend": true,
         "type": "box",
         "x": [
          "QB",
          "HB",
          "WR",
          "WR",
          "WR",
          "TE",
          "TE",
          "LG",
          "LG",
          "RG",
          "RG",
          "RG",
          "RT",
          "RT",
          "LEDG",
          "REDG",
          "REDG",
          "DT",
          "DT",
          "DT",
          "WILL",
          "MIKE",
          "SAM",
          "SAM",
          "SAM",
          "CB",
          "CB",
          "CB",
          "CB",
          "FS",
          "SS",
          "K"
         ],
         "x0": " ",
         "xaxis": "x",
         "y": {
          "bdata": "SOF6FK7HVEBI4XoUridXQK5H4XoUflhApHA9CtdDVkC4HoXrUZhTQGZmZmZmFlZAAAAAAACQUEAAAAAAAMBYQKRwPQrXg1FArkfhehTeV0AAAAAAAKBUQDMzMzMzg1dAMzMzMzODV0DNzMzMzMxWQDMzMzMzg1dAAAAAAAAwVEAAAAAAADBUQKRwPQrXQ1ZAAAAAAADgVUAAAAAAAEBUQEjhehSuJ1dASOF6FK4nV0AUrkfhepRYQAAAAAAAMFRAzczMzMzMVkAAAAAAANBWQKRwPQrXE1VApHA9CtcTVUCuR+F6FN5XQDMzMzMzg1dAXI/C9SjcVkC4HoXrUZhTQA==",
          "dtype": "f8"
         },
         "y0": " ",
         "yaxis": "y"
        },
        {
         "alignmentgroup": "True",
         "hovertemplate": "STATUS=AT RISK<br>POSITION=%{x}<br>VALUE=%{y}<extra></extra>",
         "legendgroup": "AT RISK",
         "marker": {
          "color": "#FFD700"
         },
         "name": "AT RISK",
         "notched": false,
         "offsetgroup": "AT RISK",
         "orientation": "v",
         "showlegend": true,
         "type": "box",
         "x": [
          "HB",
          "HB",
          "HB",
          "WR",
          "WR",
          "TE",
          "LT",
          "LG",
          "RG",
          "LEDG",
          "LEDG",
          "REDG",
          "DT",
          "WILL",
          "MIKE",
          "MIKE",
          "FS"
         ],
         "x0": " ",
         "xaxis": "x",
         "y": {
          "bdata": "MzMzMzMTW0AAAAAAACBcQAAAAAAAoF5A4XoUrkcBWkDD9Shcj9JbQAAAAAAAwF1AAAAAAACwWkAAAAAAAEBaQAAAAAAAQFpAAAAAAABQXUCamZmZmZlaQAAAAAAAQFpAAAAAAAAAXEAAAAAAAEBaQClcj8L1eFlASOF6FK63XUAAAAAAAJBbQA==",
          "dtype": "f8"
         },
         "y0": " ",
         "yaxis": "y"
        },
        {
         "alignmentgroup": "True",
         "hovertemplate": "STATUS=GRADUATING<br>POSITION=%{x}<br>VALUE=%{y}<extra></extra>",
         "legendgroup": "GRADUATING",
         "marker": {
          "color": "#808080"
         },
         "name": "GRADUATING",
         "notched": false,
         "offsetgroup": "GRADUATING",
         "orientation": "v",
         "showlegend": true,
         "type": "box",
         "x": [
          "WR",
          "WR",
          "TE",
          "LT",
          "LG",
          "RG",
          "REDG",
          "DT",
          "DT",
          "DT",
          "WILL",
          "MIKE",
          "SAM",
          "CB",
          "CB",
          "CB",
          "CB",
          "FS",
          "FS",
          "SS",
          "K"
         ],
         "x0": " ",
         "xaxis": "x",
         "y": {
          "bdata": "zczMzMwMUkDNzMzMzNxQQAAAAAAAAFJAMzMzMzPTT0CamZmZmRlRQGZmZmZmhlJAZmZmZmZWUUAAAAAAAABTQAAAAAAAoFBAMzMzMzPTT0AzMzMzM2NQQDMzMzMzw1JArkfhehQeVEB7FK5H4dpTQM3MzMzMDFJAzczMzMwMUkBmZmZmZlZRQM3MzMzMDFJAZmZmZmZWUUAAAAAAAEBTQDMzMzMzw1JA",
          "dtype": "f8"
         },
         "y0": " ",
         "yaxis": "y"
        }
       ],
       "layout": {
        "boxmode": "group",
        "height": 600,
        "legend": {
         "title": {
          "text": "STATUS"
         },
         "tracegroupgap": 0
        },
        "template": {
         "data": {
          "bar": [
           {
            "error_x": {
             "color": "#2a3f5f"
            },
            "error_y": {
             "color": "#2a3f5f"
            },
            "marker": {
             "line": {
              "color": "#E5ECF6",
              "width": 0.5
             },
             "pattern": {
              "fillmode": "overlay",
              "size": 10,
              "solidity": 0.2
             }
            },
            "type": "bar"
           }
          ],
          "barpolar": [
           {
            "marker": {
             "line": {
              "color": "#E5ECF6",
              "width": 0.5
             },
             "pattern": {
              "fillmode": "overlay",
              "size": 10,
              "solidity": 0.2
             }
            },
            "type": "barpolar"
           }
          ],
          "carpet": [
           {
            "aaxis": {
             "endlinecolor": "#2a3f5f",
             "gridcolor": "white",
             "linecolor": "white",
             "minorgridcolor": "white",
             "startlinecolor": "#2a3f5f"
            },
            "baxis": {
             "endlinecolor": "#2a3f5f",
             "gridcolor": "white",
             "linecolor": "white",
             "minorgridcolor": "white",
             "startlinecolor": "#2a3f5f"
            },
            "type": "carpet"
           }
          ],
          "choropleth": [
           {
            "colorbar": {
             "outlinewidth": 0,
             "ticks": ""
            },
            "type": "choropleth"
           }
          ],
          "contour": [
           {
            "colorbar": {
             "outlinewidth": 0,
             "ticks": ""
            },
            "colorscale": [
             [
              0,
              "#0d0887"
             ],
             [
              0.1111111111111111,
              "#46039f"
             ],
             [
              0.2222222222222222,
              "#7201a8"
             ],
             [
              0.3333333333333333,
              "#9c179e"
             ],
             [
              0.4444444444444444,
              "#bd3786"
             ],
             [
              0.5555555555555556,
              "#d8576b"
             ],
             [
              0.6666666666666666,
              "#ed7953"
             ],
             [
              0.7777777777777778,
              "#fb9f3a"
             ],
             [
              0.8888888888888888,
              "#fdca26"
             ],
             [
              1,
              "#f0f921"
             ]
            ],
            "type": "contour"
           }
          ],
          "contourcarpet": [
           {
            "colorbar": {
             "outlinewidth": 0,
             "ticks": ""
            },
            "type": "contourcarpet"
           }
          ],
          "heatmap": [
           {
            "colorbar": {
             "outlinewidth": 0,
             "ticks": ""
            },
            "colorscale": [
             [
              0,
              "#0d0887"
             ],
             [
              0.1111111111111111,
              "#46039f"
             ],
             [
              0.2222222222222222,
              "#7201a8"
             ],
             [
              0.3333333333333333,
              "#9c179e"
             ],
             [
              0.4444444444444444,
              "#bd3786"
             ],
             [
              0.5555555555555556,
              "#d8576b"
             ],
             [
              0.6666666666666666,
              "#ed7953"
             ],
             [
              0.7777777777777778,
              "#fb9f3a"
             ],
             [
              0.8888888888888888,
              "#fdca26"
             ],
             [
              1,
              "#f0f921"
             ]
            ],
            "type": "heatmap"
           }
          ],
          "histogram": [
           {
            "marker": {
             "pattern": {
              "fillmode": "overlay",
              "size": 10,
              "solidity": 0.2
             }
            },
            "type": "histogram"
           }
          ],
          "histogram2d": [
           {
            "colorbar": {
             "outlinewidth": 0,
             "ticks": ""
            },
            "colorscale": [
             [
              0,
              "#0d0887"
             ],
             [
              0.1111111111111111,
              "#46039f"
             ],
             [
              0.2222222222222222,
              "#7201a8"
             ],
             [
              0.3333333333333333,
              "#9c179e"
             ],
             [
              0.4444444444444444,
              "#bd3786"
             ],
             [
              0.5555555555555556,
              "#d8576b"
             ],
             [
              0.6666666666666666,
              "#ed7953"
             ],
             [
              0.7777777777777778,
              "#fb9f3a"
             ],
             [
              0.8888888888888888,
              "#fdca26"
             ],
             [
              1,
              "#f0f921"
             ]
            ],
            "type": "histogram2d"
           }
          ],
          "histogram2dcontour": [
           {
            "colorbar": {
             "outlinewidth": 0,
             "ticks": ""
            },
            "colorscale": [
             [
              0,
              "#0d0887"
             ],
             [
              0.1111111111111111,
              "#46039f"
             ],
             [
              0.2222222222222222,
              "#7201a8"
             ],
             [
              0.3333333333333333,
              "#9c179e"
             ],
             [
              0.4444444444444444,
              "#bd3786"
             ],
             [
              0.5555555555555556,
              "#d8576b"
             ],
             [
              0.6666666666666666,
              "#ed7953"
             ],
             [
              0.7777777777777778,
              "#fb9f3a"
             ],
             [
              0.8888888888888888,
              "#fdca26"
             ],
             [
              1,
              "#f0f921"
             ]
            ],
            "type": "histogram2dcontour"
           }
          ],
          "mesh3d": [
           {
            "colorbar": {
             "outlinewidth": 0,
             "ticks": ""
            },
            "type": "mesh3d"
           }
          ],
          "parcoords": [
           {
            "line": {
             "colorbar": {
              "outlinewidth": 0,
              "ticks": ""
             }
            },
            "type": "parcoords"
           }
          ],
          "pie": [
           {
            "automargin": true,
            "type": "pie"
           }
          ],
          "scatter": [
           {
            "fillpattern": {
             "fillmode": "overlay",
             "size": 10,
             "solidity": 0.2
            },
            "type": "scatter"
           }
          ],
          "scatter3d": [
           {
            "line": {
             "colorbar": {
              "outlinewidth": 0,
              "ticks": ""
             }
            },
            "marker": {
             "colorbar": {
              "outlinewidth": 0,
              "ticks": ""
             }
            },
            "type": "scatter3d"
           }
          ],
          "scattercarpet": [
           {
            "marker": {
             "colorbar": {
              "outlinewidth": 0,
              "ticks": ""
             }
            },
            "type": "scattercarpet"
           }
          ],
          "scattergeo": [
           {
            "marker": {
             "colorbar": {
              "outlinewidth": 0,
              "ticks": ""
             }
            },
            "type": "scattergeo"
           }
          ],
          "scattergl": [
           {
            "marker": {
             "colorbar": {
              "outlinewidth": 0,
              "ticks": ""
             }
            },
            "type": "scattergl"
           }
          ],
          "scattermap": [
           {
            "marker": {
             "colorbar": {
              "outlinewidth": 0,
              "ticks": ""
             }
            },
            "type": "scattermap"
           }
          ],
          "scattermapbox": [
           {
            "marker": {
             "colorbar": {
              "outlinewidth": 0,
              "ticks": ""
             }
            },
            "type": "scattermapbox"
           }
          ],
          "scatterpolar": [
           {
            "marker": {
             "colorbar": {
              "outlinewidth": 0,
              "ticks": ""
             }
            },
            "type": "scatterpolar"
           }
          ],
          "scatterpolargl": [
           {
            "marker": {
             "colorbar": {
              "outlinewidth": 0,
              "ticks": ""
             }
            },
            "type": "scatterpolargl"
           }
          ],
          "scatterternary": [
           {
            "marker": {
             "colorbar": {
              "outlinewidth": 0,
              "ticks": ""
             }
            },
            "type": "scatterternary"
           }
          ],
          "surface": [
           {
            "colorbar": {
             "outlinewidth": 0,
             "ticks": ""
            },
            "colorscale": [
             [
              0,
              "#0d0887"
             ],
             [
              0.1111111111111111,
              "#46039f"
             ],
             [
              0.2222222222222222,
              "#7201a8"
             ],
             [
              0.3333333333333333,
              "#9c179e"
             ],
             [
              0.4444444444444444,
              "#bd3786"
             ],
             [
              0.5555555555555556,
              "#d8576b"
             ],
             [
              0.6666666666666666,
              "#ed7953"
             ],
             [
              0.7777777777777778,
              "#fb9f3a"
             ],
             [
              0.8888888888888888,
              "#fdca26"
             ],
             [
              1,
              "#f0f921"
             ]
            ],
            "type": "surface"
           }
          ],
          "table": [
           {
            "cells": {
             "fill": {
              "color": "#EBF0F8"
             },
             "line": {
              "color": "white"
             }
            },
            "header": {
             "fill": {
              "color": "#C8D4E3"
             },
             "line": {
              "color": "white"
             }
            },
            "type": "table"
           }
          ]
         },
         "layout": {
          "annotationdefaults": {
           "arrowcolor": "#2a3f5f",
           "arrowhead": 0,
           "arrowwidth": 1
          },
          "autotypenumbers": "strict",
          "coloraxis": {
           "colorbar": {
            "outlinewidth": 0,
            "ticks": ""
           }
          },
          "colorscale": {
           "diverging": [
            [
             0,
             "#8e0152"
            ],
            [
             0.1,
             "#c51b7d"
            ],
            [
             0.2,
             "#de77ae"
            ],
            [
             0.3,
             "#f1b6da"
            ],
            [
             0.4,
             "#fde0ef"
            ],
            [
             0.5,
             "#f7f7f7"
            ],
            [
             0.6,
             "#e6f5d0"
            ],
            [
             0.7,
             "#b8e186"
            ],
            [
             0.8,
             "#7fbc41"
            ],
            [
             0.9,
             "#4d9221"
            ],
            [
             1,
             "#276419"
            ]
           ],
           "sequential": [
            [
             0,
             "#0d0887"
            ],
            [
             0.1111111111111111,
             "#46039f"
            ],
            [
             0.2222222222222222,
             "#7201a8"
            ],
            [
             0.3333333333333333,
             "#9c179e"
            ],
            [
             0.4444444444444444,
             "#bd3786"
            ],
            [
             0.5555555555555556,
             "#d8576b"
            ],
            [
             0.6666666666666666,
             "#ed7953"
            ],
            [
             0.7777777777777778,
             "#fb9f3a"
            ],
            [
             0.8888888888888888,
             "#fdca26"
            ],
            [
             1,
             "#f0f921"
            ]
           ],
           "sequentialminus": [
            [
             0,
             "#0d0887"
            ],
            [
             0.1111111111111111,
             "#46039f"
            ],
            [
             0.2222222222222222,
             "#7201a8"
            ],
            [
             0.3333333333333333,
             "#9c179e"
            ],
            [
             0.4444444444444444,
             "#bd3786"
            ],
            [
             0.5555555555555556,
             "#d8576b"
            ],
            [
             0.6666666666666666,
             "#ed7953"
            ],
            [
             0.7777777777777778,
             "#fb9f3a"
            ],
            [
             0.8888888888888888,
             "#fdca26"
            ],
            [
             1,
             "#f0f921"
            ]
           ]
          },
          "colorway": [
           "#636efa",
           "#EF553B",
           "#00cc96",
           "#ab63fa",
           "#FFA15A",
           "#19d3f3",
           "#FF6692",
           "#B6E880",
           "#FF97FF",
           "#FECB52"
          ],
          "font": {
           "color": "#2a3f5f"
          },
          "geo": {
           "bgcolor": "white",
           "lakecolor": "white",
           "landcolor": "#E5ECF6",
           "showlakes": true,
           "showland": true,
           "subunitcolor": "white"
          },
          "hoverlabel": {
           "align": "left"
          },
          "hovermode": "closest",
          "mapbox": {
           "style": "light"
          },
          "paper_bgcolor": "white",
          "plot_bgcolor": "#E5ECF6",
          "polar": {
           "angularaxis": {
            "gridcolor": "white",
            "linecolor": "white",
            "ticks": ""
           },
           "bgcolor": "#E5ECF6",
           "radialaxis": {
            "gridcolor": "white",
            "linecolor": "white",
            "ticks": ""
           }
          },
          "scene": {
           "xaxis": {
            "backgroundcolor": "#E5ECF6",
            "gridcolor": "white",
            "gridwidth": 2,
            "linecolor": "white",
            "showbackground": true,
            "ticks": "",
            "zerolinecolor": "white"
           },
           "yaxis": {
            "backgroundcolor": "#E5ECF6",
            "gridcolor": "white",
            "gridwidth": 2,
            "linecolor": "white",
            "showbackground": true,
            "ticks": "",
            "zerolinecolor": "white"
           },
           "zaxis": {
            "backgroundcolor": "#E5ECF6",
            "gridcolor": "white",
            "gridwidth": 2,
            "linecolor": "white",
            "showbackground": true,
            "ticks": "",
            "zerolinecolor": "white"
           }
          },
          "shapedefaults": {
           "line": {
            "color": "#2a3f5f"
           }
          },
          "ternary": {
           "aaxis": {
            "gridcolor": "white",
            "linecolor": "white",
            "ticks": ""
           },
           "baxis": {
            "gridcolor": "white",
            "linecolor": "white",
            "ticks": ""
           },
           "bgcolor": "#E5ECF6",
           "caxis": {
            "gridcolor": "white",
            "linecolor": "white",
            "ticks": ""
           }
          },
          "title": {
           "x": 0.05
          },
          "xaxis": {
           "automargin": true,
           "gridcolor": "white",
           "linecolor": "white",
           "ticks": "",
           "title": {
            "standoff": 15
           },
           "zerolinecolor": "white",
           "zerolinewidth": 2
          },
          "yaxis": {
           "automargin": true,
           "gridcolor": "white",
           "linecolor": "white",
           "ticks": "",
           "title": {
            "standoff": 15
           },
           "zerolinecolor": "white",
           "zerolinewidth": 2
          }
         }
        },
        "title": {
         "text": "📈 Player Value Distribution by Position"
        },
        "xaxis": {
         "anchor": "y",
         "categoryarray": [
          "QB",
          "HB",
          "WR",
          "TE",
          "LT",
          "LG",
          "C",
          "RG",
          "RT",
          "LEDG",
          "REDG",
          "DT",
          "WILL",
          "MIKE",
          "SAM",
          "CB",
          "FS",
          "SS",
          "K",
          "P",
          "ATH"
         ],
         "categoryorder": "array",
         "domain": [
          0,
          1
         ],
         "title": {
          "text": "Position"
         }
        },
        "yaxis": {
         "anchor": "x",
         "domain": [
          0,
          1
         ],
         "title": {
          "text": "Player Value"
         }
        }
       }
      }
     },
     "metadata": {},
     "output_type": "display_data"
    },
    {
     "name": "stdout",
     "output_type": "stream",
     "text": [
      "💰 Player Value Statistics:\n",
      "  • Average Value: 91.1\n",
      "  • Highest Value: 129.5 (TYVONN BYARS)\n",
      "  • Lowest Value: 63.6\n",
      "  • Players > 150 Value: 0\n",
      "  • Players at Risk (100-125): 17\n",
      "  • Players to Cut (<100): 32\n"
     ]
    }
   ],
   "source": [
    "# 2. Player Value Distribution\n",
    "if roster_df is not None:\n",
    "    fig = px.box(roster_df, x='POSITION', y='VALUE',\n",
    "                 color='STATUS',\n",
    "                 title='📈 Player Value Distribution by Position',\n",
    "                 color_discrete_map={'SAFE': '#2E8B57', 'AT RISK': '#FFD700',\n",
    "                                   'CUT': '#DC143C', 'GRADUATING': '#808080'})\n",
    "\n",
    "    fig.update_layout(\n",
    "        xaxis_title=\"Position\",\n",
    "        yaxis_title=\"Player Value\",\n",
    "        height=600,\n",
    "        xaxis={'categoryorder':'array', 'categoryarray':position_order}\n",
    "    )\n",
    "\n",
    "    fig.show()\n",
    "\n",
    "    # Additional value statistics\n",
    "    print(f\"💰 Player Value Statistics:\")\n",
    "    print(f\"  • Average Value: {roster_df['VALUE'].mean():.1f}\")\n",
    "    print(f\"  • Highest Value: {roster_df['VALUE'].max():.1f} ({roster_df.loc[roster_df['VALUE'].idxmax(), 'FIRST NAME']} {roster_df.loc[roster_df['VALUE'].idxmax(), 'LAST NAME']})\")\n",
    "    print(f\"  • Lowest Value: {roster_df['VALUE'].min():.1f}\")\n",
    "    print(f\"  • Players > 150 Value: {len(roster_df[roster_df['VALUE'] > 150])}\")\n",
    "    print(f\"  • Players at Risk (100-125): {len(roster_df[roster_df['STATUS'] == 'AT RISK'])}\")\n",
    "    print(f\"  • Players to Cut (<100): {len(roster_df[roster_df['STATUS'] == 'CUT'])}\")"
   ]
  },
  {
   "cell_type": "code",
   "execution_count": 24,
   "id": "2ab37b4f",
   "metadata": {},
   "outputs": [
    {
     "data": {
      "application/vnd.plotly.v1+json": {
       "config": {
        "plotlyServerURL": "https://plot.ly"
       },
       "data": [
        {
         "colorscale": [
          [
           0,
           "green"
          ],
          [
           0.5,
           "yellow"
          ],
          [
           1,
           "red"
          ]
         ],
         "showscale": false,
         "text": [
          [
           "HIGH",
           "LOW",
           "LOW",
           "HIGH",
           "LOW",
           "LOW",
           "LOW",
           "LOW",
           "LOW",
           "LOW",
           "LOW",
           "LOW",
           "LOW",
           "LOW",
           "LOW",
           "LOW",
           "LOW",
           "HIGH",
           "LOW",
           "LOW",
           "LOW"
          ]
         ],
         "textfont": {
          "size": 10
         },
         "texttemplate": "%{text}",
         "type": "heatmap",
         "x": [
          "C",
          "CB",
          "DT",
          "FB",
          "FS",
          "HB",
          "K",
          "LEDG",
          "LG",
          "LT",
          "MIKE",
          "P",
          "QB",
          "REDG",
          "RG",
          "RT",
          "SAM",
          "SS",
          "TE",
          "WILL",
          "WR"
         ],
         "xaxis": "x",
         "y": [
          "Priority"
         ],
         "yaxis": "y",
         "z": [
          [
           3,
           1,
           1,
           3,
           1,
           1,
           1,
           1,
           1,
           1,
           1,
           1,
           1,
           1,
           1,
           1,
           1,
           3,
           1,
           1,
           1
          ]
         ]
        },
        {
         "colorscale": [
          [
           0,
           "rgb(255,245,240)"
          ],
          [
           0.125,
           "rgb(254,224,210)"
          ],
          [
           0.25,
           "rgb(252,187,161)"
          ],
          [
           0.375,
           "rgb(252,146,114)"
          ],
          [
           0.5,
           "rgb(251,106,74)"
          ],
          [
           0.625,
           "rgb(239,59,44)"
          ],
          [
           0.75,
           "rgb(203,24,29)"
          ],
          [
           0.875,
           "rgb(165,15,21)"
          ],
          [
           1,
           "rgb(103,0,13)"
          ]
         ],
         "showscale": false,
         "text": [
          [
           "4",
           "2",
           "0",
           "0",
           "1",
           "0",
           "0",
           "0",
           "1",
           "1",
           "1",
           "0",
           "0",
           "0",
           "0",
           "1",
           "1",
           "2",
           "1",
           "1",
           "2"
          ]
         ],
         "textfont": {
          "size": 10
         },
         "texttemplate": "%{text}",
         "type": "heatmap",
         "x": [
          "C",
          "CB",
          "DT",
          "FB",
          "FS",
          "HB",
          "K",
          "LEDG",
          "LG",
          "LT",
          "MIKE",
          "P",
          "QB",
          "REDG",
          "RG",
          "RT",
          "SAM",
          "SS",
          "TE",
          "WILL",
          "WR"
         ],
         "xaxis": "x2",
         "y": [
          "Need"
         ],
         "yaxis": "y2",
         "z": [
          [
           4,
           2,
           0,
           0,
           1,
           0,
           0,
           0,
           1,
           1,
           1,
           0,
           0,
           0,
           0,
           1,
           1,
           2,
           1,
           1,
           2
          ]
         ]
        },
        {
         "colorscale": [
          [
           0,
           "rgb(165,0,38)"
          ],
          [
           0.1,
           "rgb(215,48,39)"
          ],
          [
           0.2,
           "rgb(244,109,67)"
          ],
          [
           0.3,
           "rgb(253,174,97)"
          ],
          [
           0.4,
           "rgb(254,224,139)"
          ],
          [
           0.5,
           "rgb(255,255,191)"
          ],
          [
           0.6,
           "rgb(217,239,139)"
          ],
          [
           0.7,
           "rgb(166,217,106)"
          ],
          [
           0.8,
           "rgb(102,189,99)"
          ],
          [
           0.9,
           "rgb(26,152,80)"
          ],
          [
           1,
           "rgb(0,104,55)"
          ]
         ],
         "showscale": true,
         "text": [
          [
           "0",
           "102",
           "93",
           "0",
           "101",
           "119",
           "77",
           "111",
           "97",
           "99",
           "110",
           "74",
           "120",
           "98",
           "99",
           "99",
           "94",
           "87",
           "106",
           "99",
           "100"
          ]
         ],
         "textfont": {
          "size": 10
         },
         "texttemplate": "%{text}",
         "type": "heatmap",
         "x": [
          "C",
          "CB",
          "DT",
          "FB",
          "FS",
          "HB",
          "K",
          "LEDG",
          "LG",
          "LT",
          "MIKE",
          "P",
          "QB",
          "REDG",
          "RG",
          "RT",
          "SAM",
          "SS",
          "TE",
          "WILL",
          "WR"
         ],
         "xaxis": "x3",
         "y": [
          "Strength"
         ],
         "yaxis": "y3",
         "z": [
          [
           0,
           102.26,
           92.85,
           0,
           100.74,
           118.74,
           77.38,
           110.79,
           97.25,
           99.01,
           110.16,
           73.82,
           120.46,
           97.75,
           99.46,
           98.61,
           94.07,
           87.11,
           105.96,
           99.07,
           100.14
          ]
         ]
        }
       ],
       "layout": {
        "annotations": [
         {
          "font": {
           "size": 16
          },
          "showarrow": false,
          "text": "Recruiting Priority",
          "x": 0.13333333333333333,
          "xanchor": "center",
          "xref": "paper",
          "y": 1,
          "yanchor": "bottom",
          "yref": "paper"
         },
         {
          "font": {
           "size": 16
          },
          "showarrow": false,
          "text": "Position Need",
          "x": 0.5,
          "xanchor": "center",
          "xref": "paper",
          "y": 1,
          "yanchor": "bottom",
          "yref": "paper"
         },
         {
          "font": {
           "size": 16
          },
          "showarrow": false,
          "text": "Current Strength",
          "x": 0.8666666666666667,
          "xanchor": "center",
          "xref": "paper",
          "y": 1,
          "yanchor": "bottom",
          "yref": "paper"
         }
        ],
        "height": 400,
        "showlegend": false,
        "template": {
         "data": {
          "bar": [
           {
            "error_x": {
             "color": "#2a3f5f"
            },
            "error_y": {
             "color": "#2a3f5f"
            },
            "marker": {
             "line": {
              "color": "#E5ECF6",
              "width": 0.5
             },
             "pattern": {
              "fillmode": "overlay",
              "size": 10,
              "solidity": 0.2
             }
            },
            "type": "bar"
           }
          ],
          "barpolar": [
           {
            "marker": {
             "line": {
              "color": "#E5ECF6",
              "width": 0.5
             },
             "pattern": {
              "fillmode": "overlay",
              "size": 10,
              "solidity": 0.2
             }
            },
            "type": "barpolar"
           }
          ],
          "carpet": [
           {
            "aaxis": {
             "endlinecolor": "#2a3f5f",
             "gridcolor": "white",
             "linecolor": "white",
             "minorgridcolor": "white",
             "startlinecolor": "#2a3f5f"
            },
            "baxis": {
             "endlinecolor": "#2a3f5f",
             "gridcolor": "white",
             "linecolor": "white",
             "minorgridcolor": "white",
             "startlinecolor": "#2a3f5f"
            },
            "type": "carpet"
           }
          ],
          "choropleth": [
           {
            "colorbar": {
             "outlinewidth": 0,
             "ticks": ""
            },
            "type": "choropleth"
           }
          ],
          "contour": [
           {
            "colorbar": {
             "outlinewidth": 0,
             "ticks": ""
            },
            "colorscale": [
             [
              0,
              "#0d0887"
             ],
             [
              0.1111111111111111,
              "#46039f"
             ],
             [
              0.2222222222222222,
              "#7201a8"
             ],
             [
              0.3333333333333333,
              "#9c179e"
             ],
             [
              0.4444444444444444,
              "#bd3786"
             ],
             [
              0.5555555555555556,
              "#d8576b"
             ],
             [
              0.6666666666666666,
              "#ed7953"
             ],
             [
              0.7777777777777778,
              "#fb9f3a"
             ],
             [
              0.8888888888888888,
              "#fdca26"
             ],
             [
              1,
              "#f0f921"
             ]
            ],
            "type": "contour"
           }
          ],
          "contourcarpet": [
           {
            "colorbar": {
             "outlinewidth": 0,
             "ticks": ""
            },
            "type": "contourcarpet"
           }
          ],
          "heatmap": [
           {
            "colorbar": {
             "outlinewidth": 0,
             "ticks": ""
            },
            "colorscale": [
             [
              0,
              "#0d0887"
             ],
             [
              0.1111111111111111,
              "#46039f"
             ],
             [
              0.2222222222222222,
              "#7201a8"
             ],
             [
              0.3333333333333333,
              "#9c179e"
             ],
             [
              0.4444444444444444,
              "#bd3786"
             ],
             [
              0.5555555555555556,
              "#d8576b"
             ],
             [
              0.6666666666666666,
              "#ed7953"
             ],
             [
              0.7777777777777778,
              "#fb9f3a"
             ],
             [
              0.8888888888888888,
              "#fdca26"
             ],
             [
              1,
              "#f0f921"
             ]
            ],
            "type": "heatmap"
           }
          ],
          "histogram": [
           {
            "marker": {
             "pattern": {
              "fillmode": "overlay",
              "size": 10,
              "solidity": 0.2
             }
            },
            "type": "histogram"
           }
          ],
          "histogram2d": [
           {
            "colorbar": {
             "outlinewidth": 0,
             "ticks": ""
            },
            "colorscale": [
             [
              0,
              "#0d0887"
             ],
             [
              0.1111111111111111,
              "#46039f"
             ],
             [
              0.2222222222222222,
              "#7201a8"
             ],
             [
              0.3333333333333333,
              "#9c179e"
             ],
             [
              0.4444444444444444,
              "#bd3786"
             ],
             [
              0.5555555555555556,
              "#d8576b"
             ],
             [
              0.6666666666666666,
              "#ed7953"
             ],
             [
              0.7777777777777778,
              "#fb9f3a"
             ],
             [
              0.8888888888888888,
              "#fdca26"
             ],
             [
              1,
              "#f0f921"
             ]
            ],
            "type": "histogram2d"
           }
          ],
          "histogram2dcontour": [
           {
            "colorbar": {
             "outlinewidth": 0,
             "ticks": ""
            },
            "colorscale": [
             [
              0,
              "#0d0887"
             ],
             [
              0.1111111111111111,
              "#46039f"
             ],
             [
              0.2222222222222222,
              "#7201a8"
             ],
             [
              0.3333333333333333,
              "#9c179e"
             ],
             [
              0.4444444444444444,
              "#bd3786"
             ],
             [
              0.5555555555555556,
              "#d8576b"
             ],
             [
              0.6666666666666666,
              "#ed7953"
             ],
             [
              0.7777777777777778,
              "#fb9f3a"
             ],
             [
              0.8888888888888888,
              "#fdca26"
             ],
             [
              1,
              "#f0f921"
             ]
            ],
            "type": "histogram2dcontour"
           }
          ],
          "mesh3d": [
           {
            "colorbar": {
             "outlinewidth": 0,
             "ticks": ""
            },
            "type": "mesh3d"
           }
          ],
          "parcoords": [
           {
            "line": {
             "colorbar": {
              "outlinewidth": 0,
              "ticks": ""
             }
            },
            "type": "parcoords"
           }
          ],
          "pie": [
           {
            "automargin": true,
            "type": "pie"
           }
          ],
          "scatter": [
           {
            "fillpattern": {
             "fillmode": "overlay",
             "size": 10,
             "solidity": 0.2
            },
            "type": "scatter"
           }
          ],
          "scatter3d": [
           {
            "line": {
             "colorbar": {
              "outlinewidth": 0,
              "ticks": ""
             }
            },
            "marker": {
             "colorbar": {
              "outlinewidth": 0,
              "ticks": ""
             }
            },
            "type": "scatter3d"
           }
          ],
          "scattercarpet": [
           {
            "marker": {
             "colorbar": {
              "outlinewidth": 0,
              "ticks": ""
             }
            },
            "type": "scattercarpet"
           }
          ],
          "scattergeo": [
           {
            "marker": {
             "colorbar": {
              "outlinewidth": 0,
              "ticks": ""
             }
            },
            "type": "scattergeo"
           }
          ],
          "scattergl": [
           {
            "marker": {
             "colorbar": {
              "outlinewidth": 0,
              "ticks": ""
             }
            },
            "type": "scattergl"
           }
          ],
          "scattermap": [
           {
            "marker": {
             "colorbar": {
              "outlinewidth": 0,
              "ticks": ""
             }
            },
            "type": "scattermap"
           }
          ],
          "scattermapbox": [
           {
            "marker": {
             "colorbar": {
              "outlinewidth": 0,
              "ticks": ""
             }
            },
            "type": "scattermapbox"
           }
          ],
          "scatterpolar": [
           {
            "marker": {
             "colorbar": {
              "outlinewidth": 0,
              "ticks": ""
             }
            },
            "type": "scatterpolar"
           }
          ],
          "scatterpolargl": [
           {
            "marker": {
             "colorbar": {
              "outlinewidth": 0,
              "ticks": ""
             }
            },
            "type": "scatterpolargl"
           }
          ],
          "scatterternary": [
           {
            "marker": {
             "colorbar": {
              "outlinewidth": 0,
              "ticks": ""
             }
            },
            "type": "scatterternary"
           }
          ],
          "surface": [
           {
            "colorbar": {
             "outlinewidth": 0,
             "ticks": ""
            },
            "colorscale": [
             [
              0,
              "#0d0887"
             ],
             [
              0.1111111111111111,
              "#46039f"
             ],
             [
              0.2222222222222222,
              "#7201a8"
             ],
             [
              0.3333333333333333,
              "#9c179e"
             ],
             [
              0.4444444444444444,
              "#bd3786"
             ],
             [
              0.5555555555555556,
              "#d8576b"
             ],
             [
              0.6666666666666666,
              "#ed7953"
             ],
             [
              0.7777777777777778,
              "#fb9f3a"
             ],
             [
              0.8888888888888888,
              "#fdca26"
             ],
             [
              1,
              "#f0f921"
             ]
            ],
            "type": "surface"
           }
          ],
          "table": [
           {
            "cells": {
             "fill": {
              "color": "#EBF0F8"
             },
             "line": {
              "color": "white"
             }
            },
            "header": {
             "fill": {
              "color": "#C8D4E3"
             },
             "line": {
              "color": "white"
             }
            },
            "type": "table"
           }
          ]
         },
         "layout": {
          "annotationdefaults": {
           "arrowcolor": "#2a3f5f",
           "arrowhead": 0,
           "arrowwidth": 1
          },
          "autotypenumbers": "strict",
          "coloraxis": {
           "colorbar": {
            "outlinewidth": 0,
            "ticks": ""
           }
          },
          "colorscale": {
           "diverging": [
            [
             0,
             "#8e0152"
            ],
            [
             0.1,
             "#c51b7d"
            ],
            [
             0.2,
             "#de77ae"
            ],
            [
             0.3,
             "#f1b6da"
            ],
            [
             0.4,
             "#fde0ef"
            ],
            [
             0.5,
             "#f7f7f7"
            ],
            [
             0.6,
             "#e6f5d0"
            ],
            [
             0.7,
             "#b8e186"
            ],
            [
             0.8,
             "#7fbc41"
            ],
            [
             0.9,
             "#4d9221"
            ],
            [
             1,
             "#276419"
            ]
           ],
           "sequential": [
            [
             0,
             "#0d0887"
            ],
            [
             0.1111111111111111,
             "#46039f"
            ],
            [
             0.2222222222222222,
             "#7201a8"
            ],
            [
             0.3333333333333333,
             "#9c179e"
            ],
            [
             0.4444444444444444,
             "#bd3786"
            ],
            [
             0.5555555555555556,
             "#d8576b"
            ],
            [
             0.6666666666666666,
             "#ed7953"
            ],
            [
             0.7777777777777778,
             "#fb9f3a"
            ],
            [
             0.8888888888888888,
             "#fdca26"
            ],
            [
             1,
             "#f0f921"
            ]
           ],
           "sequentialminus": [
            [
             0,
             "#0d0887"
            ],
            [
             0.1111111111111111,
             "#46039f"
            ],
            [
             0.2222222222222222,
             "#7201a8"
            ],
            [
             0.3333333333333333,
             "#9c179e"
            ],
            [
             0.4444444444444444,
             "#bd3786"
            ],
            [
             0.5555555555555556,
             "#d8576b"
            ],
            [
             0.6666666666666666,
             "#ed7953"
            ],
            [
             0.7777777777777778,
             "#fb9f3a"
            ],
            [
             0.8888888888888888,
             "#fdca26"
            ],
            [
             1,
             "#f0f921"
            ]
           ]
          },
          "colorway": [
           "#636efa",
           "#EF553B",
           "#00cc96",
           "#ab63fa",
           "#FFA15A",
           "#19d3f3",
           "#FF6692",
           "#B6E880",
           "#FF97FF",
           "#FECB52"
          ],
          "font": {
           "color": "#2a3f5f"
          },
          "geo": {
           "bgcolor": "white",
           "lakecolor": "white",
           "landcolor": "#E5ECF6",
           "showlakes": true,
           "showland": true,
           "subunitcolor": "white"
          },
          "hoverlabel": {
           "align": "left"
          },
          "hovermode": "closest",
          "mapbox": {
           "style": "light"
          },
          "paper_bgcolor": "white",
          "plot_bgcolor": "#E5ECF6",
          "polar": {
           "angularaxis": {
            "gridcolor": "white",
            "linecolor": "white",
            "ticks": ""
           },
           "bgcolor": "#E5ECF6",
           "radialaxis": {
            "gridcolor": "white",
            "linecolor": "white",
            "ticks": ""
           }
          },
          "scene": {
           "xaxis": {
            "backgroundcolor": "#E5ECF6",
            "gridcolor": "white",
            "gridwidth": 2,
            "linecolor": "white",
            "showbackground": true,
            "ticks": "",
            "zerolinecolor": "white"
           },
           "yaxis": {
            "backgroundcolor": "#E5ECF6",
            "gridcolor": "white",
            "gridwidth": 2,
            "linecolor": "white",
            "showbackground": true,
            "ticks": "",
            "zerolinecolor": "white"
           },
           "zaxis": {
            "backgroundcolor": "#E5ECF6",
            "gridcolor": "white",
            "gridwidth": 2,
            "linecolor": "white",
            "showbackground": true,
            "ticks": "",
            "zerolinecolor": "white"
           }
          },
          "shapedefaults": {
           "line": {
            "color": "#2a3f5f"
           }
          },
          "ternary": {
           "aaxis": {
            "gridcolor": "white",
            "linecolor": "white",
            "ticks": ""
           },
           "baxis": {
            "gridcolor": "white",
            "linecolor": "white",
            "ticks": ""
           },
           "bgcolor": "#E5ECF6",
           "caxis": {
            "gridcolor": "white",
            "linecolor": "white",
            "ticks": ""
           }
          },
          "title": {
           "x": 0.05
          },
          "xaxis": {
           "automargin": true,
           "gridcolor": "white",
           "linecolor": "white",
           "ticks": "",
           "title": {
            "standoff": 15
           },
           "zerolinecolor": "white",
           "zerolinewidth": 2
          },
          "yaxis": {
           "automargin": true,
           "gridcolor": "white",
           "linecolor": "white",
           "ticks": "",
           "title": {
            "standoff": 15
           },
           "zerolinecolor": "white",
           "zerolinewidth": 2
          }
         }
        },
        "title": {
         "text": "🎯 Recruiting Strategy Heatmap"
        },
        "xaxis": {
         "anchor": "y",
         "domain": [
          0,
          0.26666666666666666
         ],
         "tickangle": 45
        },
        "xaxis2": {
         "anchor": "y2",
         "domain": [
          0.3666666666666667,
          0.6333333333333333
         ],
         "tickangle": 45
        },
        "xaxis3": {
         "anchor": "y3",
         "domain": [
          0.7333333333333334,
          1
         ],
         "tickangle": 45
        },
        "yaxis": {
         "anchor": "x",
         "domain": [
          0,
          1
         ]
        },
        "yaxis2": {
         "anchor": "x2",
         "domain": [
          0,
          1
         ]
        },
        "yaxis3": {
         "anchor": "x3",
         "domain": [
          0,
          1
         ]
        }
       }
      }
     },
     "metadata": {},
     "output_type": "display_data"
    },
    {
     "name": "stdout",
     "output_type": "stream",
     "text": [
      "🎯 Recruiting priority heatmap created!\n",
      "\n",
      "📋 Quick Reference:\n",
      "  🔴 RED = High Priority/High Need\n",
      "  🟡 YELLOW = Medium Priority\n",
      "  🟢 GREEN = Low Priority/Strong Position\n"
     ]
    }
   ],
   "source": [
    "# 3. Recruiting Priority Heatmap\n",
    "if roster_df is not None and recruiting_plan is not None:\n",
    "    # Create a matrix for the heatmap\n",
    "    priority_map = {'HIGH': 3, 'MEDIUM': 2, 'LOW': 1}\n",
    "    recruiting_plan['Priority_Numeric'] = recruiting_plan['Priority'].map(priority_map)\n",
    "\n",
    "    # Create heatmap data\n",
    "    heatmap_data = recruiting_plan.pivot_table(\n",
    "        index='Position',\n",
    "        values=['Priority_Numeric', 'Need', 'Blended Value'],\n",
    "        aggfunc='first'\n",
    "    ).fillna(0)\n",
    "\n",
    "    fig = make_subplots(\n",
    "        rows=1, cols=3,\n",
    "        subplot_titles=('Recruiting Priority', 'Position Need', 'Current Strength'),\n",
    "        horizontal_spacing=0.1\n",
    "    )\n",
    "\n",
    "    # Priority heatmap\n",
    "    fig.add_trace(\n",
    "        go.Heatmap(\n",
    "            z=[heatmap_data['Priority_Numeric'].values],\n",
    "            x=heatmap_data.index,\n",
    "            y=['Priority'],\n",
    "            colorscale=[[0, 'green'], [0.5, 'yellow'], [1, 'red']],\n",
    "            showscale=False,\n",
    "            text=[[recruiting_plan.set_index('Position').loc[pos, 'Priority'] for pos in heatmap_data.index]],\n",
    "            texttemplate=\"%{text}\",\n",
    "            textfont={\"size\": 10}\n",
    "        ),\n",
    "        row=1, col=1\n",
    "    )\n",
    "\n",
    "    # Need heatmap\n",
    "    fig.add_trace(\n",
    "        go.Heatmap(\n",
    "            z=[heatmap_data['Need'].values],\n",
    "            x=heatmap_data.index,\n",
    "            y=['Need'],\n",
    "            colorscale='Reds',\n",
    "            showscale=False,\n",
    "            text=[[f\"{int(val)}\" for val in heatmap_data['Need'].values]],\n",
    "            texttemplate=\"%{text}\",\n",
    "            textfont={\"size\": 10}\n",
    "        ),\n",
    "        row=1, col=2\n",
    "    )\n",
    "\n",
    "    # Strength heatmap\n",
    "    fig.add_trace(\n",
    "        go.Heatmap(\n",
    "            z=[heatmap_data['Blended Value'].values],\n",
    "            x=heatmap_data.index,\n",
    "            y=['Strength'],\n",
    "            colorscale='RdYlGn',\n",
    "            showscale=True,\n",
    "            text=[[f\"{val:.0f}\" for val in heatmap_data['Blended Value'].values]],\n",
    "            texttemplate=\"%{text}\",\n",
    "            textfont={\"size\": 10}\n",
    "        ),\n",
    "        row=1, col=3\n",
    "    )\n",
    "\n",
    "    fig.update_layout(\n",
    "        title='🎯 Recruiting Strategy Heatmap',\n",
    "        height=400,\n",
    "        showlegend=False\n",
    "    )\n",
    "\n",
    "    # Rotate x-axis labels\n",
    "    for i in range(1, 4):\n",
    "        fig.update_xaxes(tickangle=45, row=1, col=i)\n",
    "\n",
    "    fig.show()\n",
    "\n",
    "    print(\"🎯 Recruiting priority heatmap created!\")\n",
    "    print(\"\\n📋 Quick Reference:\")\n",
    "    print(\"  🔴 RED = High Priority/High Need\")\n",
    "    print(\"  🟡 YELLOW = Medium Priority\")\n",
    "    print(\"  🟢 GREEN = Low Priority/Strong Position\")"
   ]
  },
  {
   "cell_type": "code",
   "execution_count": 25,
   "id": "78723c53",
   "metadata": {},
   "outputs": [
    {
     "data": {
      "application/vnd.plotly.v1+json": {
       "config": {
        "plotlyServerURL": "https://plot.ly"
       },
       "data": [
        {
         "marker": {
          "color": "lightcoral"
         },
         "name": "Players by Year",
         "type": "bar",
         "x": [
          "FR",
          "SO",
          "JR",
          "SR",
          "FR (RS)",
          "SO (RS)",
          "JR (RS)",
          "SR (RS)"
         ],
         "xaxis": "x",
         "y": {
          "bdata": "DQMHAgMVERM=",
          "dtype": "i1"
         },
         "yaxis": "y"
        },
        {
         "marker": {
          "opacity": 0.7,
          "size": 8
         },
         "mode": "markers",
         "name": "QB",
         "type": "scatter",
         "x": [
          "SO (RS)",
          "FR",
          "JR (RS)",
          "FR (RS)"
         ],
         "xaxis": "x2",
         "y": [
          "QB",
          "QB",
          "QB",
          "QB"
         ],
         "yaxis": "y2"
        },
        {
         "marker": {
          "opacity": 0.7,
          "size": 8
         },
         "mode": "markers",
         "name": "HB",
         "type": "scatter",
         "x": [
          "JR (RS)",
          "JR (RS)",
          "SO (RS)",
          "SO",
          "FR",
          "FR"
         ],
         "xaxis": "x2",
         "y": [
          "HB",
          "HB",
          "HB",
          "HB",
          "HB",
          "HB"
         ],
         "yaxis": "y2"
        },
        {
         "marker": {
          "opacity": 0.7,
          "size": 8
         },
         "mode": "markers",
         "name": "WR",
         "type": "scatter",
         "x": [
          "SO (RS)",
          "SR (RS)",
          "JR (RS)",
          "JR (RS)",
          "SO (RS)",
          "SR (RS)",
          "SO (RS)",
          "SO (RS)"
         ],
         "xaxis": "x2",
         "y": [
          "WR",
          "WR",
          "WR",
          "WR",
          "WR",
          "WR",
          "WR",
          "WR"
         ],
         "yaxis": "y2"
        },
        {
         "marker": {
          "opacity": 0.7,
          "size": 8
         },
         "mode": "markers",
         "name": "TE",
         "type": "scatter",
         "x": [
          "SR",
          "FR",
          "SO (RS)",
          "JR"
         ],
         "xaxis": "x2",
         "y": [
          "TE",
          "TE",
          "TE",
          "TE"
         ],
         "yaxis": "y2"
        },
        {
         "marker": {
          "opacity": 0.7,
          "size": 8
         },
         "mode": "markers",
         "name": "LT",
         "type": "scatter",
         "x": [
          "SR (RS)",
          "SO (RS)",
          "JR",
          "FR"
         ],
         "xaxis": "x2",
         "y": [
          "LT",
          "LT",
          "LT",
          "LT"
         ],
         "yaxis": "y2"
        },
        {
         "marker": {
          "opacity": 0.7,
          "size": 8
         },
         "mode": "markers",
         "name": "LG",
         "type": "scatter",
         "x": [
          "SR (RS)",
          "SO",
          "FR",
          "JR (RS)"
         ],
         "xaxis": "x2",
         "y": [
          "LG",
          "LG",
          "LG",
          "LG"
         ],
         "yaxis": "y2"
        },
        {
         "marker": {
          "opacity": 0.7,
          "size": 8
         },
         "mode": "markers",
         "name": "RG",
         "type": "scatter",
         "x": [
          "SR (RS)",
          "SO (RS)",
          "JR",
          "SO (RS)",
          "FR"
         ],
         "xaxis": "x2",
         "y": [
          "RG",
          "RG",
          "RG",
          "RG",
          "RG"
         ],
         "yaxis": "y2"
        },
        {
         "marker": {
          "opacity": 0.7,
          "size": 8
         },
         "mode": "markers",
         "name": "RT",
         "type": "scatter",
         "x": [
          "SO (RS)",
          "SO (RS)",
          "SO (RS)"
         ],
         "xaxis": "x2",
         "y": [
          "RT",
          "RT",
          "RT"
         ],
         "yaxis": "y2"
        },
        {
         "marker": {
          "opacity": 0.7,
          "size": 8
         },
         "mode": "markers",
         "name": "LEDG",
         "type": "scatter",
         "x": [
          "JR (RS)",
          "FR",
          "SO (RS)",
          "FR (RS)"
         ],
         "xaxis": "x2",
         "y": [
          "LEDG",
          "LEDG",
          "LEDG",
          "LEDG"
         ],
         "yaxis": "y2"
        },
        {
         "marker": {
          "color": "lightgreen"
         },
         "name": "Avg Value by Year",
         "type": "bar",
         "x": [
          "FR",
          "SO",
          "JR",
          "SR",
          "FR (RS)",
          "SO (RS)",
          "JR (RS)",
          "SR (RS)"
         ],
         "xaxis": "x3",
         "y": {
          "bdata": "NRlgzrKpXEAAAAAAAGBYQJIkSZIkeVVAAAAAAACgUkBwPQrXo3BdQLFuUX07PlhAuewfU4aJVUAPmeyrk8pRQA==",
          "dtype": "f8"
         },
         "yaxis": "y3"
        },
        {
         "marker": {
          "color": "gold"
         },
         "name": "Next Season Projection",
         "type": "bar",
         "x": [
          "QB",
          "HB",
          "WR",
          "TE",
          "LT",
          "LG",
          "C",
          "RG",
          "RT",
          "LEDG",
          "REDG",
          "DT",
          "WILL",
          "MIKE",
          "SAM",
          "CB",
          "FS",
          "SS",
          "K",
          "P",
          "ATH"
         ],
         "xaxis": "x4",
         "y": {
          "bdata": "BAYGAwMDAAQDBAQEAwMDBQIBAQEA",
          "dtype": "i1"
         },
         "yaxis": "y4"
        }
       ],
       "layout": {
        "annotations": [
         {
          "font": {
           "size": 16
          },
          "showarrow": false,
          "text": "Current Year Distribution",
          "x": 0.225,
          "xanchor": "center",
          "xref": "paper",
          "y": 1,
          "yanchor": "bottom",
          "yref": "paper"
         },
         {
          "font": {
           "size": 16
          },
          "showarrow": false,
          "text": "Position by Year Class",
          "x": 0.775,
          "xanchor": "center",
          "xref": "paper",
          "y": 1,
          "yanchor": "bottom",
          "yref": "paper"
         },
         {
          "font": {
           "size": 16
          },
          "showarrow": false,
          "text": "Development Potential by Year",
          "x": 0.225,
          "xanchor": "center",
          "xref": "paper",
          "y": 0.375,
          "yanchor": "bottom",
          "yref": "paper"
         },
         {
          "font": {
           "size": 16
          },
          "showarrow": false,
          "text": "Future Roster Projection",
          "x": 0.775,
          "xanchor": "center",
          "xref": "paper",
          "y": 0.375,
          "yanchor": "bottom",
          "yref": "paper"
         }
        ],
        "height": 800,
        "showlegend": false,
        "template": {
         "data": {
          "bar": [
           {
            "error_x": {
             "color": "#2a3f5f"
            },
            "error_y": {
             "color": "#2a3f5f"
            },
            "marker": {
             "line": {
              "color": "#E5ECF6",
              "width": 0.5
             },
             "pattern": {
              "fillmode": "overlay",
              "size": 10,
              "solidity": 0.2
             }
            },
            "type": "bar"
           }
          ],
          "barpolar": [
           {
            "marker": {
             "line": {
              "color": "#E5ECF6",
              "width": 0.5
             },
             "pattern": {
              "fillmode": "overlay",
              "size": 10,
              "solidity": 0.2
             }
            },
            "type": "barpolar"
           }
          ],
          "carpet": [
           {
            "aaxis": {
             "endlinecolor": "#2a3f5f",
             "gridcolor": "white",
             "linecolor": "white",
             "minorgridcolor": "white",
             "startlinecolor": "#2a3f5f"
            },
            "baxis": {
             "endlinecolor": "#2a3f5f",
             "gridcolor": "white",
             "linecolor": "white",
             "minorgridcolor": "white",
             "startlinecolor": "#2a3f5f"
            },
            "type": "carpet"
           }
          ],
          "choropleth": [
           {
            "colorbar": {
             "outlinewidth": 0,
             "ticks": ""
            },
            "type": "choropleth"
           }
          ],
          "contour": [
           {
            "colorbar": {
             "outlinewidth": 0,
             "ticks": ""
            },
            "colorscale": [
             [
              0,
              "#0d0887"
             ],
             [
              0.1111111111111111,
              "#46039f"
             ],
             [
              0.2222222222222222,
              "#7201a8"
             ],
             [
              0.3333333333333333,
              "#9c179e"
             ],
             [
              0.4444444444444444,
              "#bd3786"
             ],
             [
              0.5555555555555556,
              "#d8576b"
             ],
             [
              0.6666666666666666,
              "#ed7953"
             ],
             [
              0.7777777777777778,
              "#fb9f3a"
             ],
             [
              0.8888888888888888,
              "#fdca26"
             ],
             [
              1,
              "#f0f921"
             ]
            ],
            "type": "contour"
           }
          ],
          "contourcarpet": [
           {
            "colorbar": {
             "outlinewidth": 0,
             "ticks": ""
            },
            "type": "contourcarpet"
           }
          ],
          "heatmap": [
           {
            "colorbar": {
             "outlinewidth": 0,
             "ticks": ""
            },
            "colorscale": [
             [
              0,
              "#0d0887"
             ],
             [
              0.1111111111111111,
              "#46039f"
             ],
             [
              0.2222222222222222,
              "#7201a8"
             ],
             [
              0.3333333333333333,
              "#9c179e"
             ],
             [
              0.4444444444444444,
              "#bd3786"
             ],
             [
              0.5555555555555556,
              "#d8576b"
             ],
             [
              0.6666666666666666,
              "#ed7953"
             ],
             [
              0.7777777777777778,
              "#fb9f3a"
             ],
             [
              0.8888888888888888,
              "#fdca26"
             ],
             [
              1,
              "#f0f921"
             ]
            ],
            "type": "heatmap"
           }
          ],
          "histogram": [
           {
            "marker": {
             "pattern": {
              "fillmode": "overlay",
              "size": 10,
              "solidity": 0.2
             }
            },
            "type": "histogram"
           }
          ],
          "histogram2d": [
           {
            "colorbar": {
             "outlinewidth": 0,
             "ticks": ""
            },
            "colorscale": [
             [
              0,
              "#0d0887"
             ],
             [
              0.1111111111111111,
              "#46039f"
             ],
             [
              0.2222222222222222,
              "#7201a8"
             ],
             [
              0.3333333333333333,
              "#9c179e"
             ],
             [
              0.4444444444444444,
              "#bd3786"
             ],
             [
              0.5555555555555556,
              "#d8576b"
             ],
             [
              0.6666666666666666,
              "#ed7953"
             ],
             [
              0.7777777777777778,
              "#fb9f3a"
             ],
             [
              0.8888888888888888,
              "#fdca26"
             ],
             [
              1,
              "#f0f921"
             ]
            ],
            "type": "histogram2d"
           }
          ],
          "histogram2dcontour": [
           {
            "colorbar": {
             "outlinewidth": 0,
             "ticks": ""
            },
            "colorscale": [
             [
              0,
              "#0d0887"
             ],
             [
              0.1111111111111111,
              "#46039f"
             ],
             [
              0.2222222222222222,
              "#7201a8"
             ],
             [
              0.3333333333333333,
              "#9c179e"
             ],
             [
              0.4444444444444444,
              "#bd3786"
             ],
             [
              0.5555555555555556,
              "#d8576b"
             ],
             [
              0.6666666666666666,
              "#ed7953"
             ],
             [
              0.7777777777777778,
              "#fb9f3a"
             ],
             [
              0.8888888888888888,
              "#fdca26"
             ],
             [
              1,
              "#f0f921"
             ]
            ],
            "type": "histogram2dcontour"
           }
          ],
          "mesh3d": [
           {
            "colorbar": {
             "outlinewidth": 0,
             "ticks": ""
            },
            "type": "mesh3d"
           }
          ],
          "parcoords": [
           {
            "line": {
             "colorbar": {
              "outlinewidth": 0,
              "ticks": ""
             }
            },
            "type": "parcoords"
           }
          ],
          "pie": [
           {
            "automargin": true,
            "type": "pie"
           }
          ],
          "scatter": [
           {
            "fillpattern": {
             "fillmode": "overlay",
             "size": 10,
             "solidity": 0.2
            },
            "type": "scatter"
           }
          ],
          "scatter3d": [
           {
            "line": {
             "colorbar": {
              "outlinewidth": 0,
              "ticks": ""
             }
            },
            "marker": {
             "colorbar": {
              "outlinewidth": 0,
              "ticks": ""
             }
            },
            "type": "scatter3d"
           }
          ],
          "scattercarpet": [
           {
            "marker": {
             "colorbar": {
              "outlinewidth": 0,
              "ticks": ""
             }
            },
            "type": "scattercarpet"
           }
          ],
          "scattergeo": [
           {
            "marker": {
             "colorbar": {
              "outlinewidth": 0,
              "ticks": ""
             }
            },
            "type": "scattergeo"
           }
          ],
          "scattergl": [
           {
            "marker": {
             "colorbar": {
              "outlinewidth": 0,
              "ticks": ""
             }
            },
            "type": "scattergl"
           }
          ],
          "scattermap": [
           {
            "marker": {
             "colorbar": {
              "outlinewidth": 0,
              "ticks": ""
             }
            },
            "type": "scattermap"
           }
          ],
          "scattermapbox": [
           {
            "marker": {
             "colorbar": {
              "outlinewidth": 0,
              "ticks": ""
             }
            },
            "type": "scattermapbox"
           }
          ],
          "scatterpolar": [
           {
            "marker": {
             "colorbar": {
              "outlinewidth": 0,
              "ticks": ""
             }
            },
            "type": "scatterpolar"
           }
          ],
          "scatterpolargl": [
           {
            "marker": {
             "colorbar": {
              "outlinewidth": 0,
              "ticks": ""
             }
            },
            "type": "scatterpolargl"
           }
          ],
          "scatterternary": [
           {
            "marker": {
             "colorbar": {
              "outlinewidth": 0,
              "ticks": ""
             }
            },
            "type": "scatterternary"
           }
          ],
          "surface": [
           {
            "colorbar": {
             "outlinewidth": 0,
             "ticks": ""
            },
            "colorscale": [
             [
              0,
              "#0d0887"
             ],
             [
              0.1111111111111111,
              "#46039f"
             ],
             [
              0.2222222222222222,
              "#7201a8"
             ],
             [
              0.3333333333333333,
              "#9c179e"
             ],
             [
              0.4444444444444444,
              "#bd3786"
             ],
             [
              0.5555555555555556,
              "#d8576b"
             ],
             [
              0.6666666666666666,
              "#ed7953"
             ],
             [
              0.7777777777777778,
              "#fb9f3a"
             ],
             [
              0.8888888888888888,
              "#fdca26"
             ],
             [
              1,
              "#f0f921"
             ]
            ],
            "type": "surface"
           }
          ],
          "table": [
           {
            "cells": {
             "fill": {
              "color": "#EBF0F8"
             },
             "line": {
              "color": "white"
             }
            },
            "header": {
             "fill": {
              "color": "#C8D4E3"
             },
             "line": {
              "color": "white"
             }
            },
            "type": "table"
           }
          ]
         },
         "layout": {
          "annotationdefaults": {
           "arrowcolor": "#2a3f5f",
           "arrowhead": 0,
           "arrowwidth": 1
          },
          "autotypenumbers": "strict",
          "coloraxis": {
           "colorbar": {
            "outlinewidth": 0,
            "ticks": ""
           }
          },
          "colorscale": {
           "diverging": [
            [
             0,
             "#8e0152"
            ],
            [
             0.1,
             "#c51b7d"
            ],
            [
             0.2,
             "#de77ae"
            ],
            [
             0.3,
             "#f1b6da"
            ],
            [
             0.4,
             "#fde0ef"
            ],
            [
             0.5,
             "#f7f7f7"
            ],
            [
             0.6,
             "#e6f5d0"
            ],
            [
             0.7,
             "#b8e186"
            ],
            [
             0.8,
             "#7fbc41"
            ],
            [
             0.9,
             "#4d9221"
            ],
            [
             1,
             "#276419"
            ]
           ],
           "sequential": [
            [
             0,
             "#0d0887"
            ],
            [
             0.1111111111111111,
             "#46039f"
            ],
            [
             0.2222222222222222,
             "#7201a8"
            ],
            [
             0.3333333333333333,
             "#9c179e"
            ],
            [
             0.4444444444444444,
             "#bd3786"
            ],
            [
             0.5555555555555556,
             "#d8576b"
            ],
            [
             0.6666666666666666,
             "#ed7953"
            ],
            [
             0.7777777777777778,
             "#fb9f3a"
            ],
            [
             0.8888888888888888,
             "#fdca26"
            ],
            [
             1,
             "#f0f921"
            ]
           ],
           "sequentialminus": [
            [
             0,
             "#0d0887"
            ],
            [
             0.1111111111111111,
             "#46039f"
            ],
            [
             0.2222222222222222,
             "#7201a8"
            ],
            [
             0.3333333333333333,
             "#9c179e"
            ],
            [
             0.4444444444444444,
             "#bd3786"
            ],
            [
             0.5555555555555556,
             "#d8576b"
            ],
            [
             0.6666666666666666,
             "#ed7953"
            ],
            [
             0.7777777777777778,
             "#fb9f3a"
            ],
            [
             0.8888888888888888,
             "#fdca26"
            ],
            [
             1,
             "#f0f921"
            ]
           ]
          },
          "colorway": [
           "#636efa",
           "#EF553B",
           "#00cc96",
           "#ab63fa",
           "#FFA15A",
           "#19d3f3",
           "#FF6692",
           "#B6E880",
           "#FF97FF",
           "#FECB52"
          ],
          "font": {
           "color": "#2a3f5f"
          },
          "geo": {
           "bgcolor": "white",
           "lakecolor": "white",
           "landcolor": "#E5ECF6",
           "showlakes": true,
           "showland": true,
           "subunitcolor": "white"
          },
          "hoverlabel": {
           "align": "left"
          },
          "hovermode": "closest",
          "mapbox": {
           "style": "light"
          },
          "paper_bgcolor": "white",
          "plot_bgcolor": "#E5ECF6",
          "polar": {
           "angularaxis": {
            "gridcolor": "white",
            "linecolor": "white",
            "ticks": ""
           },
           "bgcolor": "#E5ECF6",
           "radialaxis": {
            "gridcolor": "white",
            "linecolor": "white",
            "ticks": ""
           }
          },
          "scene": {
           "xaxis": {
            "backgroundcolor": "#E5ECF6",
            "gridcolor": "white",
            "gridwidth": 2,
            "linecolor": "white",
            "showbackground": true,
            "ticks": "",
            "zerolinecolor": "white"
           },
           "yaxis": {
            "backgroundcolor": "#E5ECF6",
            "gridcolor": "white",
            "gridwidth": 2,
            "linecolor": "white",
            "showbackground": true,
            "ticks": "",
            "zerolinecolor": "white"
           },
           "zaxis": {
            "backgroundcolor": "#E5ECF6",
            "gridcolor": "white",
            "gridwidth": 2,
            "linecolor": "white",
            "showbackground": true,
            "ticks": "",
            "zerolinecolor": "white"
           }
          },
          "shapedefaults": {
           "line": {
            "color": "#2a3f5f"
           }
          },
          "ternary": {
           "aaxis": {
            "gridcolor": "white",
            "linecolor": "white",
            "ticks": ""
           },
           "baxis": {
            "gridcolor": "white",
            "linecolor": "white",
            "ticks": ""
           },
           "bgcolor": "#E5ECF6",
           "caxis": {
            "gridcolor": "white",
            "linecolor": "white",
            "ticks": ""
           }
          },
          "title": {
           "x": 0.05
          },
          "xaxis": {
           "automargin": true,
           "gridcolor": "white",
           "linecolor": "white",
           "ticks": "",
           "title": {
            "standoff": 15
           },
           "zerolinecolor": "white",
           "zerolinewidth": 2
          },
          "yaxis": {
           "automargin": true,
           "gridcolor": "white",
           "linecolor": "white",
           "ticks": "",
           "title": {
            "standoff": 15
           },
           "zerolinecolor": "white",
           "zerolinewidth": 2
          }
         }
        },
        "title": {
         "text": "📅 Year Class Analysis & Future Outlook"
        },
        "xaxis": {
         "anchor": "y",
         "domain": [
          0,
          0.45
         ],
         "title": {
          "text": "Year"
         }
        },
        "xaxis2": {
         "anchor": "y2",
         "domain": [
          0.55,
          1
         ],
         "title": {
          "text": "Year"
         }
        },
        "xaxis3": {
         "anchor": "y3",
         "domain": [
          0,
          0.45
         ],
         "title": {
          "text": "Year"
         }
        },
        "xaxis4": {
         "anchor": "y4",
         "domain": [
          0.55,
          1
         ],
         "tickangle": 45,
         "title": {
          "text": "Position"
         }
        },
        "yaxis": {
         "anchor": "x",
         "domain": [
          0.625,
          1
         ],
         "title": {
          "text": "Player Count"
         }
        },
        "yaxis2": {
         "anchor": "x2",
         "domain": [
          0.625,
          1
         ],
         "title": {
          "text": "Position"
         }
        },
        "yaxis3": {
         "anchor": "x3",
         "domain": [
          0,
          0.375
         ],
         "title": {
          "text": "Average Value"
         }
        },
        "yaxis4": {
         "anchor": "x4",
         "domain": [
          0,
          0.375
         ],
         "title": {
          "text": "Player Count"
         }
        }
       }
      }
     },
     "metadata": {},
     "output_type": "display_data"
    },
    {
     "name": "stdout",
     "output_type": "stream",
     "text": [
      "📅 Year Class Insights:\n",
      "  • 21 players graduating (24.7% of roster)\n",
      "  • 64 players returning next season\n",
      "  • Positions losing most players: CB, DT, WR\n"
     ]
    }
   ],
   "source": [
    "# 4. Year Class Distribution and Future Outlook\n",
    "if roster_df is not None:\n",
    "    # Create year class analysis\n",
    "    year_order = ['FR', 'SO', 'JR', 'SR', 'FR (RS)', 'SO (RS)', 'JR (RS)', 'SR (RS)']\n",
    "\n",
    "    fig = make_subplots(\n",
    "        rows=2, cols=2,\n",
    "        subplot_titles=('Current Year Distribution', 'Position by Year Class',\n",
    "                       'Development Potential by Year', 'Future Roster Projection'),\n",
    "        specs=[[{\"type\": \"bar\"}, {\"type\": \"scatter\"}],\n",
    "               [{\"type\": \"bar\"}, {\"type\": \"bar\"}]]\n",
    "    )\n",
    "\n",
    "    # Year distribution\n",
    "    year_counts = roster_df['YEAR'].value_counts().reindex(year_order).fillna(0)\n",
    "    fig.add_trace(\n",
    "        go.Bar(x=year_counts.index, y=year_counts.values,\n",
    "               name=\"Players by Year\", marker_color='lightcoral'),\n",
    "        row=1, col=1\n",
    "    )\n",
    "\n",
    "    # Position by year (scatter plot)\n",
    "    for pos in position_order[:10]:  # Show top 10 positions to avoid clutter\n",
    "        pos_data = roster_df[roster_df['POSITION'] == pos]\n",
    "        if len(pos_data) > 0:\n",
    "            fig.add_trace(\n",
    "                go.Scatter(x=pos_data['YEAR'], y=[pos] * len(pos_data),\n",
    "                          mode='markers', name=pos,\n",
    "                          marker=dict(size=8, opacity=0.7)),\n",
    "                row=1, col=2\n",
    "            )\n",
    "\n",
    "    # Development potential by year\n",
    "    year_dev_potential = roster_df.groupby('YEAR')['VALUE'].mean().reindex(year_order).fillna(0)\n",
    "    fig.add_trace(\n",
    "        go.Bar(x=year_dev_potential.index, y=year_dev_potential.values,\n",
    "               name=\"Avg Value by Year\", marker_color='lightgreen'),\n",
    "        row=2, col=1\n",
    "    )\n",
    "\n",
    "    # Future projection (non-graduating players)\n",
    "    future_roster = roster_df[roster_df['STATUS'] != 'GRADUATING']\n",
    "    future_counts = future_roster['POSITION'].value_counts().reindex(position_order).fillna(0)\n",
    "    fig.add_trace(\n",
    "        go.Bar(x=future_counts.index, y=future_counts.values,\n",
    "               name=\"Next Season Projection\", marker_color='gold'),\n",
    "        row=2, col=2\n",
    "    )\n",
    "\n",
    "    fig.update_layout(height=800, title_text=\"📅 Year Class Analysis & Future Outlook\", showlegend=False)\n",
    "    fig.update_xaxes(title_text=\"Year\", row=1, col=1)\n",
    "    fig.update_yaxes(title_text=\"Player Count\", row=1, col=1)\n",
    "    fig.update_xaxes(title_text=\"Year\", row=1, col=2)\n",
    "    fig.update_yaxes(title_text=\"Position\", row=1, col=2)\n",
    "    fig.update_xaxes(title_text=\"Year\", row=2, col=1)\n",
    "    fig.update_yaxes(title_text=\"Average Value\", row=2, col=1)\n",
    "    fig.update_xaxes(title_text=\"Position\", row=2, col=2, tickangle=45)\n",
    "    fig.update_yaxes(title_text=\"Player Count\", row=2, col=2)\n",
    "\n",
    "    fig.show()\n",
    "\n",
    "    # Print year class insights\n",
    "    print(\"📅 Year Class Insights:\")\n",
    "    graduating = len(roster_df[roster_df['STATUS'] == 'GRADUATING'])\n",
    "    total_players = len(roster_df)\n",
    "    print(f\"  • {graduating} players graduating ({graduating/total_players*100:.1f}% of roster)\")\n",
    "    print(f\"  • {len(future_roster)} players returning next season\")\n",
    "\n",
    "    # Show positions most affected by graduation\n",
    "    grad_by_pos = roster_df[roster_df['STATUS'] == 'GRADUATING']['POSITION'].value_counts()\n",
    "    if len(grad_by_pos) > 0:\n",
    "        print(f\"  • Positions losing most players: {', '.join(grad_by_pos.head(3).index.tolist())}\")"
   ]
  },
  {
   "cell_type": "code",
   "execution_count": 26,
   "id": "14e58a8e",
   "metadata": {},
   "outputs": [
    {
     "name": "stdout",
     "output_type": "stream",
     "text": [
      "✅ Geographic data found! Creating heatmaps...\n",
      "🗺️ Geocoding 68 cities...\n",
      "📦 Using saved coordinates for ALLEN, TX\n",
      "📦 Using saved coordinates for ALPINE, UT\n",
      "📦 Using saved coordinates for ATLANTA, GA\n",
      "📦 Using saved coordinates for AUBURN, AL\n",
      "📦 Using saved coordinates for BAKERSFIELD, CA\n",
      "📦 Using saved coordinates for BENTON, LA\n",
      "📦 Using saved coordinates for BILOXI, MS\n",
      "📦 Using saved coordinates for CARROLLTON, TX\n",
      "📦 Using saved coordinates for CEDAR HILL, TX\n",
      "📦 Using saved coordinates for CIBOLO, TX\n",
      "📦 Using saved coordinates for COLLEYVILLE, TX\n",
      "📦 Using saved coordinates for COLLIERVILLE, TN\n",
      "📦 Using saved coordinates for COLORADO SPRINGS, CO\n",
      "📦 Using saved coordinates for CYPRESS, TX\n",
      "📦 Using saved coordinates for DEMOPOLIS, AL\n",
      "📦 Using saved coordinates for DENTON, TX\n",
      "📦 Using saved coordinates for DICKINSON, TX\n",
      "📦 Using saved coordinates for ELLICOTT, MD\n",
      "📦 Using saved coordinates for FOLSOM, CA\n",
      "📦 Using saved coordinates for FORT LAUDERDALE, FL\n",
      "📦 Using saved coordinates for FORT WORTH, TX\n",
      "📦 Using saved coordinates for FOUNTAIN VALLEY, CA\n",
      "📦 Using saved coordinates for FRESNO, TX\n",
      "📦 Using saved coordinates for FRISCO, TX\n",
      "📦 Using saved coordinates for GEORGETOWN, TX\n",
      "📦 Using saved coordinates for GERMANTOWN, TN\n",
      "📦 Using saved coordinates for HOOVER, AL\n",
      "📦 Using saved coordinates for HOUSTON, TX\n",
      "📦 Using saved coordinates for HUFFMAN, TX\n",
      "📦 Using saved coordinates for INGLEWOOD, CA\n",
      "📦 Using saved coordinates for JOLIET, IL\n",
      "📦 Using saved coordinates for KATY, TX\n",
      "📦 Using saved coordinates for KEMPNER, TX\n",
      "📦 Using saved coordinates for LA MIRADA, CA\n",
      "📦 Using saved coordinates for LEWISVILLE, TX\n",
      "📦 Using saved coordinates for MANSFIELD, TX\n",
      "📦 Using saved coordinates for MANVEL, TX\n",
      "📦 Using saved coordinates for MARIETTA, GA\n",
      "📦 Using saved coordinates for MCKINNEY, TX\n",
      "📦 Using saved coordinates for MIDDLESEX, NJ\n",
      "📦 Using saved coordinates for MISSOURI CITY, TX\n",
      "📦 Using saved coordinates for MONTGOMERY, TX\n",
      "📦 Using saved coordinates for NEEDVILLE, TX\n",
      "📦 Using saved coordinates for PACE, FL\n",
      "📦 Using saved coordinates for PASADENA, CA\n",
      "📦 Using saved coordinates for PATERSON, NJ\n",
      "📦 Using saved coordinates for PETALUMA, CA\n",
      "📦 Using saved coordinates for PFLUGERVILLE, TX\n",
      "📦 Using saved coordinates for PLANO, TX\n",
      "📦 Using saved coordinates for PRINCETON, NJ\n",
      "📦 Using saved coordinates for RIDGELAND, MS\n",
      "📦 Using saved coordinates for ROCKLIN, CA\n",
      "📦 Using saved coordinates for ROUND ROCK, TX\n",
      "📦 Using saved coordinates for SARDIS, MS\n",
      "📦 Using saved coordinates for SCHERTZ, TX\n",
      "📦 Using saved coordinates for SHREVEPORT, LA\n",
      "📦 Using saved coordinates for SILSBEE, TX\n",
      "📦 Using saved coordinates for SIOUX FALLS, SD\n",
      "📦 Using saved coordinates for SLIDELL, LA\n",
      "📦 Using saved coordinates for SPRING, TX\n",
      "📦 Using saved coordinates for SPRINGFIELD, PA\n",
      "📦 Using saved coordinates for STAFFORD, TX\n",
      "📦 Using saved coordinates for SULPHUR, LA\n",
      "📦 Using saved coordinates for TROPHY CLUB, TX\n",
      "📦 Using saved coordinates for VAN, TX\n",
      "📦 Using saved coordinates for WARREN, OH\n",
      "📦 Using saved coordinates for WASHINGTON, DE\n",
      "📦 Using saved coordinates for WATSONVILLE, CA\n",
      "📍 Successfully plotted 68 cities on map\n"
     ]
    },
    {
     "data": {
      "application/vnd.plotly.v1+json": {
       "config": {
        "plotlyServerURL": "https://plot.ly"
       },
       "data": [
        {
         "colorbar": {
          "title": {
           "text": "Players"
          }
         },
         "colorscale": [
          [
           0,
           "rgb(255,245,240)"
          ],
          [
           0.125,
           "rgb(254,224,210)"
          ],
          [
           0.25,
           "rgb(252,187,161)"
          ],
          [
           0.375,
           "rgb(252,146,114)"
          ],
          [
           0.5,
           "rgb(251,106,74)"
          ],
          [
           0.625,
           "rgb(239,59,44)"
          ],
          [
           0.75,
           "rgb(203,24,29)"
          ],
          [
           0.875,
           "rgb(165,15,21)"
          ],
          [
           1,
           "rgb(103,0,13)"
          ]
         ],
         "locationmode": "USA-states",
         "locations": [
          "TX",
          "CA",
          "LA",
          "AL",
          "GA",
          "MS",
          "NJ",
          "FL",
          "TN",
          "OH",
          "IL",
          "UT",
          "DE",
          "SD",
          "PA",
          "MD",
          "CO"
         ],
         "marker": {
          "line": {
           "color": "white"
          }
         },
         "text": [
          "TX",
          "CA",
          "LA",
          "AL",
          "GA",
          "MS",
          "NJ",
          "FL",
          "TN",
          "OH",
          "IL",
          "UT",
          "DE",
          "SD",
          "PA",
          "MD",
          "CO"
         ],
         "type": "choropleth",
         "z": {
          "bdata": "MAkEAwMDAwICAQEBAQEBAQE=",
          "dtype": "i1"
         }
        },
        {
         "hovertemplate": "%{text}<extra></extra>",
         "lat": [
          33.1031744,
          40.453253,
          33.7544657,
          32.6098566,
          35.3738712,
          32.6948677,
          30.4007626,
          32.9515472,
          32.5888072,
          29.5707831,
          32.8809603,
          35.042036,
          38.8339578,
          29.9691116,
          32.5178284,
          33.1838787,
          29.4607876,
          39.2757359,
          38.6779591,
          26.1223084,
          32.753177,
          33.7038145,
          29.5388465,
          33.1505998,
          30.6370152,
          35.0867577,
          33.350293,
          29.7589382,
          30.0271626,
          33.9562003,
          41.5263603,
          29.7857853,
          31.081007,
          33.9060971,
          33.046233,
          32.563487,
          29.4664706,
          33.9528472,
          33.1976496,
          40.4279708,
          29.6185669,
          30.301949,
          29.3974305,
          30.5964175,
          34.1476507,
          40.9167654,
          38.2325829,
          30.4393696,
          33.0136764,
          40.3496953,
          32.4284761,
          38.7907339,
          30.5085915,
          34.4370511,
          29.5641617,
          32.5135356,
          30.3490978,
          43.5476008,
          30.2751945,
          30.0795707,
          39.9306677,
          29.6160671,
          30.2365943,
          33.0046775,
          32.5249071,
          39.4203978,
          38.8950368,
          36.9092773
         ],
         "locationmode": "USA-states",
         "lon": [
          -96.6705503,
          -111.7779596,
          -84.3898151,
          -85.4807825,
          -119.019463,
          -93.7418454,
          -88.8893818,
          -96.9034244,
          -96.9553675,
          -98.2330927,
          -97.155012,
          -89.6645266,
          -104.825348,
          -95.6971686,
          -87.8368201,
          -97.1413417,
          -95.0513173,
          -76.8317417,
          -121.176058,
          -80.1433786,
          -97.3327459,
          -117.9627349,
          -95.4474414,
          -96.8238183,
          -97.6775634,
          -89.8100858,
          -86.851123,
          -95.3676974,
          -95.0857627,
          -118.353132,
          -88.0840212,
          -95.8243956,
          -98.0025249,
          -118.0107092,
          -96.994174,
          -97.1420308,
          -95.355714,
          -84.5496148,
          -96.6154471,
          -74.3963102,
          -95.5377215,
          -95.5065944,
          -95.8380978,
          -87.1662647,
          -118.144155,
          -74.171811,
          -122.636465,
          -97.6200043,
          -96.6925096,
          -74.6597376,
          -90.1323087,
          -121.2357828,
          -97.6788056,
          -89.9159227,
          -98.2695702,
          -93.7477839,
          -94.1779626,
          -96.7293629,
          -89.7811745,
          -95.4187924,
          -75.3201879,
          -95.5577221,
          -93.3773783,
          -97.2055989,
          -95.63773,
          -84.180897,
          -77.0365427,
          -121.7529071
         ],
         "marker": {
          "color": "darkblue",
          "line": {
           "color": "white",
           "width": 2
          },
          "opacity": 0.8,
          "size": [
           11,
           11,
           14,
           11,
           11,
           11,
           11,
           11,
           11,
           11,
           11,
           11,
           11,
           14,
           11,
           11,
           14,
           11,
           11,
           11,
           14,
           11,
           11,
           11,
           11,
           11,
           11,
           41,
           11,
           11,
           11,
           17,
           11,
           11,
           11,
           11,
           11,
           11,
           11,
           11,
           11,
           11,
           11,
           11,
           11,
           11,
           11,
           11,
           11,
           11,
           11,
           11,
           11,
           11,
           11,
           11,
           11,
           11,
           11,
           14,
           11,
           11,
           11,
           11,
           11,
           11,
           11,
           11
          ],
          "symbol": "circle"
         },
         "mode": "markers",
         "name": "Cities",
         "text": [
          "ALLEN, TX<br>1 player(s)",
          "ALPINE, UT<br>1 player(s)",
          "ATLANTA, GA<br>2 player(s)",
          "AUBURN, AL<br>1 player(s)",
          "BAKERSFIELD, CA<br>1 player(s)",
          "BENTON, LA<br>1 player(s)",
          "BILOXI, MS<br>1 player(s)",
          "CARROLLTON, TX<br>1 player(s)",
          "CEDAR HILL, TX<br>1 player(s)",
          "CIBOLO, TX<br>1 player(s)",
          "COLLEYVILLE, TX<br>1 player(s)",
          "COLLIERVILLE, TN<br>1 player(s)",
          "COLORADO SPRINGS, CO<br>1 player(s)",
          "CYPRESS, TX<br>2 player(s)",
          "DEMOPOLIS, AL<br>1 player(s)",
          "DENTON, TX<br>1 player(s)",
          "DICKINSON, TX<br>2 player(s)",
          "ELLICOTT, MD<br>1 player(s)",
          "FOLSOM, CA<br>1 player(s)",
          "FORT LAUDERDALE, FL<br>1 player(s)",
          "FORT WORTH, TX<br>2 player(s)",
          "FOUNTAIN VALLEY, CA<br>1 player(s)",
          "FRESNO, TX<br>1 player(s)",
          "FRISCO, TX<br>1 player(s)",
          "GEORGETOWN, TX<br>1 player(s)",
          "GERMANTOWN, TN<br>1 player(s)",
          "HOOVER, AL<br>1 player(s)",
          "HOUSTON, TX<br>11 player(s)",
          "HUFFMAN, TX<br>1 player(s)",
          "INGLEWOOD, CA<br>1 player(s)",
          "JOLIET, IL<br>1 player(s)",
          "KATY, TX<br>3 player(s)",
          "KEMPNER, TX<br>1 player(s)",
          "LA MIRADA, CA<br>1 player(s)",
          "LEWISVILLE, TX<br>1 player(s)",
          "MANSFIELD, TX<br>1 player(s)",
          "MANVEL, TX<br>1 player(s)",
          "MARIETTA, GA<br>1 player(s)",
          "MCKINNEY, TX<br>1 player(s)",
          "MIDDLESEX, NJ<br>1 player(s)",
          "MISSOURI CITY, TX<br>1 player(s)",
          "MONTGOMERY, TX<br>1 player(s)",
          "NEEDVILLE, TX<br>1 player(s)",
          "PACE, FL<br>1 player(s)",
          "PASADENA, CA<br>1 player(s)",
          "PATERSON, NJ<br>1 player(s)",
          "PETALUMA, CA<br>1 player(s)",
          "PFLUGERVILLE, TX<br>1 player(s)",
          "PLANO, TX<br>1 player(s)",
          "PRINCETON, NJ<br>1 player(s)",
          "RIDGELAND, MS<br>1 player(s)",
          "ROCKLIN, CA<br>1 player(s)",
          "ROUND ROCK, TX<br>1 player(s)",
          "SARDIS, MS<br>1 player(s)",
          "SCHERTZ, TX<br>1 player(s)",
          "SHREVEPORT, LA<br>1 player(s)",
          "SILSBEE, TX<br>1 player(s)",
          "SIOUX FALLS, SD<br>1 player(s)",
          "SLIDELL, LA<br>1 player(s)",
          "SPRING, TX<br>2 player(s)",
          "SPRINGFIELD, PA<br>1 player(s)",
          "STAFFORD, TX<br>1 player(s)",
          "SULPHUR, LA<br>1 player(s)",
          "TROPHY CLUB, TX<br>1 player(s)",
          "VAN, TX<br>1 player(s)",
          "WARREN, OH<br>1 player(s)",
          "WASHINGTON, DE<br>1 player(s)",
          "WATSONVILLE, CA<br>1 player(s)"
         ],
         "type": "scattergeo"
        }
       ],
       "layout": {
        "geo": {
         "lakecolor": "rgb(255, 255, 255)",
         "projection": {
          "type": "albers usa"
         },
         "scope": "usa",
         "showlakes": true
        },
        "height": 600,
        "template": {
         "data": {
          "bar": [
           {
            "error_x": {
             "color": "#2a3f5f"
            },
            "error_y": {
             "color": "#2a3f5f"
            },
            "marker": {
             "line": {
              "color": "#E5ECF6",
              "width": 0.5
             },
             "pattern": {
              "fillmode": "overlay",
              "size": 10,
              "solidity": 0.2
             }
            },
            "type": "bar"
           }
          ],
          "barpolar": [
           {
            "marker": {
             "line": {
              "color": "#E5ECF6",
              "width": 0.5
             },
             "pattern": {
              "fillmode": "overlay",
              "size": 10,
              "solidity": 0.2
             }
            },
            "type": "barpolar"
           }
          ],
          "carpet": [
           {
            "aaxis": {
             "endlinecolor": "#2a3f5f",
             "gridcolor": "white",
             "linecolor": "white",
             "minorgridcolor": "white",
             "startlinecolor": "#2a3f5f"
            },
            "baxis": {
             "endlinecolor": "#2a3f5f",
             "gridcolor": "white",
             "linecolor": "white",
             "minorgridcolor": "white",
             "startlinecolor": "#2a3f5f"
            },
            "type": "carpet"
           }
          ],
          "choropleth": [
           {
            "colorbar": {
             "outlinewidth": 0,
             "ticks": ""
            },
            "type": "choropleth"
           }
          ],
          "contour": [
           {
            "colorbar": {
             "outlinewidth": 0,
             "ticks": ""
            },
            "colorscale": [
             [
              0,
              "#0d0887"
             ],
             [
              0.1111111111111111,
              "#46039f"
             ],
             [
              0.2222222222222222,
              "#7201a8"
             ],
             [
              0.3333333333333333,
              "#9c179e"
             ],
             [
              0.4444444444444444,
              "#bd3786"
             ],
             [
              0.5555555555555556,
              "#d8576b"
             ],
             [
              0.6666666666666666,
              "#ed7953"
             ],
             [
              0.7777777777777778,
              "#fb9f3a"
             ],
             [
              0.8888888888888888,
              "#fdca26"
             ],
             [
              1,
              "#f0f921"
             ]
            ],
            "type": "contour"
           }
          ],
          "contourcarpet": [
           {
            "colorbar": {
             "outlinewidth": 0,
             "ticks": ""
            },
            "type": "contourcarpet"
           }
          ],
          "heatmap": [
           {
            "colorbar": {
             "outlinewidth": 0,
             "ticks": ""
            },
            "colorscale": [
             [
              0,
              "#0d0887"
             ],
             [
              0.1111111111111111,
              "#46039f"
             ],
             [
              0.2222222222222222,
              "#7201a8"
             ],
             [
              0.3333333333333333,
              "#9c179e"
             ],
             [
              0.4444444444444444,
              "#bd3786"
             ],
             [
              0.5555555555555556,
              "#d8576b"
             ],
             [
              0.6666666666666666,
              "#ed7953"
             ],
             [
              0.7777777777777778,
              "#fb9f3a"
             ],
             [
              0.8888888888888888,
              "#fdca26"
             ],
             [
              1,
              "#f0f921"
             ]
            ],
            "type": "heatmap"
           }
          ],
          "histogram": [
           {
            "marker": {
             "pattern": {
              "fillmode": "overlay",
              "size": 10,
              "solidity": 0.2
             }
            },
            "type": "histogram"
           }
          ],
          "histogram2d": [
           {
            "colorbar": {
             "outlinewidth": 0,
             "ticks": ""
            },
            "colorscale": [
             [
              0,
              "#0d0887"
             ],
             [
              0.1111111111111111,
              "#46039f"
             ],
             [
              0.2222222222222222,
              "#7201a8"
             ],
             [
              0.3333333333333333,
              "#9c179e"
             ],
             [
              0.4444444444444444,
              "#bd3786"
             ],
             [
              0.5555555555555556,
              "#d8576b"
             ],
             [
              0.6666666666666666,
              "#ed7953"
             ],
             [
              0.7777777777777778,
              "#fb9f3a"
             ],
             [
              0.8888888888888888,
              "#fdca26"
             ],
             [
              1,
              "#f0f921"
             ]
            ],
            "type": "histogram2d"
           }
          ],
          "histogram2dcontour": [
           {
            "colorbar": {
             "outlinewidth": 0,
             "ticks": ""
            },
            "colorscale": [
             [
              0,
              "#0d0887"
             ],
             [
              0.1111111111111111,
              "#46039f"
             ],
             [
              0.2222222222222222,
              "#7201a8"
             ],
             [
              0.3333333333333333,
              "#9c179e"
             ],
             [
              0.4444444444444444,
              "#bd3786"
             ],
             [
              0.5555555555555556,
              "#d8576b"
             ],
             [
              0.6666666666666666,
              "#ed7953"
             ],
             [
              0.7777777777777778,
              "#fb9f3a"
             ],
             [
              0.8888888888888888,
              "#fdca26"
             ],
             [
              1,
              "#f0f921"
             ]
            ],
            "type": "histogram2dcontour"
           }
          ],
          "mesh3d": [
           {
            "colorbar": {
             "outlinewidth": 0,
             "ticks": ""
            },
            "type": "mesh3d"
           }
          ],
          "parcoords": [
           {
            "line": {
             "colorbar": {
              "outlinewidth": 0,
              "ticks": ""
             }
            },
            "type": "parcoords"
           }
          ],
          "pie": [
           {
            "automargin": true,
            "type": "pie"
           }
          ],
          "scatter": [
           {
            "fillpattern": {
             "fillmode": "overlay",
             "size": 10,
             "solidity": 0.2
            },
            "type": "scatter"
           }
          ],
          "scatter3d": [
           {
            "line": {
             "colorbar": {
              "outlinewidth": 0,
              "ticks": ""
             }
            },
            "marker": {
             "colorbar": {
              "outlinewidth": 0,
              "ticks": ""
             }
            },
            "type": "scatter3d"
           }
          ],
          "scattercarpet": [
           {
            "marker": {
             "colorbar": {
              "outlinewidth": 0,
              "ticks": ""
             }
            },
            "type": "scattercarpet"
           }
          ],
          "scattergeo": [
           {
            "marker": {
             "colorbar": {
              "outlinewidth": 0,
              "ticks": ""
             }
            },
            "type": "scattergeo"
           }
          ],
          "scattergl": [
           {
            "marker": {
             "colorbar": {
              "outlinewidth": 0,
              "ticks": ""
             }
            },
            "type": "scattergl"
           }
          ],
          "scattermap": [
           {
            "marker": {
             "colorbar": {
              "outlinewidth": 0,
              "ticks": ""
             }
            },
            "type": "scattermap"
           }
          ],
          "scattermapbox": [
           {
            "marker": {
             "colorbar": {
              "outlinewidth": 0,
              "ticks": ""
             }
            },
            "type": "scattermapbox"
           }
          ],
          "scatterpolar": [
           {
            "marker": {
             "colorbar": {
              "outlinewidth": 0,
              "ticks": ""
             }
            },
            "type": "scatterpolar"
           }
          ],
          "scatterpolargl": [
           {
            "marker": {
             "colorbar": {
              "outlinewidth": 0,
              "ticks": ""
             }
            },
            "type": "scatterpolargl"
           }
          ],
          "scatterternary": [
           {
            "marker": {
             "colorbar": {
              "outlinewidth": 0,
              "ticks": ""
             }
            },
            "type": "scatterternary"
           }
          ],
          "surface": [
           {
            "colorbar": {
             "outlinewidth": 0,
             "ticks": ""
            },
            "colorscale": [
             [
              0,
              "#0d0887"
             ],
             [
              0.1111111111111111,
              "#46039f"
             ],
             [
              0.2222222222222222,
              "#7201a8"
             ],
             [
              0.3333333333333333,
              "#9c179e"
             ],
             [
              0.4444444444444444,
              "#bd3786"
             ],
             [
              0.5555555555555556,
              "#d8576b"
             ],
             [
              0.6666666666666666,
              "#ed7953"
             ],
             [
              0.7777777777777778,
              "#fb9f3a"
             ],
             [
              0.8888888888888888,
              "#fdca26"
             ],
             [
              1,
              "#f0f921"
             ]
            ],
            "type": "surface"
           }
          ],
          "table": [
           {
            "cells": {
             "fill": {
              "color": "#EBF0F8"
             },
             "line": {
              "color": "white"
             }
            },
            "header": {
             "fill": {
              "color": "#C8D4E3"
             },
             "line": {
              "color": "white"
             }
            },
            "type": "table"
           }
          ]
         },
         "layout": {
          "annotationdefaults": {
           "arrowcolor": "#2a3f5f",
           "arrowhead": 0,
           "arrowwidth": 1
          },
          "autotypenumbers": "strict",
          "coloraxis": {
           "colorbar": {
            "outlinewidth": 0,
            "ticks": ""
           }
          },
          "colorscale": {
           "diverging": [
            [
             0,
             "#8e0152"
            ],
            [
             0.1,
             "#c51b7d"
            ],
            [
             0.2,
             "#de77ae"
            ],
            [
             0.3,
             "#f1b6da"
            ],
            [
             0.4,
             "#fde0ef"
            ],
            [
             0.5,
             "#f7f7f7"
            ],
            [
             0.6,
             "#e6f5d0"
            ],
            [
             0.7,
             "#b8e186"
            ],
            [
             0.8,
             "#7fbc41"
            ],
            [
             0.9,
             "#4d9221"
            ],
            [
             1,
             "#276419"
            ]
           ],
           "sequential": [
            [
             0,
             "#0d0887"
            ],
            [
             0.1111111111111111,
             "#46039f"
            ],
            [
             0.2222222222222222,
             "#7201a8"
            ],
            [
             0.3333333333333333,
             "#9c179e"
            ],
            [
             0.4444444444444444,
             "#bd3786"
            ],
            [
             0.5555555555555556,
             "#d8576b"
            ],
            [
             0.6666666666666666,
             "#ed7953"
            ],
            [
             0.7777777777777778,
             "#fb9f3a"
            ],
            [
             0.8888888888888888,
             "#fdca26"
            ],
            [
             1,
             "#f0f921"
            ]
           ],
           "sequentialminus": [
            [
             0,
             "#0d0887"
            ],
            [
             0.1111111111111111,
             "#46039f"
            ],
            [
             0.2222222222222222,
             "#7201a8"
            ],
            [
             0.3333333333333333,
             "#9c179e"
            ],
            [
             0.4444444444444444,
             "#bd3786"
            ],
            [
             0.5555555555555556,
             "#d8576b"
            ],
            [
             0.6666666666666666,
             "#ed7953"
            ],
            [
             0.7777777777777778,
             "#fb9f3a"
            ],
            [
             0.8888888888888888,
             "#fdca26"
            ],
            [
             1,
             "#f0f921"
            ]
           ]
          },
          "colorway": [
           "#636efa",
           "#EF553B",
           "#00cc96",
           "#ab63fa",
           "#FFA15A",
           "#19d3f3",
           "#FF6692",
           "#B6E880",
           "#FF97FF",
           "#FECB52"
          ],
          "font": {
           "color": "#2a3f5f"
          },
          "geo": {
           "bgcolor": "white",
           "lakecolor": "white",
           "landcolor": "#E5ECF6",
           "showlakes": true,
           "showland": true,
           "subunitcolor": "white"
          },
          "hoverlabel": {
           "align": "left"
          },
          "hovermode": "closest",
          "mapbox": {
           "style": "light"
          },
          "paper_bgcolor": "white",
          "plot_bgcolor": "#E5ECF6",
          "polar": {
           "angularaxis": {
            "gridcolor": "white",
            "linecolor": "white",
            "ticks": ""
           },
           "bgcolor": "#E5ECF6",
           "radialaxis": {
            "gridcolor": "white",
            "linecolor": "white",
            "ticks": ""
           }
          },
          "scene": {
           "xaxis": {
            "backgroundcolor": "#E5ECF6",
            "gridcolor": "white",
            "gridwidth": 2,
            "linecolor": "white",
            "showbackground": true,
            "ticks": "",
            "zerolinecolor": "white"
           },
           "yaxis": {
            "backgroundcolor": "#E5ECF6",
            "gridcolor": "white",
            "gridwidth": 2,
            "linecolor": "white",
            "showbackground": true,
            "ticks": "",
            "zerolinecolor": "white"
           },
           "zaxis": {
            "backgroundcolor": "#E5ECF6",
            "gridcolor": "white",
            "gridwidth": 2,
            "linecolor": "white",
            "showbackground": true,
            "ticks": "",
            "zerolinecolor": "white"
           }
          },
          "shapedefaults": {
           "line": {
            "color": "#2a3f5f"
           }
          },
          "ternary": {
           "aaxis": {
            "gridcolor": "white",
            "linecolor": "white",
            "ticks": ""
           },
           "baxis": {
            "gridcolor": "white",
            "linecolor": "white",
            "ticks": ""
           },
           "bgcolor": "#E5ECF6",
           "caxis": {
            "gridcolor": "white",
            "linecolor": "white",
            "ticks": ""
           }
          },
          "title": {
           "x": 0.05
          },
          "xaxis": {
           "automargin": true,
           "gridcolor": "white",
           "linecolor": "white",
           "ticks": "",
           "title": {
            "standoff": 15
           },
           "zerolinecolor": "white",
           "zerolinewidth": 2
          },
          "yaxis": {
           "automargin": true,
           "gridcolor": "white",
           "linecolor": "white",
           "ticks": "",
           "title": {
            "standoff": 15
           },
           "zerolinecolor": "white",
           "zerolinewidth": 2
          }
         }
        },
        "title": {
         "text": "🗺️ Player Geographic Distribution - US Heatmap"
        }
       }
      }
     },
     "metadata": {},
     "output_type": "display_data"
    },
    {
     "data": {
      "application/vnd.plotly.v1+json": {
       "config": {
        "plotlyServerURL": "https://plot.ly"
       },
       "data": [
        {
         "hovertemplate": "Number of Players=%{x}<br>City, State=%{y}<extra></extra>",
         "legendgroup": "",
         "marker": {
          "color": "#636efa",
          "pattern": {
           "shape": ""
          }
         },
         "name": "",
         "orientation": "h",
         "showlegend": false,
         "textposition": "auto",
         "type": "bar",
         "x": {
          "bdata": "CwMCAgICAgEBAQEBAQEB",
          "dtype": "i1"
         },
         "xaxis": "x",
         "y": [
          "HOUSTON, TX",
          "KATY, TX",
          "SPRING, TX",
          "DICKINSON, TX",
          "CYPRESS, TX",
          "FORT WORTH, TX",
          "ATLANTA, GA",
          "NEEDVILLE, TX",
          "MONTGOMERY, TX",
          "PACE, FL",
          "PASADENA, CA",
          "ROCKLIN, CA",
          "PATERSON, NJ",
          "MISSOURI CITY, TX",
          "MIDDLESEX, NJ"
         ],
         "yaxis": "y"
        }
       ],
       "layout": {
        "barmode": "relative",
        "height": 500,
        "legend": {
         "tracegroupgap": 0
        },
        "template": {
         "data": {
          "bar": [
           {
            "error_x": {
             "color": "#2a3f5f"
            },
            "error_y": {
             "color": "#2a3f5f"
            },
            "marker": {
             "line": {
              "color": "#E5ECF6",
              "width": 0.5
             },
             "pattern": {
              "fillmode": "overlay",
              "size": 10,
              "solidity": 0.2
             }
            },
            "type": "bar"
           }
          ],
          "barpolar": [
           {
            "marker": {
             "line": {
              "color": "#E5ECF6",
              "width": 0.5
             },
             "pattern": {
              "fillmode": "overlay",
              "size": 10,
              "solidity": 0.2
             }
            },
            "type": "barpolar"
           }
          ],
          "carpet": [
           {
            "aaxis": {
             "endlinecolor": "#2a3f5f",
             "gridcolor": "white",
             "linecolor": "white",
             "minorgridcolor": "white",
             "startlinecolor": "#2a3f5f"
            },
            "baxis": {
             "endlinecolor": "#2a3f5f",
             "gridcolor": "white",
             "linecolor": "white",
             "minorgridcolor": "white",
             "startlinecolor": "#2a3f5f"
            },
            "type": "carpet"
           }
          ],
          "choropleth": [
           {
            "colorbar": {
             "outlinewidth": 0,
             "ticks": ""
            },
            "type": "choropleth"
           }
          ],
          "contour": [
           {
            "colorbar": {
             "outlinewidth": 0,
             "ticks": ""
            },
            "colorscale": [
             [
              0,
              "#0d0887"
             ],
             [
              0.1111111111111111,
              "#46039f"
             ],
             [
              0.2222222222222222,
              "#7201a8"
             ],
             [
              0.3333333333333333,
              "#9c179e"
             ],
             [
              0.4444444444444444,
              "#bd3786"
             ],
             [
              0.5555555555555556,
              "#d8576b"
             ],
             [
              0.6666666666666666,
              "#ed7953"
             ],
             [
              0.7777777777777778,
              "#fb9f3a"
             ],
             [
              0.8888888888888888,
              "#fdca26"
             ],
             [
              1,
              "#f0f921"
             ]
            ],
            "type": "contour"
           }
          ],
          "contourcarpet": [
           {
            "colorbar": {
             "outlinewidth": 0,
             "ticks": ""
            },
            "type": "contourcarpet"
           }
          ],
          "heatmap": [
           {
            "colorbar": {
             "outlinewidth": 0,
             "ticks": ""
            },
            "colorscale": [
             [
              0,
              "#0d0887"
             ],
             [
              0.1111111111111111,
              "#46039f"
             ],
             [
              0.2222222222222222,
              "#7201a8"
             ],
             [
              0.3333333333333333,
              "#9c179e"
             ],
             [
              0.4444444444444444,
              "#bd3786"
             ],
             [
              0.5555555555555556,
              "#d8576b"
             ],
             [
              0.6666666666666666,
              "#ed7953"
             ],
             [
              0.7777777777777778,
              "#fb9f3a"
             ],
             [
              0.8888888888888888,
              "#fdca26"
             ],
             [
              1,
              "#f0f921"
             ]
            ],
            "type": "heatmap"
           }
          ],
          "histogram": [
           {
            "marker": {
             "pattern": {
              "fillmode": "overlay",
              "size": 10,
              "solidity": 0.2
             }
            },
            "type": "histogram"
           }
          ],
          "histogram2d": [
           {
            "colorbar": {
             "outlinewidth": 0,
             "ticks": ""
            },
            "colorscale": [
             [
              0,
              "#0d0887"
             ],
             [
              0.1111111111111111,
              "#46039f"
             ],
             [
              0.2222222222222222,
              "#7201a8"
             ],
             [
              0.3333333333333333,
              "#9c179e"
             ],
             [
              0.4444444444444444,
              "#bd3786"
             ],
             [
              0.5555555555555556,
              "#d8576b"
             ],
             [
              0.6666666666666666,
              "#ed7953"
             ],
             [
              0.7777777777777778,
              "#fb9f3a"
             ],
             [
              0.8888888888888888,
              "#fdca26"
             ],
             [
              1,
              "#f0f921"
             ]
            ],
            "type": "histogram2d"
           }
          ],
          "histogram2dcontour": [
           {
            "colorbar": {
             "outlinewidth": 0,
             "ticks": ""
            },
            "colorscale": [
             [
              0,
              "#0d0887"
             ],
             [
              0.1111111111111111,
              "#46039f"
             ],
             [
              0.2222222222222222,
              "#7201a8"
             ],
             [
              0.3333333333333333,
              "#9c179e"
             ],
             [
              0.4444444444444444,
              "#bd3786"
             ],
             [
              0.5555555555555556,
              "#d8576b"
             ],
             [
              0.6666666666666666,
              "#ed7953"
             ],
             [
              0.7777777777777778,
              "#fb9f3a"
             ],
             [
              0.8888888888888888,
              "#fdca26"
             ],
             [
              1,
              "#f0f921"
             ]
            ],
            "type": "histogram2dcontour"
           }
          ],
          "mesh3d": [
           {
            "colorbar": {
             "outlinewidth": 0,
             "ticks": ""
            },
            "type": "mesh3d"
           }
          ],
          "parcoords": [
           {
            "line": {
             "colorbar": {
              "outlinewidth": 0,
              "ticks": ""
             }
            },
            "type": "parcoords"
           }
          ],
          "pie": [
           {
            "automargin": true,
            "type": "pie"
           }
          ],
          "scatter": [
           {
            "fillpattern": {
             "fillmode": "overlay",
             "size": 10,
             "solidity": 0.2
            },
            "type": "scatter"
           }
          ],
          "scatter3d": [
           {
            "line": {
             "colorbar": {
              "outlinewidth": 0,
              "ticks": ""
             }
            },
            "marker": {
             "colorbar": {
              "outlinewidth": 0,
              "ticks": ""
             }
            },
            "type": "scatter3d"
           }
          ],
          "scattercarpet": [
           {
            "marker": {
             "colorbar": {
              "outlinewidth": 0,
              "ticks": ""
             }
            },
            "type": "scattercarpet"
           }
          ],
          "scattergeo": [
           {
            "marker": {
             "colorbar": {
              "outlinewidth": 0,
              "ticks": ""
             }
            },
            "type": "scattergeo"
           }
          ],
          "scattergl": [
           {
            "marker": {
             "colorbar": {
              "outlinewidth": 0,
              "ticks": ""
             }
            },
            "type": "scattergl"
           }
          ],
          "scattermap": [
           {
            "marker": {
             "colorbar": {
              "outlinewidth": 0,
              "ticks": ""
             }
            },
            "type": "scattermap"
           }
          ],
          "scattermapbox": [
           {
            "marker": {
             "colorbar": {
              "outlinewidth": 0,
              "ticks": ""
             }
            },
            "type": "scattermapbox"
           }
          ],
          "scatterpolar": [
           {
            "marker": {
             "colorbar": {
              "outlinewidth": 0,
              "ticks": ""
             }
            },
            "type": "scatterpolar"
           }
          ],
          "scatterpolargl": [
           {
            "marker": {
             "colorbar": {
              "outlinewidth": 0,
              "ticks": ""
             }
            },
            "type": "scatterpolargl"
           }
          ],
          "scatterternary": [
           {
            "marker": {
             "colorbar": {
              "outlinewidth": 0,
              "ticks": ""
             }
            },
            "type": "scatterternary"
           }
          ],
          "surface": [
           {
            "colorbar": {
             "outlinewidth": 0,
             "ticks": ""
            },
            "colorscale": [
             [
              0,
              "#0d0887"
             ],
             [
              0.1111111111111111,
              "#46039f"
             ],
             [
              0.2222222222222222,
              "#7201a8"
             ],
             [
              0.3333333333333333,
              "#9c179e"
             ],
             [
              0.4444444444444444,
              "#bd3786"
             ],
             [
              0.5555555555555556,
              "#d8576b"
             ],
             [
              0.6666666666666666,
              "#ed7953"
             ],
             [
              0.7777777777777778,
              "#fb9f3a"
             ],
             [
              0.8888888888888888,
              "#fdca26"
             ],
             [
              1,
              "#f0f921"
             ]
            ],
            "type": "surface"
           }
          ],
          "table": [
           {
            "cells": {
             "fill": {
              "color": "#EBF0F8"
             },
             "line": {
              "color": "white"
             }
            },
            "header": {
             "fill": {
              "color": "#C8D4E3"
             },
             "line": {
              "color": "white"
             }
            },
            "type": "table"
           }
          ]
         },
         "layout": {
          "annotationdefaults": {
           "arrowcolor": "#2a3f5f",
           "arrowhead": 0,
           "arrowwidth": 1
          },
          "autotypenumbers": "strict",
          "coloraxis": {
           "colorbar": {
            "outlinewidth": 0,
            "ticks": ""
           }
          },
          "colorscale": {
           "diverging": [
            [
             0,
             "#8e0152"
            ],
            [
             0.1,
             "#c51b7d"
            ],
            [
             0.2,
             "#de77ae"
            ],
            [
             0.3,
             "#f1b6da"
            ],
            [
             0.4,
             "#fde0ef"
            ],
            [
             0.5,
             "#f7f7f7"
            ],
            [
             0.6,
             "#e6f5d0"
            ],
            [
             0.7,
             "#b8e186"
            ],
            [
             0.8,
             "#7fbc41"
            ],
            [
             0.9,
             "#4d9221"
            ],
            [
             1,
             "#276419"
            ]
           ],
           "sequential": [
            [
             0,
             "#0d0887"
            ],
            [
             0.1111111111111111,
             "#46039f"
            ],
            [
             0.2222222222222222,
             "#7201a8"
            ],
            [
             0.3333333333333333,
             "#9c179e"
            ],
            [
             0.4444444444444444,
             "#bd3786"
            ],
            [
             0.5555555555555556,
             "#d8576b"
            ],
            [
             0.6666666666666666,
             "#ed7953"
            ],
            [
             0.7777777777777778,
             "#fb9f3a"
            ],
            [
             0.8888888888888888,
             "#fdca26"
            ],
            [
             1,
             "#f0f921"
            ]
           ],
           "sequentialminus": [
            [
             0,
             "#0d0887"
            ],
            [
             0.1111111111111111,
             "#46039f"
            ],
            [
             0.2222222222222222,
             "#7201a8"
            ],
            [
             0.3333333333333333,
             "#9c179e"
            ],
            [
             0.4444444444444444,
             "#bd3786"
            ],
            [
             0.5555555555555556,
             "#d8576b"
            ],
            [
             0.6666666666666666,
             "#ed7953"
            ],
            [
             0.7777777777777778,
             "#fb9f3a"
            ],
            [
             0.8888888888888888,
             "#fdca26"
            ],
            [
             1,
             "#f0f921"
            ]
           ]
          },
          "colorway": [
           "#636efa",
           "#EF553B",
           "#00cc96",
           "#ab63fa",
           "#FFA15A",
           "#19d3f3",
           "#FF6692",
           "#B6E880",
           "#FF97FF",
           "#FECB52"
          ],
          "font": {
           "color": "#2a3f5f"
          },
          "geo": {
           "bgcolor": "white",
           "lakecolor": "white",
           "landcolor": "#E5ECF6",
           "showlakes": true,
           "showland": true,
           "subunitcolor": "white"
          },
          "hoverlabel": {
           "align": "left"
          },
          "hovermode": "closest",
          "mapbox": {
           "style": "light"
          },
          "paper_bgcolor": "white",
          "plot_bgcolor": "#E5ECF6",
          "polar": {
           "angularaxis": {
            "gridcolor": "white",
            "linecolor": "white",
            "ticks": ""
           },
           "bgcolor": "#E5ECF6",
           "radialaxis": {
            "gridcolor": "white",
            "linecolor": "white",
            "ticks": ""
           }
          },
          "scene": {
           "xaxis": {
            "backgroundcolor": "#E5ECF6",
            "gridcolor": "white",
            "gridwidth": 2,
            "linecolor": "white",
            "showbackground": true,
            "ticks": "",
            "zerolinecolor": "white"
           },
           "yaxis": {
            "backgroundcolor": "#E5ECF6",
            "gridcolor": "white",
            "gridwidth": 2,
            "linecolor": "white",
            "showbackground": true,
            "ticks": "",
            "zerolinecolor": "white"
           },
           "zaxis": {
            "backgroundcolor": "#E5ECF6",
            "gridcolor": "white",
            "gridwidth": 2,
            "linecolor": "white",
            "showbackground": true,
            "ticks": "",
            "zerolinecolor": "white"
           }
          },
          "shapedefaults": {
           "line": {
            "color": "#2a3f5f"
           }
          },
          "ternary": {
           "aaxis": {
            "gridcolor": "white",
            "linecolor": "white",
            "ticks": ""
           },
           "baxis": {
            "gridcolor": "white",
            "linecolor": "white",
            "ticks": ""
           },
           "bgcolor": "#E5ECF6",
           "caxis": {
            "gridcolor": "white",
            "linecolor": "white",
            "ticks": ""
           }
          },
          "title": {
           "x": 0.05
          },
          "xaxis": {
           "automargin": true,
           "gridcolor": "white",
           "linecolor": "white",
           "ticks": "",
           "title": {
            "standoff": 15
           },
           "zerolinecolor": "white",
           "zerolinewidth": 2
          },
          "yaxis": {
           "automargin": true,
           "gridcolor": "white",
           "linecolor": "white",
           "ticks": "",
           "title": {
            "standoff": 15
           },
           "zerolinecolor": "white",
           "zerolinewidth": 2
          }
         }
        },
        "title": {
         "text": "🏙️ Top 15 Cities by Player Count"
        },
        "xaxis": {
         "anchor": "y",
         "domain": [
          0,
          1
         ],
         "title": {
          "text": "Number of Players"
         }
        },
        "yaxis": {
         "anchor": "x",
         "categoryorder": "total ascending",
         "domain": [
          0,
          1
         ],
         "title": {
          "text": "City, State"
         }
        }
       }
      }
     },
     "metadata": {},
     "output_type": "display_data"
    },
    {
     "name": "stdout",
     "output_type": "stream",
     "text": [
      "🗺️ Geographic Distribution Summary:\n",
      "  • Total States Represented: 17\n",
      "  • Total Cities Represented: 68\n",
      "  • Top 5 States by Player Count:\n",
      "    - TX: 48 players\n",
      "    - CA: 9 players\n",
      "    - LA: 4 players\n",
      "    - AL: 3 players\n",
      "    - GA: 3 players\n"
     ]
    },
    {
     "data": {
      "application/vnd.plotly.v1+json": {
       "config": {
        "plotlyServerURL": "https://plot.ly"
       },
       "data": [
        {
         "colorbar": {
          "title": {
           "text": "Avg Player Value"
          }
         },
         "colorscale": [
          [
           0,
           "rgb(165,0,38)"
          ],
          [
           0.1,
           "rgb(215,48,39)"
          ],
          [
           0.2,
           "rgb(244,109,67)"
          ],
          [
           0.3,
           "rgb(253,174,97)"
          ],
          [
           0.4,
           "rgb(254,224,139)"
          ],
          [
           0.5,
           "rgb(255,255,191)"
          ],
          [
           0.6,
           "rgb(217,239,139)"
          ],
          [
           0.7,
           "rgb(166,217,106)"
          ],
          [
           0.8,
           "rgb(102,189,99)"
          ],
          [
           0.9,
           "rgb(26,152,80)"
          ],
          [
           1,
           "rgb(0,104,55)"
          ]
         ],
         "hovertemplate": "%{text}<extra></extra>",
         "locationmode": "USA-states",
         "locations": [
          "AL",
          "CA",
          "CO",
          "DE",
          "FL",
          "GA",
          "IL",
          "LA",
          "MD",
          "MS",
          "NJ",
          "OH",
          "PA",
          "SD",
          "TN",
          "TX",
          "UT"
         ],
         "marker": {
          "line": {
           "color": "white"
          }
         },
         "text": [
          "AL<br>Avg Value: 73.66<br>Players: 3<br>Elite/Star: 0",
          "CA<br>Avg Value: 85.96<br>Players: 9<br>Elite/Star: 0",
          "CO<br>Avg Value: 69.35<br>Players: 1<br>Elite/Star: 0",
          "DE<br>Avg Value: 105.0<br>Players: 1<br>Elite/Star: 0",
          "FL<br>Avg Value: 83.0<br>Players: 2<br>Elite/Star: 0",
          "GA<br>Avg Value: 96.82<br>Players: 3<br>Elite/Star: 0",
          "IL<br>Avg Value: 91.2<br>Players: 1<br>Elite/Star: 0",
          "LA<br>Avg Value: 95.96<br>Players: 4<br>Elite/Star: 0",
          "MD<br>Avg Value: 72.2<br>Players: 1<br>Elite/Star: 0",
          "MS<br>Avg Value: 95.17<br>Players: 3<br>Elite/Star: 0",
          "NJ<br>Avg Value: 76.16<br>Players: 3<br>Elite/Star: 0",
          "OH<br>Avg Value: 91.2<br>Players: 1<br>Elite/Star: 0",
          "PA<br>Avg Value: 88.35<br>Players: 1<br>Elite/Star: 0",
          "SD<br>Avg Value: 106.75<br>Players: 1<br>Elite/Star: 0",
          "TN<br>Avg Value: 94.05<br>Players: 2<br>Elite/Star: 0",
          "TX<br>Avg Value: 93.7<br>Players: 48<br>Elite/Star: 0",
          "UT<br>Avg Value: 80.75<br>Players: 1<br>Elite/Star: 0"
         ],
         "type": "choropleth",
         "z": {
          "bdata": "CtejcD1qUkA9CtejcH1VQGZmZmZmVlFAAAAAAABAWkAAAAAAAMBUQBSuR+F6NFhAzczMzMzMVkA9CtejcP1XQM3MzMzMDFJAexSuR+HKV0AK16NwPQpTQM3MzMzMzFZAZmZmZmYWVkAAAAAAALBaQDMzMzMzg1dAzczMzMxsV0AAAAAAADBUQA==",
          "dtype": "f8"
         }
        }
       ],
       "layout": {
        "geo": {
         "lakecolor": "rgb(255, 255, 255)",
         "projection": {
          "type": "albers usa"
         },
         "scope": "usa",
         "showlakes": true
        },
        "height": 600,
        "template": {
         "data": {
          "bar": [
           {
            "error_x": {
             "color": "#2a3f5f"
            },
            "error_y": {
             "color": "#2a3f5f"
            },
            "marker": {
             "line": {
              "color": "#E5ECF6",
              "width": 0.5
             },
             "pattern": {
              "fillmode": "overlay",
              "size": 10,
              "solidity": 0.2
             }
            },
            "type": "bar"
           }
          ],
          "barpolar": [
           {
            "marker": {
             "line": {
              "color": "#E5ECF6",
              "width": 0.5
             },
             "pattern": {
              "fillmode": "overlay",
              "size": 10,
              "solidity": 0.2
             }
            },
            "type": "barpolar"
           }
          ],
          "carpet": [
           {
            "aaxis": {
             "endlinecolor": "#2a3f5f",
             "gridcolor": "white",
             "linecolor": "white",
             "minorgridcolor": "white",
             "startlinecolor": "#2a3f5f"
            },
            "baxis": {
             "endlinecolor": "#2a3f5f",
             "gridcolor": "white",
             "linecolor": "white",
             "minorgridcolor": "white",
             "startlinecolor": "#2a3f5f"
            },
            "type": "carpet"
           }
          ],
          "choropleth": [
           {
            "colorbar": {
             "outlinewidth": 0,
             "ticks": ""
            },
            "type": "choropleth"
           }
          ],
          "contour": [
           {
            "colorbar": {
             "outlinewidth": 0,
             "ticks": ""
            },
            "colorscale": [
             [
              0,
              "#0d0887"
             ],
             [
              0.1111111111111111,
              "#46039f"
             ],
             [
              0.2222222222222222,
              "#7201a8"
             ],
             [
              0.3333333333333333,
              "#9c179e"
             ],
             [
              0.4444444444444444,
              "#bd3786"
             ],
             [
              0.5555555555555556,
              "#d8576b"
             ],
             [
              0.6666666666666666,
              "#ed7953"
             ],
             [
              0.7777777777777778,
              "#fb9f3a"
             ],
             [
              0.8888888888888888,
              "#fdca26"
             ],
             [
              1,
              "#f0f921"
             ]
            ],
            "type": "contour"
           }
          ],
          "contourcarpet": [
           {
            "colorbar": {
             "outlinewidth": 0,
             "ticks": ""
            },
            "type": "contourcarpet"
           }
          ],
          "heatmap": [
           {
            "colorbar": {
             "outlinewidth": 0,
             "ticks": ""
            },
            "colorscale": [
             [
              0,
              "#0d0887"
             ],
             [
              0.1111111111111111,
              "#46039f"
             ],
             [
              0.2222222222222222,
              "#7201a8"
             ],
             [
              0.3333333333333333,
              "#9c179e"
             ],
             [
              0.4444444444444444,
              "#bd3786"
             ],
             [
              0.5555555555555556,
              "#d8576b"
             ],
             [
              0.6666666666666666,
              "#ed7953"
             ],
             [
              0.7777777777777778,
              "#fb9f3a"
             ],
             [
              0.8888888888888888,
              "#fdca26"
             ],
             [
              1,
              "#f0f921"
             ]
            ],
            "type": "heatmap"
           }
          ],
          "histogram": [
           {
            "marker": {
             "pattern": {
              "fillmode": "overlay",
              "size": 10,
              "solidity": 0.2
             }
            },
            "type": "histogram"
           }
          ],
          "histogram2d": [
           {
            "colorbar": {
             "outlinewidth": 0,
             "ticks": ""
            },
            "colorscale": [
             [
              0,
              "#0d0887"
             ],
             [
              0.1111111111111111,
              "#46039f"
             ],
             [
              0.2222222222222222,
              "#7201a8"
             ],
             [
              0.3333333333333333,
              "#9c179e"
             ],
             [
              0.4444444444444444,
              "#bd3786"
             ],
             [
              0.5555555555555556,
              "#d8576b"
             ],
             [
              0.6666666666666666,
              "#ed7953"
             ],
             [
              0.7777777777777778,
              "#fb9f3a"
             ],
             [
              0.8888888888888888,
              "#fdca26"
             ],
             [
              1,
              "#f0f921"
             ]
            ],
            "type": "histogram2d"
           }
          ],
          "histogram2dcontour": [
           {
            "colorbar": {
             "outlinewidth": 0,
             "ticks": ""
            },
            "colorscale": [
             [
              0,
              "#0d0887"
             ],
             [
              0.1111111111111111,
              "#46039f"
             ],
             [
              0.2222222222222222,
              "#7201a8"
             ],
             [
              0.3333333333333333,
              "#9c179e"
             ],
             [
              0.4444444444444444,
              "#bd3786"
             ],
             [
              0.5555555555555556,
              "#d8576b"
             ],
             [
              0.6666666666666666,
              "#ed7953"
             ],
             [
              0.7777777777777778,
              "#fb9f3a"
             ],
             [
              0.8888888888888888,
              "#fdca26"
             ],
             [
              1,
              "#f0f921"
             ]
            ],
            "type": "histogram2dcontour"
           }
          ],
          "mesh3d": [
           {
            "colorbar": {
             "outlinewidth": 0,
             "ticks": ""
            },
            "type": "mesh3d"
           }
          ],
          "parcoords": [
           {
            "line": {
             "colorbar": {
              "outlinewidth": 0,
              "ticks": ""
             }
            },
            "type": "parcoords"
           }
          ],
          "pie": [
           {
            "automargin": true,
            "type": "pie"
           }
          ],
          "scatter": [
           {
            "fillpattern": {
             "fillmode": "overlay",
             "size": 10,
             "solidity": 0.2
            },
            "type": "scatter"
           }
          ],
          "scatter3d": [
           {
            "line": {
             "colorbar": {
              "outlinewidth": 0,
              "ticks": ""
             }
            },
            "marker": {
             "colorbar": {
              "outlinewidth": 0,
              "ticks": ""
             }
            },
            "type": "scatter3d"
           }
          ],
          "scattercarpet": [
           {
            "marker": {
             "colorbar": {
              "outlinewidth": 0,
              "ticks": ""
             }
            },
            "type": "scattercarpet"
           }
          ],
          "scattergeo": [
           {
            "marker": {
             "colorbar": {
              "outlinewidth": 0,
              "ticks": ""
             }
            },
            "type": "scattergeo"
           }
          ],
          "scattergl": [
           {
            "marker": {
             "colorbar": {
              "outlinewidth": 0,
              "ticks": ""
             }
            },
            "type": "scattergl"
           }
          ],
          "scattermap": [
           {
            "marker": {
             "colorbar": {
              "outlinewidth": 0,
              "ticks": ""
             }
            },
            "type": "scattermap"
           }
          ],
          "scattermapbox": [
           {
            "marker": {
             "colorbar": {
              "outlinewidth": 0,
              "ticks": ""
             }
            },
            "type": "scattermapbox"
           }
          ],
          "scatterpolar": [
           {
            "marker": {
             "colorbar": {
              "outlinewidth": 0,
              "ticks": ""
             }
            },
            "type": "scatterpolar"
           }
          ],
          "scatterpolargl": [
           {
            "marker": {
             "colorbar": {
              "outlinewidth": 0,
              "ticks": ""
             }
            },
            "type": "scatterpolargl"
           }
          ],
          "scatterternary": [
           {
            "marker": {
             "colorbar": {
              "outlinewidth": 0,
              "ticks": ""
             }
            },
            "type": "scatterternary"
           }
          ],
          "surface": [
           {
            "colorbar": {
             "outlinewidth": 0,
             "ticks": ""
            },
            "colorscale": [
             [
              0,
              "#0d0887"
             ],
             [
              0.1111111111111111,
              "#46039f"
             ],
             [
              0.2222222222222222,
              "#7201a8"
             ],
             [
              0.3333333333333333,
              "#9c179e"
             ],
             [
              0.4444444444444444,
              "#bd3786"
             ],
             [
              0.5555555555555556,
              "#d8576b"
             ],
             [
              0.6666666666666666,
              "#ed7953"
             ],
             [
              0.7777777777777778,
              "#fb9f3a"
             ],
             [
              0.8888888888888888,
              "#fdca26"
             ],
             [
              1,
              "#f0f921"
             ]
            ],
            "type": "surface"
           }
          ],
          "table": [
           {
            "cells": {
             "fill": {
              "color": "#EBF0F8"
             },
             "line": {
              "color": "white"
             }
            },
            "header": {
             "fill": {
              "color": "#C8D4E3"
             },
             "line": {
              "color": "white"
             }
            },
            "type": "table"
           }
          ]
         },
         "layout": {
          "annotationdefaults": {
           "arrowcolor": "#2a3f5f",
           "arrowhead": 0,
           "arrowwidth": 1
          },
          "autotypenumbers": "strict",
          "coloraxis": {
           "colorbar": {
            "outlinewidth": 0,
            "ticks": ""
           }
          },
          "colorscale": {
           "diverging": [
            [
             0,
             "#8e0152"
            ],
            [
             0.1,
             "#c51b7d"
            ],
            [
             0.2,
             "#de77ae"
            ],
            [
             0.3,
             "#f1b6da"
            ],
            [
             0.4,
             "#fde0ef"
            ],
            [
             0.5,
             "#f7f7f7"
            ],
            [
             0.6,
             "#e6f5d0"
            ],
            [
             0.7,
             "#b8e186"
            ],
            [
             0.8,
             "#7fbc41"
            ],
            [
             0.9,
             "#4d9221"
            ],
            [
             1,
             "#276419"
            ]
           ],
           "sequential": [
            [
             0,
             "#0d0887"
            ],
            [
             0.1111111111111111,
             "#46039f"
            ],
            [
             0.2222222222222222,
             "#7201a8"
            ],
            [
             0.3333333333333333,
             "#9c179e"
            ],
            [
             0.4444444444444444,
             "#bd3786"
            ],
            [
             0.5555555555555556,
             "#d8576b"
            ],
            [
             0.6666666666666666,
             "#ed7953"
            ],
            [
             0.7777777777777778,
             "#fb9f3a"
            ],
            [
             0.8888888888888888,
             "#fdca26"
            ],
            [
             1,
             "#f0f921"
            ]
           ],
           "sequentialminus": [
            [
             0,
             "#0d0887"
            ],
            [
             0.1111111111111111,
             "#46039f"
            ],
            [
             0.2222222222222222,
             "#7201a8"
            ],
            [
             0.3333333333333333,
             "#9c179e"
            ],
            [
             0.4444444444444444,
             "#bd3786"
            ],
            [
             0.5555555555555556,
             "#d8576b"
            ],
            [
             0.6666666666666666,
             "#ed7953"
            ],
            [
             0.7777777777777778,
             "#fb9f3a"
            ],
            [
             0.8888888888888888,
             "#fdca26"
            ],
            [
             1,
             "#f0f921"
            ]
           ]
          },
          "colorway": [
           "#636efa",
           "#EF553B",
           "#00cc96",
           "#ab63fa",
           "#FFA15A",
           "#19d3f3",
           "#FF6692",
           "#B6E880",
           "#FF97FF",
           "#FECB52"
          ],
          "font": {
           "color": "#2a3f5f"
          },
          "geo": {
           "bgcolor": "white",
           "lakecolor": "white",
           "landcolor": "#E5ECF6",
           "showlakes": true,
           "showland": true,
           "subunitcolor": "white"
          },
          "hoverlabel": {
           "align": "left"
          },
          "hovermode": "closest",
          "mapbox": {
           "style": "light"
          },
          "paper_bgcolor": "white",
          "plot_bgcolor": "#E5ECF6",
          "polar": {
           "angularaxis": {
            "gridcolor": "white",
            "linecolor": "white",
            "ticks": ""
           },
           "bgcolor": "#E5ECF6",
           "radialaxis": {
            "gridcolor": "white",
            "linecolor": "white",
            "ticks": ""
           }
          },
          "scene": {
           "xaxis": {
            "backgroundcolor": "#E5ECF6",
            "gridcolor": "white",
            "gridwidth": 2,
            "linecolor": "white",
            "showbackground": true,
            "ticks": "",
            "zerolinecolor": "white"
           },
           "yaxis": {
            "backgroundcolor": "#E5ECF6",
            "gridcolor": "white",
            "gridwidth": 2,
            "linecolor": "white",
            "showbackground": true,
            "ticks": "",
            "zerolinecolor": "white"
           },
           "zaxis": {
            "backgroundcolor": "#E5ECF6",
            "gridcolor": "white",
            "gridwidth": 2,
            "linecolor": "white",
            "showbackground": true,
            "ticks": "",
            "zerolinecolor": "white"
           }
          },
          "shapedefaults": {
           "line": {
            "color": "#2a3f5f"
           }
          },
          "ternary": {
           "aaxis": {
            "gridcolor": "white",
            "linecolor": "white",
            "ticks": ""
           },
           "baxis": {
            "gridcolor": "white",
            "linecolor": "white",
            "ticks": ""
           },
           "bgcolor": "#E5ECF6",
           "caxis": {
            "gridcolor": "white",
            "linecolor": "white",
            "ticks": ""
           }
          },
          "title": {
           "x": 0.05
          },
          "xaxis": {
           "automargin": true,
           "gridcolor": "white",
           "linecolor": "white",
           "ticks": "",
           "title": {
            "standoff": 15
           },
           "zerolinecolor": "white",
           "zerolinewidth": 2
          },
          "yaxis": {
           "automargin": true,
           "gridcolor": "white",
           "linecolor": "white",
           "ticks": "",
           "title": {
            "standoff": 15
           },
           "zerolinecolor": "white",
           "zerolinewidth": 2
          }
         }
        },
        "title": {
         "text": "🎯 Recruiting Territory Success Map - Average Player Value by State"
        }
       }
      }
     },
     "metadata": {},
     "output_type": "display_data"
    },
    {
     "name": "stdout",
     "output_type": "stream",
     "text": [
      "🎯 Recruiting Territory Analysis:\n",
      "  • Best Recruiting State (Avg Value): SD\n",
      "  • Most Players from: TX\n",
      "  • Most Elite/Star Players from: AL\n"
     ]
    }
   ],
   "source": [
    "# 6. Geographic Heatmap - Player Distribution by Location\n",
    "# Enhanced geographic analysis with automatic geocoding and recruiting territory mapping\n",
    "\n",
    "# Import required plotly modules if not already available\n",
    "try:\n",
    "    # Test if plotly modules are already imported\n",
    "    go\n",
    "    px\n",
    "except NameError:\n",
    "    # Import plotly modules\n",
    "    try:\n",
    "        import plotly.graph_objects as go\n",
    "        import plotly.express as px\n",
    "        print(\"📦 Plotly modules imported successfully!\")\n",
    "    except ImportError:\n",
    "        print(\"❌ Plotly not installed. Installing now...\")\n",
    "        import subprocess\n",
    "        import sys\n",
    "        subprocess.check_call([sys.executable, '-m', 'pip', 'install', 'plotly'])\n",
    "        import plotly.graph_objects as go\n",
    "        import plotly.express as px\n",
    "        print(\"✅ Plotly installed and imported successfully!\")\n",
    "\n",
    "# Geographic analysis using the new geography module\n",
    "if roster_df is not None:\n",
    "    # Check if geographic data exists\n",
    "    has_geographic_data = 'CITY' in roster_df.columns and 'STATE' in roster_df.columns\n",
    "\n",
    "    if has_geographic_data:\n",
    "        print(\"✅ Geographic data found! Creating heatmaps...\")\n",
    "        create_geographic_heatmap(roster_df)\n",
    "        create_recruiting_territory_map(roster_df)\n",
    "    else:\n",
    "        print(\"📊 Geographic Heatmap Demo\")\n",
    "        print(\"🗺️ To enable geographic visualization, add these columns to your roster CSV:\")\n",
    "        print(\"   • CITY - Player's hometown city\")\n",
    "        print(\"   • STATE - Player's home state (use 2-letter abbreviations: TX, CA, FL, etc.)\")\n",
    "        print()\n",
    "        print(\"📝 Example data structure:\")\n",
    "        sample_data = pd.DataFrame({\n",
    "            'FIRST NAME': ['John', 'Mike', 'David', 'Chris', 'Alex'],\n",
    "            'LAST NAME': ['Smith', 'Johnson', 'Williams', 'Brown', 'Davis'],\n",
    "            'POSITION': ['QB', 'RB', 'WR', 'LB', 'CB'],\n",
    "            'CITY': ['Atlanta', 'Dallas', 'Miami', 'Houston', 'Los Angeles'],\n",
    "            'STATE': ['GA', 'TX', 'FL', 'TX', 'CA'],\n",
    "            'VALUE': [145.2, 132.1, 128.5, 142.8, 139.4],\n",
    "            'DEV TRAIT': ['ELITE', 'STAR', 'IMPACT', 'STAR', 'ELITE']\n",
    "        })\n",
    "        print(sample_data.to_string(index=False))\n",
    "        print()\n",
    "        print(\"🔧 Once you have this data, the geographic heatmaps will automatically generate!\")\n",
    "        print(\"📍 Features include:\")\n",
    "        print(\"   • US State heatmap showing player distribution\")\n",
    "        print(\"   • Automatic city geocoding and mapping\")\n",
    "        print(\"   • Top cities by player count\")\n",
    "        print(\"   • Recruiting territory success analysis\")\n",
    "        print(\"   • Average player value by state\")"
   ]
  },
  {
   "cell_type": "code",
   "execution_count": 27,
   "id": "a5aba76a",
   "metadata": {},
   "outputs": [
    {
     "data": {
      "application/vnd.plotly.v1+json": {
       "config": {
        "plotlyServerURL": "https://plot.ly"
       },
       "data": [
        {
         "marker": {
          "color": {
           "bdata": "AAAAAAAwYEDXo3A9Ch9gQLgehetRAGBAAAAAAAAQX0AAAAAAAKBeQAAAAAAAwF1ASOF6FK63XUAAAAAAAFBdQAAAAAAAIFxAAAAAAAAAXEDD9Shcj9JbQAAAAAAAkFtArkfhehRuW0AzMzMzMxNbQAAAAAAAsFpA",
           "dtype": "f8"
          },
          "colorscale": [
           [
            0,
            "#440154"
           ],
           [
            0.1111111111111111,
            "#482878"
           ],
           [
            0.2222222222222222,
            "#3e4989"
           ],
           [
            0.3333333333333333,
            "#31688e"
           ],
           [
            0.4444444444444444,
            "#26828e"
           ],
           [
            0.5555555555555556,
            "#1f9e89"
           ],
           [
            0.6666666666666666,
            "#35b779"
           ],
           [
            0.7777777777777778,
            "#6ece58"
           ],
           [
            0.8888888888888888,
            "#b5de2b"
           ],
           [
            1,
            "#fde725"
           ]
          ]
         },
         "name": "Top Players",
         "text": [
          "HB",
          "CB",
          "QB",
          "QB",
          "HB",
          "TE",
          "MIKE",
          "LEDG",
          "HB",
          "DT",
          "WR",
          "FS",
          "WR",
          "HB",
          "LT"
         ],
         "textposition": "auto",
         "type": "bar",
         "x": [
          "TYVONN BYARS",
          "COLTER ALBERDING",
          "DREW DEVILLIER",
          "PATRICK CRAYTON JR.",
          "D'ANDRE HARDEMAN JR.",
          "WILL SWARTZ",
          "KALEB BLANTON",
          "DEREYON JENKINS JR.",
          "TAJI ATKINS",
          "ROBERT ROOKS",
          "DRAYDEN DICKMANN",
          "MICHAEL AMEY III",
          "LANDON RANSOM-GOELZ",
          "DAELEN ALEXANDER",
          "DON WILLIAMS"
         ],
         "xaxis": "x",
         "y": {
          "bdata": "AAAAAAAwYEDXo3A9Ch9gQLgehetRAGBAAAAAAAAQX0AAAAAAAKBeQAAAAAAAwF1ASOF6FK63XUAAAAAAAFBdQAAAAAAAIFxAAAAAAAAAXEDD9Shcj9JbQAAAAAAAkFtArkfhehRuW0AzMzMzMxNbQAAAAAAAsFpA",
          "dtype": "f8"
         },
         "yaxis": "y"
        },
        {
         "marker": {
          "color": "#808080",
          "size": 8
         },
         "mode": "markers",
         "name": "NORMAL",
         "type": "scatter",
         "x": {
          "bdata": "R0dGT05MS0pGTUxLSUc3SEQ+NUNDQz1IQjw7TkNCQjxHQkBJQ0JASklERDxQS0ZGQ0A2TkVBPE9BRURATExJSUdHQ0xJQj9NTU9CSkM=",
          "dtype": "i1"
         },
         "xaxis": "x2",
         "y": {
          "bdata": "exSuR+FKWUAAAAAAABBfQEjhehSux1RApHA9CtdzV0BI4XoUridXQDMzMzMzE1tAAAAAAAAgXEAAAAAAADBgQAAAAAAAoF5ArkfhehRuW0DNzMzMzAxSQKRwPQrXQ1ZA4XoUrkcBWkDNzMzMzNxQQLgehetRmFNAAAAAAAAAUkAAAAAAAMBdQGZmZmZmFlZAAAAAAACQUEAzMzMzM9NPQK5H4XoU3ldAAAAAAADwVEAAAAAAALBaQJqZmZmZGVFAAAAAAADAWEAAAAAAAEBaQKRwPQrXg1FAZmZmZmaGUkCuR+F6FN5XQAAAAAAAoFRAMzMzMzODV0AAAAAAAEBaQHsUrkfhSllAMzMzMzODV0DNzMzMzMxWQFyPwvUorFVAAAAAAABQXUAzMzMzM4NXQJqZmZmZmVpAAAAAAAAgV0BmZmZmZlZRQAAAAAAAMFRAAAAAAAAwVEAAAAAAAEBaQAAAAAAAAFNApHA9CtdDVkAAAAAAAKBQQAAAAAAA4FVAMzMzMzPTT0AAAAAAAABcQAAAAAAAQFRAAAAAAABgWEAzMzMzM2NQQEjhehSuJ1dAAAAAAABAWkAzMzMzM8NSQEjhehSuJ1dAFK5H4XqUWEAAAAAAADBUQM3MzMzMzFZAzczMzMwMUkDNzMzMzAxSQAAAAAAA0FZAZmZmZmZWUUCkcD0K1xNVQKRwPQrXE1VArkfhehTeV0DNzMzMzAxSQGZmZmZmVlFAMzMzMzODV0AAAAAAAJBbQAAAAAAAQFNAXI/C9SjcVkAzMzMzM8NSQLgehetRmFNAzczMzMxcWkCkcD0K1+NTQA==",
          "dtype": "f8"
         },
         "yaxis": "y2"
        },
        {
         "marker": {
          "color": "#FFD700",
          "size": 8
         },
         "mode": "markers",
         "name": "IMPACT",
         "type": "scatter",
         "x": {
          "bdata": "RktHTkFNTEM=",
          "dtype": "i1"
         },
         "xaxis": "x2",
         "y": {
          "bdata": "uB6F61EAYECuR+F6FH5YQMP1KFyP0ltAKVyPwvV4WUBI4XoUrrddQK5H4XoUHlRAexSuR+HaU0DXo3A9Ch9gQA==",
          "dtype": "f8"
         },
         "yaxis": "y2"
        },
        {
         "cells": {
          "fill": {
           "color": "white"
          },
          "values": [
           [
            "AJ",
            "QUINTON",
            "ARTIS",
            "BRAYLEN",
            "JUSTIN",
            "JAMES",
            "WYATT",
            "LUKE",
            "TRACE",
            "COLE",
            "SPENCER",
            "NATE",
            "LUKE",
            "PATRICK",
            "JOSEPH",
            "CHIBBY",
            "MICHAEL",
            "MATTHEW",
            "DILLAN",
            "AQUANTIS",
            "COOPER",
            "BEAU",
            "JOE",
            "SHEPHERD",
            "LANE",
            "JERRICK",
            "NETANE",
            "LAMONT",
            "AJ",
            "JABARI",
            "JACK",
            "ENOCK"
           ],
           [
            "PADGETT",
            "JACKSON",
            "COLE",
            "WALKER",
            "WILLIAMS JR.",
            "FALK",
            "FREEMAN",
            "MILLER",
            "NORFLEET",
            "MORGAN",
            "HEDGECOCK",
            "BLEDSOE",
            "NEEDHAM",
            "VALENT",
            "MUTOMBO",
            "NWAJUAKU",
            "DALEY",
            "ARIBISALA",
            "BOTTS",
            "CLEMMONS",
            "KING",
            "BARTON",
            "CHAVEZ",
            "BOWLING",
            "HEENAN",
            "HARPER",
            "FEHOKO",
            "NARCISSE",
            "STEPHENS",
            "ELLISON",
            "KANE",
            "GOTA"
           ],
           [
            "QB",
            "HB",
            "WR",
            "WR",
            "WR",
            "TE",
            "TE",
            "LG",
            "LG",
            "RG",
            "RG",
            "RG",
            "RT",
            "RT",
            "LEDG",
            "REDG",
            "REDG",
            "DT",
            "DT",
            "DT",
            "WILL",
            "MIKE",
            "SAM",
            "SAM",
            "SAM",
            "CB",
            "CB",
            "CB",
            "CB",
            "FS",
            "SS",
            "K"
           ],
           [
            "JR (RS)",
            "JR (RS)",
            "JR (RS)",
            "JR (RS)",
            "SO (RS)",
            "SO (RS)",
            "JR",
            "SO",
            "JR (RS)",
            "SO (RS)",
            "JR",
            "SO (RS)",
            "SO (RS)",
            "SO (RS)",
            "SO (RS)",
            "JR (RS)",
            "JR (RS)",
            "JR (RS)",
            "JR",
            "SO",
            "SO (RS)",
            "SO (RS)",
            "SO (RS)",
            "JR (RS)",
            "SO (RS)",
            "JR",
            "JR (RS)",
            "JR (RS)",
            "SO (RS)",
            "SO (RS)",
            "JR (RS)",
            "JR (RS)"
           ],
           [
            70,
            78,
            75,
            75,
            55,
            62,
            53,
            66,
            59,
            67,
            66,
            66,
            66,
            64,
            66,
            68,
            68,
            75,
            70,
            54,
            65,
            65,
            69,
            68,
            64,
            73,
            71,
            71,
            67,
            66,
            77,
            66
           ],
           [
            83.1,
            92.6,
            98,
            89.1,
            78.4,
            88.4,
            66.2,
            99,
            70.1,
            95.5,
            82.5,
            94,
            94,
            91.2,
            94,
            80.8,
            80.8,
            89.1,
            87.5,
            81,
            92.6,
            92.6,
            98.3,
            80.8,
            91.2,
            91.2,
            84.3,
            84.3,
            95.5,
            94,
            91.4,
            78.4
           ]
          ]
         },
         "domain": {
          "x": [
           0,
           0.45
          ],
          "y": [
           0,
           0.375
          ]
         },
         "header": {
          "fill": {
           "color": "lightcoral"
          },
          "values": [
           "FIRST NAME",
           "LAST NAME",
           "POSITION",
           "YEAR",
           "BASE OVERALL",
           "VALUE"
          ]
         },
         "type": "table"
        },
        {
         "cells": {
          "fill": {
           "color": "white"
          },
          "values": [
           [
            "DAELEN",
            "TAJI",
            "D'ANDRE",
            "RAWSON",
            "DRAYDEN",
            "WILL",
            "DON",
            "ROMAN",
            "LEVI",
            "DEREYON",
            "DWAYNE",
            "NOLAN",
            "ROBERT",
            "NICK",
            "DJ",
            "KALEB",
            "MICHAEL"
           ],
           [
            "ALEXANDER",
            "ATKINS",
            "HARDEMAN JR.",
            "MACNEILL",
            "DICKMANN",
            "SWARTZ",
            "WILLIAMS",
            "LIVINGSTON",
            "BERRY",
            "JENKINS JR.",
            "HARRISON",
            "PERALTA",
            "ROOKS",
            "JOYNER",
            "ARKANSAS",
            "BLANTON",
            "AMEY III"
           ],
           [
            "HB",
            "HB",
            "HB",
            "WR",
            "WR",
            "TE",
            "LT",
            "LG",
            "RG",
            "LEDG",
            "LEDG",
            "REDG",
            "DT",
            "WILL",
            "MIKE",
            "MIKE",
            "FS"
           ],
           [
            "SO (RS)",
            "SO",
            "FR",
            "SO (RS)",
            "SO (RS)",
            "FR",
            "FR",
            "FR",
            "FR",
            "FR",
            "FR (RS)",
            "FR",
            "FR",
            "FR",
            "JR (RS)",
            "FR (RS)",
            "FR"
           ],
           [
            76,
            75,
            70,
            73,
            71,
            68,
            61,
            60,
            60,
            67,
            64,
            60,
            64,
            60,
            78,
            65,
            63
           ],
           [
            108.3,
            112.5,
            122.5,
            104,
            111.3,
            119,
            106.8,
            105,
            105,
            117.2,
            106.4,
            105,
            112,
            105,
            101.9,
            118.9,
            110.2
           ]
          ]
         },
         "domain": {
          "x": [
           0.55,
           1
          ],
          "y": [
           0,
           0.375
          ]
         },
         "header": {
          "fill": {
           "color": "gold"
          },
          "values": [
           "FIRST NAME",
           "LAST NAME",
           "POSITION",
           "YEAR",
           "BASE OVERALL",
           "VALUE"
          ]
         },
         "type": "table"
        }
       ],
       "layout": {
        "annotations": [
         {
          "font": {
           "size": 16
          },
          "showarrow": false,
          "text": "Top 15 Players by Value",
          "x": 0.225,
          "xanchor": "center",
          "xref": "paper",
          "y": 1,
          "yanchor": "bottom",
          "yref": "paper"
         },
         {
          "font": {
           "size": 16
          },
          "showarrow": false,
          "text": "Development Trait vs Rating",
          "x": 0.775,
          "xanchor": "center",
          "xref": "paper",
          "y": 1,
          "yanchor": "bottom",
          "yref": "paper"
         },
         {
          "font": {
           "size": 16
          },
          "showarrow": false,
          "text": "Cut Candidates",
          "x": 0.225,
          "xanchor": "center",
          "xref": "paper",
          "y": 0.375,
          "yanchor": "bottom",
          "yref": "paper"
         },
         {
          "font": {
           "size": 16
          },
          "showarrow": false,
          "text": "At-Risk Players",
          "x": 0.775,
          "xanchor": "center",
          "xref": "paper",
          "y": 0.375,
          "yanchor": "bottom",
          "yref": "paper"
         }
        ],
        "height": 800,
        "showlegend": true,
        "template": {
         "data": {
          "bar": [
           {
            "error_x": {
             "color": "#2a3f5f"
            },
            "error_y": {
             "color": "#2a3f5f"
            },
            "marker": {
             "line": {
              "color": "#E5ECF6",
              "width": 0.5
             },
             "pattern": {
              "fillmode": "overlay",
              "size": 10,
              "solidity": 0.2
             }
            },
            "type": "bar"
           }
          ],
          "barpolar": [
           {
            "marker": {
             "line": {
              "color": "#E5ECF6",
              "width": 0.5
             },
             "pattern": {
              "fillmode": "overlay",
              "size": 10,
              "solidity": 0.2
             }
            },
            "type": "barpolar"
           }
          ],
          "carpet": [
           {
            "aaxis": {
             "endlinecolor": "#2a3f5f",
             "gridcolor": "white",
             "linecolor": "white",
             "minorgridcolor": "white",
             "startlinecolor": "#2a3f5f"
            },
            "baxis": {
             "endlinecolor": "#2a3f5f",
             "gridcolor": "white",
             "linecolor": "white",
             "minorgridcolor": "white",
             "startlinecolor": "#2a3f5f"
            },
            "type": "carpet"
           }
          ],
          "choropleth": [
           {
            "colorbar": {
             "outlinewidth": 0,
             "ticks": ""
            },
            "type": "choropleth"
           }
          ],
          "contour": [
           {
            "colorbar": {
             "outlinewidth": 0,
             "ticks": ""
            },
            "colorscale": [
             [
              0,
              "#0d0887"
             ],
             [
              0.1111111111111111,
              "#46039f"
             ],
             [
              0.2222222222222222,
              "#7201a8"
             ],
             [
              0.3333333333333333,
              "#9c179e"
             ],
             [
              0.4444444444444444,
              "#bd3786"
             ],
             [
              0.5555555555555556,
              "#d8576b"
             ],
             [
              0.6666666666666666,
              "#ed7953"
             ],
             [
              0.7777777777777778,
              "#fb9f3a"
             ],
             [
              0.8888888888888888,
              "#fdca26"
             ],
             [
              1,
              "#f0f921"
             ]
            ],
            "type": "contour"
           }
          ],
          "contourcarpet": [
           {
            "colorbar": {
             "outlinewidth": 0,
             "ticks": ""
            },
            "type": "contourcarpet"
           }
          ],
          "heatmap": [
           {
            "colorbar": {
             "outlinewidth": 0,
             "ticks": ""
            },
            "colorscale": [
             [
              0,
              "#0d0887"
             ],
             [
              0.1111111111111111,
              "#46039f"
             ],
             [
              0.2222222222222222,
              "#7201a8"
             ],
             [
              0.3333333333333333,
              "#9c179e"
             ],
             [
              0.4444444444444444,
              "#bd3786"
             ],
             [
              0.5555555555555556,
              "#d8576b"
             ],
             [
              0.6666666666666666,
              "#ed7953"
             ],
             [
              0.7777777777777778,
              "#fb9f3a"
             ],
             [
              0.8888888888888888,
              "#fdca26"
             ],
             [
              1,
              "#f0f921"
             ]
            ],
            "type": "heatmap"
           }
          ],
          "histogram": [
           {
            "marker": {
             "pattern": {
              "fillmode": "overlay",
              "size": 10,
              "solidity": 0.2
             }
            },
            "type": "histogram"
           }
          ],
          "histogram2d": [
           {
            "colorbar": {
             "outlinewidth": 0,
             "ticks": ""
            },
            "colorscale": [
             [
              0,
              "#0d0887"
             ],
             [
              0.1111111111111111,
              "#46039f"
             ],
             [
              0.2222222222222222,
              "#7201a8"
             ],
             [
              0.3333333333333333,
              "#9c179e"
             ],
             [
              0.4444444444444444,
              "#bd3786"
             ],
             [
              0.5555555555555556,
              "#d8576b"
             ],
             [
              0.6666666666666666,
              "#ed7953"
             ],
             [
              0.7777777777777778,
              "#fb9f3a"
             ],
             [
              0.8888888888888888,
              "#fdca26"
             ],
             [
              1,
              "#f0f921"
             ]
            ],
            "type": "histogram2d"
           }
          ],
          "histogram2dcontour": [
           {
            "colorbar": {
             "outlinewidth": 0,
             "ticks": ""
            },
            "colorscale": [
             [
              0,
              "#0d0887"
             ],
             [
              0.1111111111111111,
              "#46039f"
             ],
             [
              0.2222222222222222,
              "#7201a8"
             ],
             [
              0.3333333333333333,
              "#9c179e"
             ],
             [
              0.4444444444444444,
              "#bd3786"
             ],
             [
              0.5555555555555556,
              "#d8576b"
             ],
             [
              0.6666666666666666,
              "#ed7953"
             ],
             [
              0.7777777777777778,
              "#fb9f3a"
             ],
             [
              0.8888888888888888,
              "#fdca26"
             ],
             [
              1,
              "#f0f921"
             ]
            ],
            "type": "histogram2dcontour"
           }
          ],
          "mesh3d": [
           {
            "colorbar": {
             "outlinewidth": 0,
             "ticks": ""
            },
            "type": "mesh3d"
           }
          ],
          "parcoords": [
           {
            "line": {
             "colorbar": {
              "outlinewidth": 0,
              "ticks": ""
             }
            },
            "type": "parcoords"
           }
          ],
          "pie": [
           {
            "automargin": true,
            "type": "pie"
           }
          ],
          "scatter": [
           {
            "fillpattern": {
             "fillmode": "overlay",
             "size": 10,
             "solidity": 0.2
            },
            "type": "scatter"
           }
          ],
          "scatter3d": [
           {
            "line": {
             "colorbar": {
              "outlinewidth": 0,
              "ticks": ""
             }
            },
            "marker": {
             "colorbar": {
              "outlinewidth": 0,
              "ticks": ""
             }
            },
            "type": "scatter3d"
           }
          ],
          "scattercarpet": [
           {
            "marker": {
             "colorbar": {
              "outlinewidth": 0,
              "ticks": ""
             }
            },
            "type": "scattercarpet"
           }
          ],
          "scattergeo": [
           {
            "marker": {
             "colorbar": {
              "outlinewidth": 0,
              "ticks": ""
             }
            },
            "type": "scattergeo"
           }
          ],
          "scattergl": [
           {
            "marker": {
             "colorbar": {
              "outlinewidth": 0,
              "ticks": ""
             }
            },
            "type": "scattergl"
           }
          ],
          "scattermap": [
           {
            "marker": {
             "colorbar": {
              "outlinewidth": 0,
              "ticks": ""
             }
            },
            "type": "scattermap"
           }
          ],
          "scattermapbox": [
           {
            "marker": {
             "colorbar": {
              "outlinewidth": 0,
              "ticks": ""
             }
            },
            "type": "scattermapbox"
           }
          ],
          "scatterpolar": [
           {
            "marker": {
             "colorbar": {
              "outlinewidth": 0,
              "ticks": ""
             }
            },
            "type": "scatterpolar"
           }
          ],
          "scatterpolargl": [
           {
            "marker": {
             "colorbar": {
              "outlinewidth": 0,
              "ticks": ""
             }
            },
            "type": "scatterpolargl"
           }
          ],
          "scatterternary": [
           {
            "marker": {
             "colorbar": {
              "outlinewidth": 0,
              "ticks": ""
             }
            },
            "type": "scatterternary"
           }
          ],
          "surface": [
           {
            "colorbar": {
             "outlinewidth": 0,
             "ticks": ""
            },
            "colorscale": [
             [
              0,
              "#0d0887"
             ],
             [
              0.1111111111111111,
              "#46039f"
             ],
             [
              0.2222222222222222,
              "#7201a8"
             ],
             [
              0.3333333333333333,
              "#9c179e"
             ],
             [
              0.4444444444444444,
              "#bd3786"
             ],
             [
              0.5555555555555556,
              "#d8576b"
             ],
             [
              0.6666666666666666,
              "#ed7953"
             ],
             [
              0.7777777777777778,
              "#fb9f3a"
             ],
             [
              0.8888888888888888,
              "#fdca26"
             ],
             [
              1,
              "#f0f921"
             ]
            ],
            "type": "surface"
           }
          ],
          "table": [
           {
            "cells": {
             "fill": {
              "color": "#EBF0F8"
             },
             "line": {
              "color": "white"
             }
            },
            "header": {
             "fill": {
              "color": "#C8D4E3"
             },
             "line": {
              "color": "white"
             }
            },
            "type": "table"
           }
          ]
         },
         "layout": {
          "annotationdefaults": {
           "arrowcolor": "#2a3f5f",
           "arrowhead": 0,
           "arrowwidth": 1
          },
          "autotypenumbers": "strict",
          "coloraxis": {
           "colorbar": {
            "outlinewidth": 0,
            "ticks": ""
           }
          },
          "colorscale": {
           "diverging": [
            [
             0,
             "#8e0152"
            ],
            [
             0.1,
             "#c51b7d"
            ],
            [
             0.2,
             "#de77ae"
            ],
            [
             0.3,
             "#f1b6da"
            ],
            [
             0.4,
             "#fde0ef"
            ],
            [
             0.5,
             "#f7f7f7"
            ],
            [
             0.6,
             "#e6f5d0"
            ],
            [
             0.7,
             "#b8e186"
            ],
            [
             0.8,
             "#7fbc41"
            ],
            [
             0.9,
             "#4d9221"
            ],
            [
             1,
             "#276419"
            ]
           ],
           "sequential": [
            [
             0,
             "#0d0887"
            ],
            [
             0.1111111111111111,
             "#46039f"
            ],
            [
             0.2222222222222222,
             "#7201a8"
            ],
            [
             0.3333333333333333,
             "#9c179e"
            ],
            [
             0.4444444444444444,
             "#bd3786"
            ],
            [
             0.5555555555555556,
             "#d8576b"
            ],
            [
             0.6666666666666666,
             "#ed7953"
            ],
            [
             0.7777777777777778,
             "#fb9f3a"
            ],
            [
             0.8888888888888888,
             "#fdca26"
            ],
            [
             1,
             "#f0f921"
            ]
           ],
           "sequentialminus": [
            [
             0,
             "#0d0887"
            ],
            [
             0.1111111111111111,
             "#46039f"
            ],
            [
             0.2222222222222222,
             "#7201a8"
            ],
            [
             0.3333333333333333,
             "#9c179e"
            ],
            [
             0.4444444444444444,
             "#bd3786"
            ],
            [
             0.5555555555555556,
             "#d8576b"
            ],
            [
             0.6666666666666666,
             "#ed7953"
            ],
            [
             0.7777777777777778,
             "#fb9f3a"
            ],
            [
             0.8888888888888888,
             "#fdca26"
            ],
            [
             1,
             "#f0f921"
            ]
           ]
          },
          "colorway": [
           "#636efa",
           "#EF553B",
           "#00cc96",
           "#ab63fa",
           "#FFA15A",
           "#19d3f3",
           "#FF6692",
           "#B6E880",
           "#FF97FF",
           "#FECB52"
          ],
          "font": {
           "color": "#2a3f5f"
          },
          "geo": {
           "bgcolor": "white",
           "lakecolor": "white",
           "landcolor": "#E5ECF6",
           "showlakes": true,
           "showland": true,
           "subunitcolor": "white"
          },
          "hoverlabel": {
           "align": "left"
          },
          "hovermode": "closest",
          "mapbox": {
           "style": "light"
          },
          "paper_bgcolor": "white",
          "plot_bgcolor": "#E5ECF6",
          "polar": {
           "angularaxis": {
            "gridcolor": "white",
            "linecolor": "white",
            "ticks": ""
           },
           "bgcolor": "#E5ECF6",
           "radialaxis": {
            "gridcolor": "white",
            "linecolor": "white",
            "ticks": ""
           }
          },
          "scene": {
           "xaxis": {
            "backgroundcolor": "#E5ECF6",
            "gridcolor": "white",
            "gridwidth": 2,
            "linecolor": "white",
            "showbackground": true,
            "ticks": "",
            "zerolinecolor": "white"
           },
           "yaxis": {
            "backgroundcolor": "#E5ECF6",
            "gridcolor": "white",
            "gridwidth": 2,
            "linecolor": "white",
            "showbackground": true,
            "ticks": "",
            "zerolinecolor": "white"
           },
           "zaxis": {
            "backgroundcolor": "#E5ECF6",
            "gridcolor": "white",
            "gridwidth": 2,
            "linecolor": "white",
            "showbackground": true,
            "ticks": "",
            "zerolinecolor": "white"
           }
          },
          "shapedefaults": {
           "line": {
            "color": "#2a3f5f"
           }
          },
          "ternary": {
           "aaxis": {
            "gridcolor": "white",
            "linecolor": "white",
            "ticks": ""
           },
           "baxis": {
            "gridcolor": "white",
            "linecolor": "white",
            "ticks": ""
           },
           "bgcolor": "#E5ECF6",
           "caxis": {
            "gridcolor": "white",
            "linecolor": "white",
            "ticks": ""
           }
          },
          "title": {
           "x": 0.05
          },
          "xaxis": {
           "automargin": true,
           "gridcolor": "white",
           "linecolor": "white",
           "ticks": "",
           "title": {
            "standoff": 15
           },
           "zerolinecolor": "white",
           "zerolinewidth": 2
          },
          "yaxis": {
           "automargin": true,
           "gridcolor": "white",
           "linecolor": "white",
           "ticks": "",
           "title": {
            "standoff": 15
           },
           "zerolinecolor": "white",
           "zerolinewidth": 2
          }
         }
        },
        "title": {
         "text": "⭐ Player Performance Analysis"
        },
        "xaxis": {
         "anchor": "y",
         "domain": [
          0,
          0.45
         ],
         "tickangle": 45,
         "title": {
          "text": "Player"
         }
        },
        "xaxis2": {
         "anchor": "y2",
         "domain": [
          0.55,
          1
         ],
         "title": {
          "text": "Base Overall"
         }
        },
        "yaxis": {
         "anchor": "x",
         "domain": [
          0.625,
          1
         ],
         "title": {
          "text": "Player Value"
         }
        },
        "yaxis2": {
         "anchor": "x2",
         "domain": [
          0.625,
          1
         ],
         "title": {
          "text": "Player Value"
         }
        }
       }
      }
     },
     "metadata": {},
     "output_type": "display_data"
    },
    {
     "name": "stdout",
     "output_type": "stream",
     "text": [
      "⭐ Performance Insights:\n",
      "  • Top Player: TYVONN BYARS (129.5 value)\n",
      "  • Elite Dev Traits: 0 players\n",
      "  • Star Dev Traits: 0 players\n",
      "  • Players to Cut: 32\n",
      "  • Players At Risk: 17\n"
     ]
    }
   ],
   "source": [
    "# 5. Top Performers and Cut Candidates Analysis\n",
    "if roster_df is not None:\n",
    "    # Create top performers vs cut candidates comparison\n",
    "    fig = make_subplots(\n",
    "        rows=2, cols=2,\n",
    "        subplot_titles=('Top 15 Players by Value', 'Development Trait vs Rating',\n",
    "                       'Cut Candidates', 'At-Risk Players'),\n",
    "        specs=[[{\"type\": \"bar\"}, {\"type\": \"scatter\"}],\n",
    "               [{\"type\": \"table\"}, {\"type\": \"table\"}]]\n",
    "    )\n",
    "\n",
    "    # Top performers\n",
    "    top_players = roster_df.nlargest(15, 'VALUE')\n",
    "    player_names = top_players['FIRST NAME'] + ' ' + top_players['LAST NAME']\n",
    "\n",
    "    fig.add_trace(\n",
    "        go.Bar(x=player_names, y=top_players['VALUE'],\n",
    "               name=\"Top Players\",\n",
    "               marker_color=top_players['VALUE'],\n",
    "               marker_colorscale='Viridis',\n",
    "               text=top_players['POSITION'],\n",
    "               textposition='auto'),\n",
    "        row=1, col=1\n",
    "    )\n",
    "\n",
    "    # Development trait vs rating scatter\n",
    "    dev_trait_colors = {'ELITE': '#2E8B57', 'STAR': '#32CD32', 'IMPACT': '#FFD700', 'NORMAL': '#808080'}\n",
    "    for trait in roster_df['DEV TRAIT'].unique():\n",
    "        trait_data = roster_df[roster_df['DEV TRAIT'] == trait]\n",
    "        fig.add_trace(\n",
    "            go.Scatter(x=trait_data['BASE OVERALL'], y=trait_data['VALUE'],\n",
    "                      mode='markers', name=trait,\n",
    "                      marker=dict(color=dev_trait_colors.get(trait, '#808080'), size=8)),\n",
    "            row=1, col=2\n",
    "        )\n",
    "\n",
    "    # Cut candidates table\n",
    "    cut_candidates = roster_df[roster_df['STATUS'] == 'CUT'][\n",
    "        ['FIRST NAME', 'LAST NAME', 'POSITION', 'YEAR', 'BASE OVERALL', 'VALUE']\n",
    "    ].round(1)\n",
    "\n",
    "    if len(cut_candidates) > 0:\n",
    "        fig.add_trace(\n",
    "            go.Table(\n",
    "                header=dict(values=list(cut_candidates.columns), fill_color='lightcoral'),\n",
    "                cells=dict(values=[cut_candidates[col] for col in cut_candidates.columns],\n",
    "                          fill_color='white')\n",
    "            ),\n",
    "            row=2, col=1\n",
    "        )\n",
    "\n",
    "    # At-risk players table\n",
    "    at_risk = roster_df[roster_df['STATUS'] == 'AT RISK'][\n",
    "        ['FIRST NAME', 'LAST NAME', 'POSITION', 'YEAR', 'BASE OVERALL', 'VALUE']\n",
    "    ].round(1)\n",
    "\n",
    "    if len(at_risk) > 0:\n",
    "        fig.add_trace(\n",
    "            go.Table(\n",
    "                header=dict(values=list(at_risk.columns), fill_color='gold'),\n",
    "                cells=dict(values=[at_risk[col] for col in at_risk.columns],\n",
    "                          fill_color='white')\n",
    "            ),\n",
    "            row=2, col=2\n",
    "        )\n",
    "\n",
    "    fig.update_layout(height=800, title_text=\"⭐ Player Performance Analysis\", showlegend=True)\n",
    "    fig.update_xaxes(title_text=\"Player\", row=1, col=1, tickangle=45)\n",
    "    fig.update_yaxes(title_text=\"Player Value\", row=1, col=1)\n",
    "    fig.update_xaxes(title_text=\"Base Overall\", row=1, col=2)\n",
    "    fig.update_yaxes(title_text=\"Player Value\", row=1, col=2)\n",
    "\n",
    "    fig.show()\n",
    "\n",
    "    # Print key insights\n",
    "    print(\"⭐ Performance Insights:\")\n",
    "    print(f\"  • Top Player: {roster_df.loc[roster_df['VALUE'].idxmax(), 'FIRST NAME']} {roster_df.loc[roster_df['VALUE'].idxmax(), 'LAST NAME']} ({roster_df['VALUE'].max():.1f} value)\")\n",
    "    print(f\"  • Elite Dev Traits: {len(roster_df[roster_df['DEV TRAIT'] == 'ELITE'])} players\")\n",
    "    print(f\"  • Star Dev Traits: {len(roster_df[roster_df['DEV TRAIT'] == 'STAR'])} players\")\n",
    "    print(f\"  • Players to Cut: {len(cut_candidates)}\")\n",
    "    print(f\"  • Players At Risk: {len(at_risk)}\")"
   ]
  },
  {
   "cell_type": "markdown",
   "id": "e4b7472b",
   "metadata": {},
   "source": [
    "## 💾 Export Results\n",
    "\n",
    "Save your analysis results to CSV files for future reference or sharing."
   ]
  },
  {
   "cell_type": "code",
   "execution_count": 28,
   "id": "a1e17d19",
   "metadata": {},
   "outputs": [
    {
     "name": "stdout",
     "output_type": "stream",
     "text": [
      "💾 Export completed successfully!\n",
      "📁 Files saved to: /Users/christianthomas/Downloads/cfb_dynasty_data\n",
      "  📊 Player Values: player_values_analysis.csv\n",
      "  🎯 Recruiting Plan: recruiting_plan_analysis.csv\n",
      "  📋 Position Analysis: position_analysis_detailed.csv\n",
      "\n",
      "📈 Export Summary:\n",
      "  • 85 player records with values and status\n",
      "  • 21 position recruiting priorities\n",
      "  • 19 detailed position breakdowns\n"
     ]
    }
   ],
   "source": [
    "# Export Analysis Results\n",
    "if roster_df is not None and recruiting_plan is not None:\n",
    "    # Use the export_files function from file_utils\n",
    "    success = export_files(\n",
    "        roster_df=roster_df,\n",
    "        recruiting_plan=recruiting_plan,\n",
    "        position_requirements=DEFAULT_POSITION_REQUIREMENTS\n",
    "    )\n",
    "\n",
    "    if not success:\n",
    "        print(\"❌ Export failed. Please check the error messages above.\")\n",
    "else:\n",
    "    print(\"❌ Cannot export - no data available. Please run the analysis cells above first.\")"
   ]
  },
  {
   "cell_type": "markdown",
   "id": "b7a18c90",
   "metadata": {},
   "source": [
    "## 🔍 Interactive Data Exploration\n",
    "\n",
    "Use these cells to explore your data interactively. Modify the code below to filter and analyze specific aspects of your roster."
   ]
  },
  {
   "cell_type": "code",
   "execution_count": 29,
   "id": "e70fa86c",
   "metadata": {},
   "outputs": [
    {
     "name": "stdout",
     "output_type": "stream",
     "text": [
      "📊 QB Analysis:\n",
      "  • Total Players: 4\n",
      "  • Average Rating: 70.5\n",
      "  • Average Value: 109.1\n",
      "  • Top Player: DREW DEVILLIER (128.0)\n",
      "\n",
      "📋 Detailed QB Roster:\n",
      "RS FIRST NAME   LAST NAME    YEAR  OVERALL  BASE OVERALL     ARCHETYPE DEV TRAIT  VALUE STATUS\n",
      "         DREW   DEVILLIER FR (RS)       70            70 POCKET PASSER    IMPACT 128.01   SAFE\n",
      "RS    PATRICK CRAYTON JR.      FR       71            71   DUAL THREAT    NORMAL 124.25   SAFE\n",
      "        CHASE     JENKINS SO (RS)       71            71   DUAL THREAT    NORMAL 101.17   SAFE\n",
      "           AJ     PADGETT JR (RS)       70            70 POCKET PASSER    NORMAL  83.12    CUT\n"
     ]
    }
   ],
   "source": [
    "# Interactive Exploration Examples\n",
    "\n",
    "# Example 1: Filter by specific position (change 'QB' to any position)\n",
    "if roster_df is not None:\n",
    "    position_to_analyze = 'QB'  # Change this to any position\n",
    "    position_players = roster_df[roster_df['POSITION'] == position_to_analyze].copy()\n",
    "\n",
    "    if len(position_players) > 0:\n",
    "        print(f\"📊 {position_to_analyze} Analysis:\")\n",
    "        print(f\"  • Total Players: {len(position_players)}\")\n",
    "        print(f\"  • Average Rating: {position_players['BASE OVERALL'].mean():.1f}\")\n",
    "        print(f\"  • Average Value: {position_players['VALUE'].mean():.1f}\")\n",
    "        print(f\"  • Top Player: {position_players.loc[position_players['VALUE'].idxmax(), 'FIRST NAME']} {position_players.loc[position_players['VALUE'].idxmax(), 'LAST NAME']} ({position_players['VALUE'].max():.1f})\")\n",
    "\n",
    "        # Show detailed breakdown\n",
    "        print(f\"\\n📋 Detailed {position_to_analyze} Roster:\")\n",
    "        display_cols = ['RS', 'FIRST NAME', 'LAST NAME', 'YEAR', 'OVERALL', 'BASE OVERALL', 'ARCHETYPE', 'DEV TRAIT', 'VALUE', 'STATUS']\n",
    "        print(position_players[display_cols].sort_values('VALUE', ascending=False).to_string(index=False))\n",
    "    else:\n",
    "        print(f\"❌ No players found at {position_to_analyze} position\")\n",
    "else:\n",
    "    print(\"❌ No roster data available. Please run the data loading cells first.\")"
   ]
  },
  {
   "cell_type": "code",
   "execution_count": 30,
   "id": "db78d730",
   "metadata": {},
   "outputs": [
    {
     "name": "stdout",
     "output_type": "stream",
     "text": [
      "⭐ High-Value Underclassmen (Future Stars):\n",
      "Found 5 underclassmen with value > 120\n"
     ]
    },
    {
     "data": {
      "application/vnd.plotly.v1+json": {
       "config": {
        "plotlyServerURL": "https://plot.ly"
       },
       "data": [
        {
         "customdata": [
          [
           "PATRICK",
           "CRAYTON JR.",
           "QB",
           "FR"
          ],
          [
           "TYVONN",
           "BYARS",
           "HB",
           "FR"
          ],
          [
           "D'ANDRE",
           "HARDEMAN JR.",
           "HB",
           "FR"
          ]
         ],
         "hovertemplate": "DEV TRAIT=NORMAL<br>BASE OVERALL=%{x}<br>VALUE=%{y}<br>OVERALL=%{marker.size}<br>FIRST NAME=%{customdata[0]}<br>LAST NAME=%{customdata[1]}<br>POSITION=%{customdata[2]}<br>YEAR=%{customdata[3]}<extra></extra>",
         "legendgroup": "NORMAL",
         "marker": {
          "color": "#636efa",
          "size": {
           "bdata": "R0pG",
           "dtype": "i1"
          },
          "sizemode": "area",
          "sizeref": 0.185,
          "symbol": "circle"
         },
         "mode": "markers",
         "name": "NORMAL",
         "orientation": "v",
         "showlegend": true,
         "type": "scatter",
         "x": {
          "bdata": "R0pG",
          "dtype": "i1"
         },
         "xaxis": "x",
         "y": {
          "bdata": "AAAAAAAQX0AAAAAAADBgQAAAAAAAoF5A",
          "dtype": "f8"
         },
         "yaxis": "y"
        },
        {
         "customdata": [
          [
           "DREW",
           "DEVILLIER",
           "QB",
           "FR (RS)"
          ],
          [
           "COLTER",
           "ALBERDING",
           "CB",
           "FR"
          ]
         ],
         "hovertemplate": "DEV TRAIT=IMPACT<br>BASE OVERALL=%{x}<br>VALUE=%{y}<br>OVERALL=%{marker.size}<br>FIRST NAME=%{customdata[0]}<br>LAST NAME=%{customdata[1]}<br>POSITION=%{customdata[2]}<br>YEAR=%{customdata[3]}<extra></extra>",
         "legendgroup": "IMPACT",
         "marker": {
          "color": "#EF553B",
          "size": {
           "bdata": "RkM=",
           "dtype": "i1"
          },
          "sizemode": "area",
          "sizeref": 0.185,
          "symbol": "circle"
         },
         "mode": "markers",
         "name": "IMPACT",
         "orientation": "v",
         "showlegend": true,
         "type": "scatter",
         "x": {
          "bdata": "RkM=",
          "dtype": "i1"
         },
         "xaxis": "x",
         "y": {
          "bdata": "uB6F61EAYEDXo3A9Ch9gQA==",
          "dtype": "f8"
         },
         "yaxis": "y"
        }
       ],
       "layout": {
        "legend": {
         "itemsizing": "constant",
         "title": {
          "text": "DEV TRAIT"
         },
         "tracegroupgap": 0
        },
        "template": {
         "data": {
          "bar": [
           {
            "error_x": {
             "color": "#2a3f5f"
            },
            "error_y": {
             "color": "#2a3f5f"
            },
            "marker": {
             "line": {
              "color": "#E5ECF6",
              "width": 0.5
             },
             "pattern": {
              "fillmode": "overlay",
              "size": 10,
              "solidity": 0.2
             }
            },
            "type": "bar"
           }
          ],
          "barpolar": [
           {
            "marker": {
             "line": {
              "color": "#E5ECF6",
              "width": 0.5
             },
             "pattern": {
              "fillmode": "overlay",
              "size": 10,
              "solidity": 0.2
             }
            },
            "type": "barpolar"
           }
          ],
          "carpet": [
           {
            "aaxis": {
             "endlinecolor": "#2a3f5f",
             "gridcolor": "white",
             "linecolor": "white",
             "minorgridcolor": "white",
             "startlinecolor": "#2a3f5f"
            },
            "baxis": {
             "endlinecolor": "#2a3f5f",
             "gridcolor": "white",
             "linecolor": "white",
             "minorgridcolor": "white",
             "startlinecolor": "#2a3f5f"
            },
            "type": "carpet"
           }
          ],
          "choropleth": [
           {
            "colorbar": {
             "outlinewidth": 0,
             "ticks": ""
            },
            "type": "choropleth"
           }
          ],
          "contour": [
           {
            "colorbar": {
             "outlinewidth": 0,
             "ticks": ""
            },
            "colorscale": [
             [
              0,
              "#0d0887"
             ],
             [
              0.1111111111111111,
              "#46039f"
             ],
             [
              0.2222222222222222,
              "#7201a8"
             ],
             [
              0.3333333333333333,
              "#9c179e"
             ],
             [
              0.4444444444444444,
              "#bd3786"
             ],
             [
              0.5555555555555556,
              "#d8576b"
             ],
             [
              0.6666666666666666,
              "#ed7953"
             ],
             [
              0.7777777777777778,
              "#fb9f3a"
             ],
             [
              0.8888888888888888,
              "#fdca26"
             ],
             [
              1,
              "#f0f921"
             ]
            ],
            "type": "contour"
           }
          ],
          "contourcarpet": [
           {
            "colorbar": {
             "outlinewidth": 0,
             "ticks": ""
            },
            "type": "contourcarpet"
           }
          ],
          "heatmap": [
           {
            "colorbar": {
             "outlinewidth": 0,
             "ticks": ""
            },
            "colorscale": [
             [
              0,
              "#0d0887"
             ],
             [
              0.1111111111111111,
              "#46039f"
             ],
             [
              0.2222222222222222,
              "#7201a8"
             ],
             [
              0.3333333333333333,
              "#9c179e"
             ],
             [
              0.4444444444444444,
              "#bd3786"
             ],
             [
              0.5555555555555556,
              "#d8576b"
             ],
             [
              0.6666666666666666,
              "#ed7953"
             ],
             [
              0.7777777777777778,
              "#fb9f3a"
             ],
             [
              0.8888888888888888,
              "#fdca26"
             ],
             [
              1,
              "#f0f921"
             ]
            ],
            "type": "heatmap"
           }
          ],
          "histogram": [
           {
            "marker": {
             "pattern": {
              "fillmode": "overlay",
              "size": 10,
              "solidity": 0.2
             }
            },
            "type": "histogram"
           }
          ],
          "histogram2d": [
           {
            "colorbar": {
             "outlinewidth": 0,
             "ticks": ""
            },
            "colorscale": [
             [
              0,
              "#0d0887"
             ],
             [
              0.1111111111111111,
              "#46039f"
             ],
             [
              0.2222222222222222,
              "#7201a8"
             ],
             [
              0.3333333333333333,
              "#9c179e"
             ],
             [
              0.4444444444444444,
              "#bd3786"
             ],
             [
              0.5555555555555556,
              "#d8576b"
             ],
             [
              0.6666666666666666,
              "#ed7953"
             ],
             [
              0.7777777777777778,
              "#fb9f3a"
             ],
             [
              0.8888888888888888,
              "#fdca26"
             ],
             [
              1,
              "#f0f921"
             ]
            ],
            "type": "histogram2d"
           }
          ],
          "histogram2dcontour": [
           {
            "colorbar": {
             "outlinewidth": 0,
             "ticks": ""
            },
            "colorscale": [
             [
              0,
              "#0d0887"
             ],
             [
              0.1111111111111111,
              "#46039f"
             ],
             [
              0.2222222222222222,
              "#7201a8"
             ],
             [
              0.3333333333333333,
              "#9c179e"
             ],
             [
              0.4444444444444444,
              "#bd3786"
             ],
             [
              0.5555555555555556,
              "#d8576b"
             ],
             [
              0.6666666666666666,
              "#ed7953"
             ],
             [
              0.7777777777777778,
              "#fb9f3a"
             ],
             [
              0.8888888888888888,
              "#fdca26"
             ],
             [
              1,
              "#f0f921"
             ]
            ],
            "type": "histogram2dcontour"
           }
          ],
          "mesh3d": [
           {
            "colorbar": {
             "outlinewidth": 0,
             "ticks": ""
            },
            "type": "mesh3d"
           }
          ],
          "parcoords": [
           {
            "line": {
             "colorbar": {
              "outlinewidth": 0,
              "ticks": ""
             }
            },
            "type": "parcoords"
           }
          ],
          "pie": [
           {
            "automargin": true,
            "type": "pie"
           }
          ],
          "scatter": [
           {
            "fillpattern": {
             "fillmode": "overlay",
             "size": 10,
             "solidity": 0.2
            },
            "type": "scatter"
           }
          ],
          "scatter3d": [
           {
            "line": {
             "colorbar": {
              "outlinewidth": 0,
              "ticks": ""
             }
            },
            "marker": {
             "colorbar": {
              "outlinewidth": 0,
              "ticks": ""
             }
            },
            "type": "scatter3d"
           }
          ],
          "scattercarpet": [
           {
            "marker": {
             "colorbar": {
              "outlinewidth": 0,
              "ticks": ""
             }
            },
            "type": "scattercarpet"
           }
          ],
          "scattergeo": [
           {
            "marker": {
             "colorbar": {
              "outlinewidth": 0,
              "ticks": ""
             }
            },
            "type": "scattergeo"
           }
          ],
          "scattergl": [
           {
            "marker": {
             "colorbar": {
              "outlinewidth": 0,
              "ticks": ""
             }
            },
            "type": "scattergl"
           }
          ],
          "scattermap": [
           {
            "marker": {
             "colorbar": {
              "outlinewidth": 0,
              "ticks": ""
             }
            },
            "type": "scattermap"
           }
          ],
          "scattermapbox": [
           {
            "marker": {
             "colorbar": {
              "outlinewidth": 0,
              "ticks": ""
             }
            },
            "type": "scattermapbox"
           }
          ],
          "scatterpolar": [
           {
            "marker": {
             "colorbar": {
              "outlinewidth": 0,
              "ticks": ""
             }
            },
            "type": "scatterpolar"
           }
          ],
          "scatterpolargl": [
           {
            "marker": {
             "colorbar": {
              "outlinewidth": 0,
              "ticks": ""
             }
            },
            "type": "scatterpolargl"
           }
          ],
          "scatterternary": [
           {
            "marker": {
             "colorbar": {
              "outlinewidth": 0,
              "ticks": ""
             }
            },
            "type": "scatterternary"
           }
          ],
          "surface": [
           {
            "colorbar": {
             "outlinewidth": 0,
             "ticks": ""
            },
            "colorscale": [
             [
              0,
              "#0d0887"
             ],
             [
              0.1111111111111111,
              "#46039f"
             ],
             [
              0.2222222222222222,
              "#7201a8"
             ],
             [
              0.3333333333333333,
              "#9c179e"
             ],
             [
              0.4444444444444444,
              "#bd3786"
             ],
             [
              0.5555555555555556,
              "#d8576b"
             ],
             [
              0.6666666666666666,
              "#ed7953"
             ],
             [
              0.7777777777777778,
              "#fb9f3a"
             ],
             [
              0.8888888888888888,
              "#fdca26"
             ],
             [
              1,
              "#f0f921"
             ]
            ],
            "type": "surface"
           }
          ],
          "table": [
           {
            "cells": {
             "fill": {
              "color": "#EBF0F8"
             },
             "line": {
              "color": "white"
             }
            },
            "header": {
             "fill": {
              "color": "#C8D4E3"
             },
             "line": {
              "color": "white"
             }
            },
            "type": "table"
           }
          ]
         },
         "layout": {
          "annotationdefaults": {
           "arrowcolor": "#2a3f5f",
           "arrowhead": 0,
           "arrowwidth": 1
          },
          "autotypenumbers": "strict",
          "coloraxis": {
           "colorbar": {
            "outlinewidth": 0,
            "ticks": ""
           }
          },
          "colorscale": {
           "diverging": [
            [
             0,
             "#8e0152"
            ],
            [
             0.1,
             "#c51b7d"
            ],
            [
             0.2,
             "#de77ae"
            ],
            [
             0.3,
             "#f1b6da"
            ],
            [
             0.4,
             "#fde0ef"
            ],
            [
             0.5,
             "#f7f7f7"
            ],
            [
             0.6,
             "#e6f5d0"
            ],
            [
             0.7,
             "#b8e186"
            ],
            [
             0.8,
             "#7fbc41"
            ],
            [
             0.9,
             "#4d9221"
            ],
            [
             1,
             "#276419"
            ]
           ],
           "sequential": [
            [
             0,
             "#0d0887"
            ],
            [
             0.1111111111111111,
             "#46039f"
            ],
            [
             0.2222222222222222,
             "#7201a8"
            ],
            [
             0.3333333333333333,
             "#9c179e"
            ],
            [
             0.4444444444444444,
             "#bd3786"
            ],
            [
             0.5555555555555556,
             "#d8576b"
            ],
            [
             0.6666666666666666,
             "#ed7953"
            ],
            [
             0.7777777777777778,
             "#fb9f3a"
            ],
            [
             0.8888888888888888,
             "#fdca26"
            ],
            [
             1,
             "#f0f921"
            ]
           ],
           "sequentialminus": [
            [
             0,
             "#0d0887"
            ],
            [
             0.1111111111111111,
             "#46039f"
            ],
            [
             0.2222222222222222,
             "#7201a8"
            ],
            [
             0.3333333333333333,
             "#9c179e"
            ],
            [
             0.4444444444444444,
             "#bd3786"
            ],
            [
             0.5555555555555556,
             "#d8576b"
            ],
            [
             0.6666666666666666,
             "#ed7953"
            ],
            [
             0.7777777777777778,
             "#fb9f3a"
            ],
            [
             0.8888888888888888,
             "#fdca26"
            ],
            [
             1,
             "#f0f921"
            ]
           ]
          },
          "colorway": [
           "#636efa",
           "#EF553B",
           "#00cc96",
           "#ab63fa",
           "#FFA15A",
           "#19d3f3",
           "#FF6692",
           "#B6E880",
           "#FF97FF",
           "#FECB52"
          ],
          "font": {
           "color": "#2a3f5f"
          },
          "geo": {
           "bgcolor": "white",
           "lakecolor": "white",
           "landcolor": "#E5ECF6",
           "showlakes": true,
           "showland": true,
           "subunitcolor": "white"
          },
          "hoverlabel": {
           "align": "left"
          },
          "hovermode": "closest",
          "mapbox": {
           "style": "light"
          },
          "paper_bgcolor": "white",
          "plot_bgcolor": "#E5ECF6",
          "polar": {
           "angularaxis": {
            "gridcolor": "white",
            "linecolor": "white",
            "ticks": ""
           },
           "bgcolor": "#E5ECF6",
           "radialaxis": {
            "gridcolor": "white",
            "linecolor": "white",
            "ticks": ""
           }
          },
          "scene": {
           "xaxis": {
            "backgroundcolor": "#E5ECF6",
            "gridcolor": "white",
            "gridwidth": 2,
            "linecolor": "white",
            "showbackground": true,
            "ticks": "",
            "zerolinecolor": "white"
           },
           "yaxis": {
            "backgroundcolor": "#E5ECF6",
            "gridcolor": "white",
            "gridwidth": 2,
            "linecolor": "white",
            "showbackground": true,
            "ticks": "",
            "zerolinecolor": "white"
           },
           "zaxis": {
            "backgroundcolor": "#E5ECF6",
            "gridcolor": "white",
            "gridwidth": 2,
            "linecolor": "white",
            "showbackground": true,
            "ticks": "",
            "zerolinecolor": "white"
           }
          },
          "shapedefaults": {
           "line": {
            "color": "#2a3f5f"
           }
          },
          "ternary": {
           "aaxis": {
            "gridcolor": "white",
            "linecolor": "white",
            "ticks": ""
           },
           "baxis": {
            "gridcolor": "white",
            "linecolor": "white",
            "ticks": ""
           },
           "bgcolor": "#E5ECF6",
           "caxis": {
            "gridcolor": "white",
            "linecolor": "white",
            "ticks": ""
           }
          },
          "title": {
           "x": 0.05
          },
          "xaxis": {
           "automargin": true,
           "gridcolor": "white",
           "linecolor": "white",
           "ticks": "",
           "title": {
            "standoff": 15
           },
           "zerolinecolor": "white",
           "zerolinewidth": 2
          },
          "yaxis": {
           "automargin": true,
           "gridcolor": "white",
           "linecolor": "white",
           "ticks": "",
           "title": {
            "standoff": 15
           },
           "zerolinecolor": "white",
           "zerolinewidth": 2
          }
         }
        },
        "title": {
         "text": "🌟 Future Stars: High-Value Underclassmen"
        },
        "xaxis": {
         "anchor": "y",
         "domain": [
          0,
          1
         ],
         "title": {
          "text": "BASE OVERALL"
         }
        },
        "yaxis": {
         "anchor": "x",
         "domain": [
          0,
          1
         ],
         "title": {
          "text": "VALUE"
         }
        }
       }
      }
     },
     "metadata": {},
     "output_type": "display_data"
    },
    {
     "name": "stdout",
     "output_type": "stream",
     "text": [
      "\n",
      "🏆 Top 10 Future Prospects:\n",
      "FIRST NAME    LAST NAME POSITION    YEAR  BASE OVERALL DEV TRAIT  VALUE\n",
      "    TYVONN        BYARS       HB      FR            74    NORMAL 129.50\n",
      "    COLTER    ALBERDING       CB      FR            67    IMPACT 128.97\n",
      "      DREW    DEVILLIER       QB FR (RS)            70    IMPACT 128.01\n",
      "   PATRICK  CRAYTON JR.       QB      FR            71    NORMAL 124.25\n",
      "   D'ANDRE HARDEMAN JR.       HB      FR            70    NORMAL 122.50\n",
      "\n",
      "📊 Position Group Summary:\n",
      "  Offense: 38 players, Avg Value: 94.8\n",
      "  Defense: 43 players, Avg Value: 88.4\n",
      "  Special Teams: 3 players, Avg Value: 86.3\n"
     ]
    }
   ],
   "source": [
    "# Example 2: Custom Filtering - High Value Underclassmen\n",
    "if roster_df is not None:\n",
    "    # Find high-value underclassmen (FR/SO with value > 120)\n",
    "    underclassmen = roster_df[\n",
    "        (roster_df['YEAR'].isin(['FR', 'SO', 'FR (RS)', 'SO (RS)'])) &\n",
    "        (roster_df['VALUE'] > 120)\n",
    "    ].copy()\n",
    "\n",
    "    if len(underclassmen) > 0:\n",
    "        print(\"⭐ High-Value Underclassmen (Future Stars):\")\n",
    "        print(f\"Found {len(underclassmen)} underclassmen with value > 120\")\n",
    "\n",
    "        # Create visualization\n",
    "        fig = px.scatter(underclassmen, x='BASE OVERALL', y='VALUE',\n",
    "                        color='DEV TRAIT', size='OVERALL',\n",
    "                        hover_data=['FIRST NAME', 'LAST NAME', 'POSITION', 'YEAR'],\n",
    "                        title='🌟 Future Stars: High-Value Underclassmen')\n",
    "        fig.show()\n",
    "\n",
    "        # Show top prospects\n",
    "        top_prospects = underclassmen.nlargest(10, 'VALUE')\n",
    "        display_cols = ['FIRST NAME', 'LAST NAME', 'POSITION', 'YEAR', 'BASE OVERALL', 'DEV TRAIT', 'VALUE']\n",
    "        print(f\"\\n🏆 Top 10 Future Prospects:\")\n",
    "        print(top_prospects[display_cols].to_string(index=False))\n",
    "    else:\n",
    "        print(\"🔍 No high-value underclassmen found (try lowering the value threshold)\")\n",
    "\n",
    "# Example 3: Position Group Analysis\n",
    "if roster_df is not None:\n",
    "    print(f\"\\n📊 Position Group Summary:\")\n",
    "\n",
    "    # Group positions by unit\n",
    "    position_groups = {\n",
    "        'Offense': ['QB', 'HB', 'FB', 'WR', 'TE', 'LT', 'LG', 'C', 'RG', 'RT'],\n",
    "        'Defense': ['LEDG', 'REDG', 'DT', 'WILL', 'MIKE', 'SAM', 'CB', 'FS', 'SS'],\n",
    "        'Special Teams': ['K', 'P']\n",
    "    }\n",
    "\n",
    "    for group_name, positions in position_groups.items():\n",
    "        group_players = roster_df[roster_df['POSITION'].isin(positions)]\n",
    "        if len(group_players) > 0:\n",
    "            avg_value = group_players['VALUE'].mean()\n",
    "            print(f\"  {group_name}: {len(group_players)} players, Avg Value: {avg_value:.1f}\")\n",
    "        else:\n",
    "            print(f\"  {group_name}: No players found\")"
   ]
  },
  {
   "cell_type": "markdown",
   "id": "479ace46",
   "metadata": {},
   "source": [
    "## 📋 Summary & Next Steps\n",
    "\n",
    "This notebook has provided a comprehensive analysis of your CFB Dynasty roster including:\n",
    "\n",
    "- ✅ **Player Valuations** - Each player's calculated value based on ratings, development potential, and remaining years\n",
    "- ✅ **Roster Composition** - Visual breakdown of your team's strengths and weaknesses by position\n",
    "- ✅ **Recruiting Strategy** - Data-driven priorities for recruiting based on position needs and current grades\n",
    "- ✅ **Future Outlook** - Analysis of year classes and projected roster changes\n",
    "- ✅ **Performance Insights** - Identification of top performers and players at risk\n",
    "\n",
    "### 🎯 Key Actions to Take:\n",
    "\n",
    "1. **Review High Priority Positions** - Focus recruiting efforts on positions marked as HIGH priority\n",
    "2. **Evaluate Cut Candidates** - Consider cutting players with status \"CUT\" to make roster space\n",
    "3. **Monitor At-Risk Players** - Keep an eye on players with status \"AT RISK\" for potential development\n",
    "4. **Plan for Graduation** - Prepare for the loss of graduating seniors by recruiting replacements\n",
    "\n",
    "### 📁 Exported Files:\n",
    "- `player_values_analysis.csv` - Complete roster with calculated values and status\n",
    "- `recruiting_plan_analysis.csv` - Position-by-position recruiting priorities  \n",
    "- `position_analysis_detailed.csv` - Detailed breakdown of each position group\n",
    "\n",
    "---\n",
    "\n",
    "*This analysis was generated using the CFB Dynasty Roster Analysis notebook. Modify the parameters and filters above to customize the analysis for your specific needs.*"
   ]
  }
 ],
 "metadata": {
  "kernelspec": {
   "display_name": "venv",
   "language": "python",
   "name": "python3"
  },
  "language_info": {
   "codemirror_mode": {
    "name": "ipython",
    "version": 3
   },
   "file_extension": ".py",
   "mimetype": "text/x-python",
   "name": "python",
   "nbconvert_exporter": "python",
   "pygments_lexer": "ipython3",
   "version": "3.13.2"
  }
 },
 "nbformat": 4,
 "nbformat_minor": 5
}
