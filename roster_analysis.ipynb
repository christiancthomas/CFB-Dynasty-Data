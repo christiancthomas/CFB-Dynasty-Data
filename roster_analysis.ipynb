{
 "cells": [
  {
   "cell_type": "code",
   "execution_count": 1,
   "id": "3ffe54b6",
   "metadata": {},
   "outputs": [
    {
     "name": "stdout",
     "output_type": "stream",
     "text": [
      "✅ Libraries imported successfully!\n",
      "📊 Ready for CFB Dynasty roster analysis and visualization\n"
     ]
    }
   ],
   "source": [
    "\n",
    "# CFB Dynasty Roster Analysis and Visualization\n",
    "import pandas as pd\n",
    "import numpy as np\n",
    "import matplotlib.pyplot as plt\n",
    "import seaborn as sns\n",
    "import plotly.express as px\n",
    "import plotly.graph_objects as go\n",
    "from plotly.subplots import make_subplots\n",
    "import glob\n",
    "import os\n",
    "import warnings\n",
    "warnings.filterwarnings('ignore')\n",
    "\n",
    "# Set up plotting style\n",
    "plt.style.use('default')\n",
    "sns.set_palette(\"husl\")\n",
    "pd.set_option('display.max_columns', None)\n",
    "\n",
    "print(\"✅ Libraries imported successfully!\")\n",
    "print(\"📊 Ready for CFB Dynasty roster analysis and visualization\")"
   ]
  },
  {
   "cell_type": "markdown",
   "id": "a6152ced",
   "metadata": {},
   "source": [
    "# 🏈 CFB Dynasty Roster Analysis Dashboard\n",
    "\n",
    "This notebook provides comprehensive analysis and visualization of your CFB Dynasty roster data, including:\n",
    "\n",
    "- **Player Valuations** - Calculate player value based on ratings, development traits, and remaining years\n",
    "- **Roster Composition** - Analyze position strength and depth across your roster\n",
    "- **Recruiting Strategy** - Identify positions of need and priority for recruiting\n",
    "- **Interactive Visualizations** - Charts and graphs to better understand your roster\n",
    "\n",
    "---"
   ]
  },
  {
   "cell_type": "code",
   "execution_count": 2,
   "id": "a1e2ade3",
   "metadata": {},
   "outputs": [
    {
     "name": "stdout",
     "output_type": "stream",
     "text": [
      "📋 Configuration loaded successfully!\n",
      "📊 Tracking 21 positions\n",
      "🎯 4 development trait levels defined\n"
     ]
    }
   ],
   "source": [
    "# Configuration and Constants\n",
    "\n",
    "# Define minimum and ideal roster sizes per position\n",
    "# TODO: Update positions and archetypes for CFB 26\n",
    "default_position_requirements = {\n",
    "    'QB': {'min': 3, 'ideal': 4, 'archetypes': {'FIELD GENERAL': 1, 'IMPROVISER': 0.75, 'SCRAMBLER': 0.25}},\n",
    "    'HB': {'min': 4, 'ideal': 6, 'archetypes': {'ELUSIVE BACK': 0.75, 'POWER BACK': 0.75, 'RECEIVING BACK': 0.5}},\n",
    "    'FB': {'min': 0, 'ideal': 0, 'archetypes': {'UTILITY': 0, 'BLOCKING': 0}},\n",
    "    'WR': {'min': 6, 'ideal': 8, 'archetypes': {'DEEP THREAT': 0.75, 'PHYSICAL': 0.75, 'ROUTE RUNNER': 0.75}},\n",
    "    'TE': {'min': 3, 'ideal': 4, 'archetypes': {'VERTICAL THREAT': 1, 'POSSESSION': 0.25, 'BLOCKING': 0.25}},\n",
    "    'LT': {'min': 3, 'ideal': 4, 'archetypes': {'PASS PROTECTOR': 1, 'AGILE': 0.8, 'POWER': 0.6}},\n",
    "    'LG': {'min': 3, 'ideal': 4, 'archetypes': {'PASS PROTECTOR': 0.6, 'AGILE': 1, 'POWER': 1}},\n",
    "    'C':  {'min': 3, 'ideal': 4, 'archetypes': {'PASS PROTECTOR': 0.5, 'AGILE': 1, 'POWER': 1}},\n",
    "    'RG': {'min': 3, 'ideal': 4, 'archetypes': {'PASS PROTECTOR': 0.6, 'AGILE': 1, 'POWER': 1}},\n",
    "    'RT': {'min': 3, 'ideal': 4, 'archetypes': {'PASS PROTECTOR': 0.8, 'AGILE': 0.8, 'POWER': 0.75}},\n",
    "    'LE': {'min': 3, 'ideal': 4, 'archetypes': {'POWER RUSHER': 0.9, 'SPEED RUSHER': 0.9, 'RUN STOPPER': 1}},\n",
    "    'RE': {'min': 3, 'ideal': 4, 'archetypes': {'POWER RUSHER': 0.9, 'SPEED RUSHER': 1, 'RUN STOPPER': 1}},\n",
    "    'DT': {'min': 3, 'ideal': 4, 'archetypes': {'POWER RUSHER': 0.9, 'SPEED RUSHER': 0.8, 'RUN STOPPER': 1}},\n",
    "    'LOLB': {'min': 3, 'ideal': 4, 'archetypes': {'POWER RUSHER': 1, 'RUN STOPPER': 1, 'PASS COVERAGE': 0.1}},\n",
    "    'MLB': {'min': 3, 'ideal': 4, 'archetypes': {'FIELD GENERAL': 1, 'RUN STOPPER': 1, 'PASS COVERAGE': 1}},\n",
    "    'ROLB': {'min': 3, 'ideal': 4, 'archetypes': {'POWER RUSHER': 1, 'RUN STOPPER': 1, 'PASS COVERAGE': 0.1}},\n",
    "    'CB': {'min': 5, 'ideal': 7, 'archetypes': {'MAN TO MAN': 1, 'ZONE': 0.75, 'SLOT': 0.5}},\n",
    "    'FS': {'min': 2, 'ideal': 3, 'archetypes': {'ZONE': 1, 'HYBRID': 0.75, 'RUN SUPPORT': 0.5}},\n",
    "    'SS': {'min': 2, 'ideal': 3, 'archetypes': {'ZONE': 0.25, 'HYBRID': 0.75, 'RUN SUPPORT': 0.75}},\n",
    "    'K': {'min': 1, 'ideal': 1, 'archetypes': {'ACCURATE': 0.75, 'POWER': 0.75}},\n",
    "    'P': {'min': 1, 'ideal': 1, 'archetypes': {'ACCURATE': 0.75, 'POWER': 0.75}}\n",
    "}\n",
    "\n",
    "# Development trait multipliers\n",
    "dev_trait_multipliers = {\n",
    "    'NORMAL': 1.00,\n",
    "    'IMPACT': 1.10,\n",
    "    'STAR': 1.25,\n",
    "    'ELITE': 1.50\n",
    "}\n",
    "\n",
    "# Remaining years of development for different player years\n",
    "remaining_years = {\n",
    "    'FR': 3, 'SO': 2, 'JR': 1, 'SR': 0,\n",
    "    'FR (RS)': 3, 'SO (RS)': 2, 'JR (RS)': 1, 'SR (RS)': 0\n",
    "}\n",
    "\n",
    "# Redshirt discount and starter counts\n",
    "rs_discount = 0.05\n",
    "\n",
    "starters_count = {\n",
    "    'QB': 1, 'HB': 2, 'FB': 1, 'WR': 3, 'TE': 1,\n",
    "    'LT': 1, 'LG': 1, 'C': 1, 'RG': 1, 'RT': 1,\n",
    "    'LE': 1, 'RE': 1, 'DT': 2, 'LOLB': 1, 'MLB': 1, 'ROLB': 1,\n",
    "    'CB': 2, 'FS': 1, 'SS': 1, 'K': 1, 'P': 1\n",
    "}\n",
    "\n",
    "print(\"📋 Configuration loaded successfully!\")\n",
    "print(f\"📊 Tracking {len(default_position_requirements)} positions\")\n",
    "print(f\"🎯 {len(dev_trait_multipliers)} development trait levels defined\")"
   ]
  },
  {
   "cell_type": "code",
   "execution_count": 3,
   "id": "52d8f1d7",
   "metadata": {},
   "outputs": [
    {
     "name": "stdout",
     "output_type": "stream",
     "text": [
      "✅ Analysis functions defined successfully!\n",
      "🔧 Ready to process roster data\n"
     ]
    }
   ],
   "source": [
    "# Core Analysis Functions\n",
    "\n",
    "def calculate_player_value(row, dev_trait_multipliers=dev_trait_multipliers, rs_discount=rs_discount):\n",
    "    \"\"\"Calculate player value based on base overall, development trait, and remaining years.\"\"\"\n",
    "    redshirt_discount = rs_discount if \"(RS)\" in row['YEAR'] else 0\n",
    "    dev_multiplier = dev_trait_multipliers.get(row['DEV TRAIT'], 1.00)\n",
    "    remaining_dev_years = remaining_years.get(row['YEAR'], 0)\n",
    "    value = round(row['BASE OVERALL'] * dev_multiplier * (1 + remaining_dev_years / 4) * (1 - redshirt_discount), 2)\n",
    "    return value\n",
    "\n",
    "def player_status(row):\n",
    "    \"\"\"Determine if player is safe, at risk, or on the cut list.\"\"\"\n",
    "    value = row['VALUE']\n",
    "    year = row['YEAR']\n",
    "    best_at_position = row['Best at Position']\n",
    "\n",
    "    if year in ['SR', 'SR (RS)']:\n",
    "        return 'GRADUATING'\n",
    "    elif best_at_position:\n",
    "        return 'SAFE'\n",
    "\n",
    "    elif value < 100:\n",
    "        return 'CUT'\n",
    "    elif value >= 100 and value <= 125:\n",
    "        return 'AT RISK'\n",
    "    else:\n",
    "        return 'SAFE'\n",
    "\n",
    "def calculate_position_grade(avg_value):\n",
    "    \"\"\"Calculate letter grade based on average position value.\"\"\"\n",
    "    if avg_value >= 150: return 'A+'\n",
    "    elif avg_value >= 140: return 'A'\n",
    "    elif avg_value >= 130: return 'A-'\n",
    "    elif avg_value >= 120: return 'B+'\n",
    "    elif avg_value >= 110: return 'B'\n",
    "    elif avg_value >= 100: return 'B-'\n",
    "    elif avg_value >= 90: return 'C+'\n",
    "    elif avg_value >= 80: return 'C'\n",
    "    elif avg_value >= 70: return 'C-'\n",
    "    else: return 'F'\n",
    "\n",
    "def calculate_blended_measure(df, position):\n",
    "    \"\"\"Calculate blended measure of starters and backups (70% starters, 30% backups).\"\"\"\n",
    "    starters_num = starters_count.get(position, 1)\n",
    "    position_df = df[df['POSITION'] == position].sort_values(by='VALUE', ascending=False)\n",
    "    \n",
    "    starters = position_df.head(starters_num)\n",
    "    backups = position_df.tail(len(position_df) - starters_num)\n",
    "    \n",
    "    starters_avg = starters['VALUE'].mean() if len(starters) > 0 else 0\n",
    "    backups_avg = backups['VALUE'].mean() if len(backups) > 0 else 0\n",
    "    \n",
    "    blended_value = round(0.7 * starters_avg + 0.3 * backups_avg, 2)\n",
    "    return blended_value\n",
    "\n",
    "def determine_priority(row):\n",
    "    \"\"\"Determine recruiting priority for each position.\"\"\"\n",
    "    if row['Current Count'] < row['Min Required']:\n",
    "        return 'HIGH'\n",
    "    elif row['Grade'] in ['D', 'F']:\n",
    "        return 'HIGH'\n",
    "    elif row['Grade'] in ['C']:\n",
    "        return 'MEDIUM'\n",
    "    else:\n",
    "        return 'LOW'\n",
    "\n",
    "print(\"✅ Analysis functions defined successfully!\")\n",
    "print(\"🔧 Ready to process roster data\")"
   ]
  },
  {
   "cell_type": "markdown",
   "id": "9f3b188f",
   "metadata": {},
   "source": [
    "## 📂 Data Loading\n",
    "\n",
    "Load your roster CSV file from the Downloads folder. The script will automatically detect roster files."
   ]
  },
  {
   "cell_type": "code",
   "execution_count": 4,
   "id": "f0cc8dde",
   "metadata": {},
   "outputs": [
    {
     "name": "stdout",
     "output_type": "stream",
     "text": [
      "📁 Found 1 roster file(s):\n",
      "  1. Rice Dynasty - 2026 raw roster.csv\n",
      "\n",
      "📊 Loading: Rice Dynasty - 2026 raw roster.csv\n",
      "✅ Successfully loaded 85 players\n",
      "📋 Columns: ['RS', 'FIRST NAME', 'LAST NAME', 'YEAR', 'POSITION', 'OVERALL', 'BASE OVERALL', 'ARCHETYPE', 'DEV TRAIT']\n",
      "\n",
      "📈 Quick Stats:\n",
      "  • Total Players: 85\n",
      "  • Positions: 20\n",
      "  • Years: FR, FR (RS), JR, JR (RS), SO, SO (RS), SR, SR (RS)\n"
     ]
    }
   ],
   "source": [
    "# Load Roster Data\n",
    "downloads_folder = os.path.expanduser('~/Downloads')\n",
    "data_folder = os.path.join(downloads_folder, 'cfb_dynasty_data')\n",
    "\n",
    "# Find roster files\n",
    "roster_files = glob.glob(os.path.join(downloads_folder, '*[Rr]oster.csv'))\n",
    "\n",
    "if not roster_files:\n",
    "    print(\"❌ No roster CSV files found in Downloads folder\")\n",
    "    print(\"📁 Make sure your roster file is in ~/Downloads/ and contains 'roster' in the filename\")\n",
    "else:\n",
    "    print(f\"📁 Found {len(roster_files)} roster file(s):\")\n",
    "    for i, file in enumerate(roster_files):\n",
    "        print(f\"  {i+1}. {os.path.basename(file)}\")\n",
    "    \n",
    "    # Load the first roster file found\n",
    "    roster_path = roster_files[0]\n",
    "    print(f\"\\n📊 Loading: {os.path.basename(roster_path)}\")\n",
    "    \n",
    "    try:\n",
    "        roster_df = pd.read_csv(roster_path)\n",
    "        print(f\"✅ Successfully loaded {len(roster_df)} players\")\n",
    "        print(f\"📋 Columns: {list(roster_df.columns)}\")\n",
    "        \n",
    "        # Display basic info about the roster\n",
    "        print(f\"\\n📈 Quick Stats:\")\n",
    "        print(f\"  • Total Players: {len(roster_df)}\")\n",
    "        print(f\"  • Positions: {roster_df['POSITION'].nunique()}\")\n",
    "        print(f\"  • Years: {', '.join(sorted(roster_df['YEAR'].unique()))}\")\n",
    "        \n",
    "    except Exception as e:\n",
    "        print(f\"❌ Error loading roster file: {e}\")\n",
    "        roster_df = None"
   ]
  },
  {
   "cell_type": "code",
   "execution_count": 5,
   "id": "405b5a02",
   "metadata": {},
   "outputs": [
    {
     "name": "stdout",
     "output_type": "stream",
     "text": [
      "⚠️  Missing required columns: ['VALUE', 'STATUS', 'Best at Position', 'Current Count', 'Min Required', 'Grade']\n",
      "📝 Adding missing columns with default values...\n",
      "✅ Roster data processed successfully!\n",
      "💰 Player values calculated\n",
      "📊 Player status determined\n",
      "\n",
      "📋 Sample of processed roster:\n",
      " RS FIRST NAME    LAST NAME    YEAR POSITION  OVERALL  BASE OVERALL            ARCHETYPE DEV TRAIT  STATUS\n",
      "NaN      CHASE      JENKINS SO (RS)       QB       71            71          DUAL THREAT    NORMAL    SAFE\n",
      " RS    PATRICK  CRAYTON JR.      FR       QB       71            71          DUAL THREAT    NORMAL    SAFE\n",
      "NaN         AJ      PADGETT JR (RS)       QB       70            70        POCKET PASSER    NORMAL     CUT\n",
      "NaN       DREW    DEVILLIER FR (RS)       QB       70            70        POCKET PASSER    IMPACT    SAFE\n",
      "NaN        MAX    BALTHAZAR JR (RS)       HB       79            79  EAST/WEST PLAYMAKER    NORMAL    SAFE\n",
      "NaN    QUINTON      JACKSON JR (RS)       HB       78            78  EAST/WEST PLAYMAKER    NORMAL     CUT\n",
      "NaN     DAELEN    ALEXANDER SO (RS)       HB       76            76  EAST/WEST PLAYMAKER    NORMAL AT RISK\n",
      " RS       TAJI       ATKINS      SO       HB       75            75  EAST/WEST PLAYMAKER    NORMAL AT RISK\n",
      " RS     TYVONN        BYARS      FR       HB       74            74      ELUSIVE BRUISER    NORMAL    SAFE\n",
      " RS    D'ANDRE HARDEMAN JR.      FR       HB       70            70 NORTH/SOUTH RECEIVER    NORMAL AT RISK\n"
     ]
    }
   ],
   "source": [
    "# Process Roster Data\n",
    "if roster_df is not None:\n",
    "    # Ensure required columns exist\n",
    "    required_columns = [\n",
    "        'RS', 'FIRST NAME', 'LAST NAME', 'YEAR', 'POSITION', 'OVERALL', 'BASE OVERALL', \n",
    "        'ARCHETYPE', 'DEV TRAIT', 'VALUE', 'STATUS', 'Best at Position', 'Current Count', 'Min Required', 'Grade'\n",
    "    ]\n",
    "    \n",
    "    missing_columns = [col for col in required_columns if col not in roster_df.columns]\n",
    "    if missing_columns:\n",
    "        print(f\"⚠️  Missing required columns: {missing_columns}\")\n",
    "        print(\"📝 Adding missing columns with default values...\")\n",
    "        \n",
    "        # Add missing columns with defaults\n",
    "        for col in missing_columns:\n",
    "            if col in ['CUT', 'REDSHIRT']:\n",
    "                roster_df[col] = False\n",
    "            elif col == 'DRAFTED':\n",
    "                roster_df[col] = None\n",
    "            else:\n",
    "                roster_df[col] = ''\n",
    "    \n",
    "    # Calculate player values\n",
    "    roster_df['VALUE'] = roster_df.apply(calculate_player_value, axis=1)\n",
    "    \n",
    "    # Fill missing archetypes\n",
    "    roster_df['ARCHETYPE'] = roster_df['ARCHETYPE'].fillna('')\n",
    "    \n",
    "    # Determine best player at each position\n",
    "    roster_df['Best at Position'] = roster_df.groupby('POSITION')['OVERALL'].transform(lambda x: x == x.max())\n",
    "    \n",
    "    # Apply player status\n",
    "    roster_df['STATUS'] = roster_df.apply(player_status, axis=1)\n",
    "    \n",
    "    # Sort roster\n",
    "    position_order = ['QB', 'HB', 'WR', 'TE', 'LT', 'LG', 'C', 'RG', 'RT', \n",
    "                     'LE', 'RE', 'DT', 'LOLB', 'MLB', 'ROLB', 'CB', 'FS', 'SS', 'K', 'P', 'ATH']\n",
    "    roster_df['POSITION'] = pd.Categorical(roster_df['POSITION'], categories=position_order, ordered=True)\n",
    "    roster_df = roster_df.sort_values(by=['POSITION', 'OVERALL'], ascending=[True, False])\n",
    "    \n",
    "    print(\"✅ Roster data processed successfully!\")\n",
    "    print(f\"💰 Player values calculated\")\n",
    "    print(f\"📊 Player status determined\")\n",
    "    \n",
    "    # Show sample of processed data\n",
    "    print(f\"\\n📋 Sample of processed roster:\")\n",
    "    display_cols = [\n",
    "        'RS', 'FIRST NAME', 'LAST NAME', 'YEAR', 'POSITION', 'OVERALL', \n",
    "        'BASE OVERALL', 'ARCHETYPE', 'DEV TRAIT', 'STATUS'\n",
    "    ]\n",
    "    sample_df = roster_df[display_cols].head(10)\n",
    "    print(sample_df.to_string(index=False))"
   ]
  },
  {
   "cell_type": "code",
   "execution_count": 6,
   "id": "53ab056b",
   "metadata": {},
   "outputs": [
    {
     "name": "stdout",
     "output_type": "stream",
     "text": [
      "✅ Recruiting plan generated!\n",
      "\n",
      "📋 Recruiting Priorities Summary:\n",
      "\n",
      "🚨 HIGH PRIORITY positions (9):\n",
      "  • C: 0/3 (Grade: F)\n",
      "  • LE: 0/3 (Grade: F)\n",
      "  • RE: 0/3 (Grade: F)\n",
      "  • LOLB: 0/3 (Grade: F)\n",
      "  • MLB: 0/3 (Grade: F)\n",
      "  • ROLB: 0/3 (Grade: F)\n",
      "  • SS: 1/2 (Grade: C)\n",
      "  • P: 0/1 (Grade: F)\n",
      "  • FB: 0/0 (Grade: F)\n",
      "\n",
      "📊 Full recruiting plan available in 'recruiting_plan' DataFrame\n"
     ]
    }
   ],
   "source": [
    "# Generate Recruiting Plan\n",
    "if roster_df is not None:\n",
    "    # Calculate next season counts (excluding graduating players)\n",
    "    next_season_counts = roster_df[roster_df['STATUS'] != 'GRADUATING'].groupby('POSITION').size()\n",
    "    \n",
    "    # Calculate blended values for each position\n",
    "    blended_values = {pos: calculate_blended_measure(roster_df, pos) for pos in default_position_requirements.keys()}\n",
    "    \n",
    "    # Create recruiting plan DataFrame\n",
    "    recruiting_plan = pd.DataFrame({\n",
    "        'Position': default_position_requirements.keys(),\n",
    "        'Current Count': [next_season_counts.get(pos, 0) for pos in default_position_requirements.keys()],\n",
    "        'Min Required': [default_position_requirements[pos]['min'] for pos in default_position_requirements.keys()],\n",
    "        'Ideal Count': [default_position_requirements[pos]['ideal'] for pos in default_position_requirements.keys()],\n",
    "        'Blended Value': [blended_values[pos] for pos in default_position_requirements.keys()],\n",
    "        'Grade': [calculate_position_grade(blended_values[pos]) for pos in default_position_requirements.keys()]\n",
    "    }).fillna(0)\n",
    "    \n",
    "    # Determine priority\n",
    "    recruiting_plan['Priority'] = recruiting_plan.apply(determine_priority, axis=1)\n",
    "    \n",
    "    # Calculate need (difference between current and ideal)\n",
    "    recruiting_plan['Need'] = recruiting_plan['Ideal Count'] - recruiting_plan['Current Count']\n",
    "    recruiting_plan['Need'] = recruiting_plan['Need'].clip(lower=0)  # Don't show negative needs\n",
    "    \n",
    "    print(\"✅ Recruiting plan generated!\")\n",
    "    print(f\"\\n📋 Recruiting Priorities Summary:\")\n",
    "    \n",
    "    # Show high priority positions\n",
    "    high_priority = recruiting_plan[recruiting_plan['Priority'] == 'HIGH'].sort_values('Need', ascending=False)\n",
    "    if len(high_priority) > 0:\n",
    "        print(f\"\\n🚨 HIGH PRIORITY positions ({len(high_priority)}):\")\n",
    "        for _, row in high_priority.iterrows():\n",
    "            print(f\"  • {row['Position']}: {int(row['Current Count'])}/{int(row['Min Required'])} (Grade: {row['Grade']})\")\n",
    "    \n",
    "    medium_priority = recruiting_plan[recruiting_plan['Priority'] == 'MEDIUM']\n",
    "    if len(medium_priority) > 0:\n",
    "        print(f\"\\n⚠️  MEDIUM PRIORITY positions ({len(medium_priority)}):\")\n",
    "        for _, row in medium_priority.iterrows():\n",
    "            print(f\"  • {row['Position']}: Grade {row['Grade']} (Value: {row['Blended Value']:.1f})\")\n",
    "    \n",
    "    print(f\"\\n📊 Full recruiting plan available in 'recruiting_plan' DataFrame\")"
   ]
  },
  {
   "cell_type": "markdown",
   "id": "87fe0aa8",
   "metadata": {},
   "source": [
    "## 📊 Data Visualizations\n",
    "\n",
    "Interactive charts and graphs to analyze your roster composition, player values, and recruiting needs."
   ]
  },
  {
   "cell_type": "code",
   "execution_count": 7,
   "id": "635a462e",
   "metadata": {},
   "outputs": [
    {
     "data": {
      "application/vnd.plotly.v1+json": {
       "config": {
        "plotlyServerURL": "https://plot.ly"
       },
       "data": [
        {
         "marker": {
          "color": "lightblue"
         },
         "name": "Current Count",
         "type": "bar",
         "x": [
          "QB",
          "HB",
          "WR",
          "TE",
          "LT",
          "LG",
          "C",
          "RG",
          "RT",
          "LE",
          "RE",
          "DT",
          "LOLB",
          "MLB",
          "ROLB",
          "CB",
          "FS",
          "SS",
          "K",
          "P",
          "ATH"
         ],
         "xaxis": "x",
         "y": {
          "bdata": "BAYIBAQEAAUDAAAHAAAACQQCAgAA",
          "dtype": "i1"
         },
         "yaxis": "y"
        },
        {
         "marker": {
          "color": [
           "#8B0000",
           "#8B0000",
           "#8B0000",
           "#8B0000",
           "#8B0000",
           "#8B0000",
           "#8B0000",
           "#8B0000",
           "#DC143C",
           "#FF4500",
           "#FF6347",
           "#FF6347",
           "#FF6347",
           "#FF6347",
           "#FF6347",
           "#FF8C00",
           "#FF8C00",
           "#FF8C00",
           "#FF8C00",
           "#FFA500",
           "#FFD700"
          ]
         },
         "name": "Position Strength",
         "orientation": "h",
         "text": [
          "F",
          "F",
          "F",
          "F",
          "F",
          "F",
          "F",
          "F",
          "C-",
          "C",
          "C+",
          "C+",
          "C+",
          "C+",
          "C+",
          "B-",
          "B-",
          "B-",
          "B-",
          "B",
          "B+"
         ],
         "textposition": "auto",
         "type": "bar",
         "x": {
          "bdata": "AAAAAAAAAAAAAAAAAAAAAAAAAAAAAAAAAAAAAAAAAAAAAAAAAAAAAAAAAAAAAAAAAAAAAAAAAAAAAAAAAAAAALgehetRWFNA16NwPQrHVUBmZmZmZjZXQAAAAAAAUFhA16NwPQqnWEBxPQrXo8BYQD0K16Nw3VhAKVyPwvUIWUCPwvUoXC9ZQHE9CtejkFlAPQrXo3B9WkCPwvUoXK9dQD0K16NwHV5A",
          "dtype": "f8"
         },
         "xaxis": "x2",
         "y": [
          "LE",
          "ROLB",
          "MLB",
          "LOLB",
          "RE",
          "C",
          "P",
          "FB",
          "K",
          "SS",
          "DT",
          "LG",
          "RT",
          "LT",
          "RG",
          "WR",
          "FS",
          "CB",
          "TE",
          "HB",
          "QB"
         ],
         "yaxis": "y2"
        },
        {
         "domain": {
          "x": [
           0,
           0.45
          ],
          "y": [
           0,
           0.375
          ]
         },
         "labels": [
          "CUT",
          "GRADUATING",
          "AT RISK",
          "SAFE"
         ],
         "marker": {
          "colors": [
           "#DC143C",
           "#808080",
           "#FFD700",
           "#2E8B57"
          ]
         },
         "name": "Status",
         "type": "pie",
         "values": {
          "bdata": "IBURDw==",
          "dtype": "i1"
         }
        },
        {
         "domain": {
          "x": [
           0.55,
           1
          ],
          "y": [
           0,
           0.375
          ]
         },
         "labels": [
          "NORMAL",
          "IMPACT"
         ],
         "marker": {
          "colors": [
           "#808080",
           "#FFD700"
          ]
         },
         "name": "Dev Traits",
         "type": "pie",
         "values": {
          "bdata": "TQg=",
          "dtype": "i1"
         }
        }
       ],
       "layout": {
        "annotations": [
         {
          "font": {
           "size": 16
          },
          "showarrow": false,
          "text": "Current Roster by Position",
          "x": 0.225,
          "xanchor": "center",
          "xref": "paper",
          "y": 1,
          "yanchor": "bottom",
          "yref": "paper"
         },
         {
          "font": {
           "size": 16
          },
          "showarrow": false,
          "text": "Position Strength Grades",
          "x": 0.775,
          "xanchor": "center",
          "xref": "paper",
          "y": 1,
          "yanchor": "bottom",
          "yref": "paper"
         },
         {
          "font": {
           "size": 16
          },
          "showarrow": false,
          "text": "Player Status Distribution",
          "x": 0.225,
          "xanchor": "center",
          "xref": "paper",
          "y": 0.375,
          "yanchor": "bottom",
          "yref": "paper"
         },
         {
          "font": {
           "size": 16
          },
          "showarrow": false,
          "text": "Development Traits",
          "x": 0.775,
          "xanchor": "center",
          "xref": "paper",
          "y": 0.375,
          "yanchor": "bottom",
          "yref": "paper"
         }
        ],
        "height": 800,
        "showlegend": false,
        "template": {
         "data": {
          "bar": [
           {
            "error_x": {
             "color": "#2a3f5f"
            },
            "error_y": {
             "color": "#2a3f5f"
            },
            "marker": {
             "line": {
              "color": "#E5ECF6",
              "width": 0.5
             },
             "pattern": {
              "fillmode": "overlay",
              "size": 10,
              "solidity": 0.2
             }
            },
            "type": "bar"
           }
          ],
          "barpolar": [
           {
            "marker": {
             "line": {
              "color": "#E5ECF6",
              "width": 0.5
             },
             "pattern": {
              "fillmode": "overlay",
              "size": 10,
              "solidity": 0.2
             }
            },
            "type": "barpolar"
           }
          ],
          "carpet": [
           {
            "aaxis": {
             "endlinecolor": "#2a3f5f",
             "gridcolor": "white",
             "linecolor": "white",
             "minorgridcolor": "white",
             "startlinecolor": "#2a3f5f"
            },
            "baxis": {
             "endlinecolor": "#2a3f5f",
             "gridcolor": "white",
             "linecolor": "white",
             "minorgridcolor": "white",
             "startlinecolor": "#2a3f5f"
            },
            "type": "carpet"
           }
          ],
          "choropleth": [
           {
            "colorbar": {
             "outlinewidth": 0,
             "ticks": ""
            },
            "type": "choropleth"
           }
          ],
          "contour": [
           {
            "colorbar": {
             "outlinewidth": 0,
             "ticks": ""
            },
            "colorscale": [
             [
              0,
              "#0d0887"
             ],
             [
              0.1111111111111111,
              "#46039f"
             ],
             [
              0.2222222222222222,
              "#7201a8"
             ],
             [
              0.3333333333333333,
              "#9c179e"
             ],
             [
              0.4444444444444444,
              "#bd3786"
             ],
             [
              0.5555555555555556,
              "#d8576b"
             ],
             [
              0.6666666666666666,
              "#ed7953"
             ],
             [
              0.7777777777777778,
              "#fb9f3a"
             ],
             [
              0.8888888888888888,
              "#fdca26"
             ],
             [
              1,
              "#f0f921"
             ]
            ],
            "type": "contour"
           }
          ],
          "contourcarpet": [
           {
            "colorbar": {
             "outlinewidth": 0,
             "ticks": ""
            },
            "type": "contourcarpet"
           }
          ],
          "heatmap": [
           {
            "colorbar": {
             "outlinewidth": 0,
             "ticks": ""
            },
            "colorscale": [
             [
              0,
              "#0d0887"
             ],
             [
              0.1111111111111111,
              "#46039f"
             ],
             [
              0.2222222222222222,
              "#7201a8"
             ],
             [
              0.3333333333333333,
              "#9c179e"
             ],
             [
              0.4444444444444444,
              "#bd3786"
             ],
             [
              0.5555555555555556,
              "#d8576b"
             ],
             [
              0.6666666666666666,
              "#ed7953"
             ],
             [
              0.7777777777777778,
              "#fb9f3a"
             ],
             [
              0.8888888888888888,
              "#fdca26"
             ],
             [
              1,
              "#f0f921"
             ]
            ],
            "type": "heatmap"
           }
          ],
          "histogram": [
           {
            "marker": {
             "pattern": {
              "fillmode": "overlay",
              "size": 10,
              "solidity": 0.2
             }
            },
            "type": "histogram"
           }
          ],
          "histogram2d": [
           {
            "colorbar": {
             "outlinewidth": 0,
             "ticks": ""
            },
            "colorscale": [
             [
              0,
              "#0d0887"
             ],
             [
              0.1111111111111111,
              "#46039f"
             ],
             [
              0.2222222222222222,
              "#7201a8"
             ],
             [
              0.3333333333333333,
              "#9c179e"
             ],
             [
              0.4444444444444444,
              "#bd3786"
             ],
             [
              0.5555555555555556,
              "#d8576b"
             ],
             [
              0.6666666666666666,
              "#ed7953"
             ],
             [
              0.7777777777777778,
              "#fb9f3a"
             ],
             [
              0.8888888888888888,
              "#fdca26"
             ],
             [
              1,
              "#f0f921"
             ]
            ],
            "type": "histogram2d"
           }
          ],
          "histogram2dcontour": [
           {
            "colorbar": {
             "outlinewidth": 0,
             "ticks": ""
            },
            "colorscale": [
             [
              0,
              "#0d0887"
             ],
             [
              0.1111111111111111,
              "#46039f"
             ],
             [
              0.2222222222222222,
              "#7201a8"
             ],
             [
              0.3333333333333333,
              "#9c179e"
             ],
             [
              0.4444444444444444,
              "#bd3786"
             ],
             [
              0.5555555555555556,
              "#d8576b"
             ],
             [
              0.6666666666666666,
              "#ed7953"
             ],
             [
              0.7777777777777778,
              "#fb9f3a"
             ],
             [
              0.8888888888888888,
              "#fdca26"
             ],
             [
              1,
              "#f0f921"
             ]
            ],
            "type": "histogram2dcontour"
           }
          ],
          "mesh3d": [
           {
            "colorbar": {
             "outlinewidth": 0,
             "ticks": ""
            },
            "type": "mesh3d"
           }
          ],
          "parcoords": [
           {
            "line": {
             "colorbar": {
              "outlinewidth": 0,
              "ticks": ""
             }
            },
            "type": "parcoords"
           }
          ],
          "pie": [
           {
            "automargin": true,
            "type": "pie"
           }
          ],
          "scatter": [
           {
            "fillpattern": {
             "fillmode": "overlay",
             "size": 10,
             "solidity": 0.2
            },
            "type": "scatter"
           }
          ],
          "scatter3d": [
           {
            "line": {
             "colorbar": {
              "outlinewidth": 0,
              "ticks": ""
             }
            },
            "marker": {
             "colorbar": {
              "outlinewidth": 0,
              "ticks": ""
             }
            },
            "type": "scatter3d"
           }
          ],
          "scattercarpet": [
           {
            "marker": {
             "colorbar": {
              "outlinewidth": 0,
              "ticks": ""
             }
            },
            "type": "scattercarpet"
           }
          ],
          "scattergeo": [
           {
            "marker": {
             "colorbar": {
              "outlinewidth": 0,
              "ticks": ""
             }
            },
            "type": "scattergeo"
           }
          ],
          "scattergl": [
           {
            "marker": {
             "colorbar": {
              "outlinewidth": 0,
              "ticks": ""
             }
            },
            "type": "scattergl"
           }
          ],
          "scattermap": [
           {
            "marker": {
             "colorbar": {
              "outlinewidth": 0,
              "ticks": ""
             }
            },
            "type": "scattermap"
           }
          ],
          "scattermapbox": [
           {
            "marker": {
             "colorbar": {
              "outlinewidth": 0,
              "ticks": ""
             }
            },
            "type": "scattermapbox"
           }
          ],
          "scatterpolar": [
           {
            "marker": {
             "colorbar": {
              "outlinewidth": 0,
              "ticks": ""
             }
            },
            "type": "scatterpolar"
           }
          ],
          "scatterpolargl": [
           {
            "marker": {
             "colorbar": {
              "outlinewidth": 0,
              "ticks": ""
             }
            },
            "type": "scatterpolargl"
           }
          ],
          "scatterternary": [
           {
            "marker": {
             "colorbar": {
              "outlinewidth": 0,
              "ticks": ""
             }
            },
            "type": "scatterternary"
           }
          ],
          "surface": [
           {
            "colorbar": {
             "outlinewidth": 0,
             "ticks": ""
            },
            "colorscale": [
             [
              0,
              "#0d0887"
             ],
             [
              0.1111111111111111,
              "#46039f"
             ],
             [
              0.2222222222222222,
              "#7201a8"
             ],
             [
              0.3333333333333333,
              "#9c179e"
             ],
             [
              0.4444444444444444,
              "#bd3786"
             ],
             [
              0.5555555555555556,
              "#d8576b"
             ],
             [
              0.6666666666666666,
              "#ed7953"
             ],
             [
              0.7777777777777778,
              "#fb9f3a"
             ],
             [
              0.8888888888888888,
              "#fdca26"
             ],
             [
              1,
              "#f0f921"
             ]
            ],
            "type": "surface"
           }
          ],
          "table": [
           {
            "cells": {
             "fill": {
              "color": "#EBF0F8"
             },
             "line": {
              "color": "white"
             }
            },
            "header": {
             "fill": {
              "color": "#C8D4E3"
             },
             "line": {
              "color": "white"
             }
            },
            "type": "table"
           }
          ]
         },
         "layout": {
          "annotationdefaults": {
           "arrowcolor": "#2a3f5f",
           "arrowhead": 0,
           "arrowwidth": 1
          },
          "autotypenumbers": "strict",
          "coloraxis": {
           "colorbar": {
            "outlinewidth": 0,
            "ticks": ""
           }
          },
          "colorscale": {
           "diverging": [
            [
             0,
             "#8e0152"
            ],
            [
             0.1,
             "#c51b7d"
            ],
            [
             0.2,
             "#de77ae"
            ],
            [
             0.3,
             "#f1b6da"
            ],
            [
             0.4,
             "#fde0ef"
            ],
            [
             0.5,
             "#f7f7f7"
            ],
            [
             0.6,
             "#e6f5d0"
            ],
            [
             0.7,
             "#b8e186"
            ],
            [
             0.8,
             "#7fbc41"
            ],
            [
             0.9,
             "#4d9221"
            ],
            [
             1,
             "#276419"
            ]
           ],
           "sequential": [
            [
             0,
             "#0d0887"
            ],
            [
             0.1111111111111111,
             "#46039f"
            ],
            [
             0.2222222222222222,
             "#7201a8"
            ],
            [
             0.3333333333333333,
             "#9c179e"
            ],
            [
             0.4444444444444444,
             "#bd3786"
            ],
            [
             0.5555555555555556,
             "#d8576b"
            ],
            [
             0.6666666666666666,
             "#ed7953"
            ],
            [
             0.7777777777777778,
             "#fb9f3a"
            ],
            [
             0.8888888888888888,
             "#fdca26"
            ],
            [
             1,
             "#f0f921"
            ]
           ],
           "sequentialminus": [
            [
             0,
             "#0d0887"
            ],
            [
             0.1111111111111111,
             "#46039f"
            ],
            [
             0.2222222222222222,
             "#7201a8"
            ],
            [
             0.3333333333333333,
             "#9c179e"
            ],
            [
             0.4444444444444444,
             "#bd3786"
            ],
            [
             0.5555555555555556,
             "#d8576b"
            ],
            [
             0.6666666666666666,
             "#ed7953"
            ],
            [
             0.7777777777777778,
             "#fb9f3a"
            ],
            [
             0.8888888888888888,
             "#fdca26"
            ],
            [
             1,
             "#f0f921"
            ]
           ]
          },
          "colorway": [
           "#636efa",
           "#EF553B",
           "#00cc96",
           "#ab63fa",
           "#FFA15A",
           "#19d3f3",
           "#FF6692",
           "#B6E880",
           "#FF97FF",
           "#FECB52"
          ],
          "font": {
           "color": "#2a3f5f"
          },
          "geo": {
           "bgcolor": "white",
           "lakecolor": "white",
           "landcolor": "#E5ECF6",
           "showlakes": true,
           "showland": true,
           "subunitcolor": "white"
          },
          "hoverlabel": {
           "align": "left"
          },
          "hovermode": "closest",
          "mapbox": {
           "style": "light"
          },
          "paper_bgcolor": "white",
          "plot_bgcolor": "#E5ECF6",
          "polar": {
           "angularaxis": {
            "gridcolor": "white",
            "linecolor": "white",
            "ticks": ""
           },
           "bgcolor": "#E5ECF6",
           "radialaxis": {
            "gridcolor": "white",
            "linecolor": "white",
            "ticks": ""
           }
          },
          "scene": {
           "xaxis": {
            "backgroundcolor": "#E5ECF6",
            "gridcolor": "white",
            "gridwidth": 2,
            "linecolor": "white",
            "showbackground": true,
            "ticks": "",
            "zerolinecolor": "white"
           },
           "yaxis": {
            "backgroundcolor": "#E5ECF6",
            "gridcolor": "white",
            "gridwidth": 2,
            "linecolor": "white",
            "showbackground": true,
            "ticks": "",
            "zerolinecolor": "white"
           },
           "zaxis": {
            "backgroundcolor": "#E5ECF6",
            "gridcolor": "white",
            "gridwidth": 2,
            "linecolor": "white",
            "showbackground": true,
            "ticks": "",
            "zerolinecolor": "white"
           }
          },
          "shapedefaults": {
           "line": {
            "color": "#2a3f5f"
           }
          },
          "ternary": {
           "aaxis": {
            "gridcolor": "white",
            "linecolor": "white",
            "ticks": ""
           },
           "baxis": {
            "gridcolor": "white",
            "linecolor": "white",
            "ticks": ""
           },
           "bgcolor": "#E5ECF6",
           "caxis": {
            "gridcolor": "white",
            "linecolor": "white",
            "ticks": ""
           }
          },
          "title": {
           "x": 0.05
          },
          "xaxis": {
           "automargin": true,
           "gridcolor": "white",
           "linecolor": "white",
           "ticks": "",
           "title": {
            "standoff": 15
           },
           "zerolinecolor": "white",
           "zerolinewidth": 2
          },
          "yaxis": {
           "automargin": true,
           "gridcolor": "white",
           "linecolor": "white",
           "ticks": "",
           "title": {
            "standoff": 15
           },
           "zerolinecolor": "white",
           "zerolinewidth": 2
          }
         }
        },
        "title": {
         "text": "🏈 Roster Overview Dashboard"
        },
        "xaxis": {
         "anchor": "y",
         "domain": [
          0,
          0.45
         ],
         "title": {
          "text": "Position"
         }
        },
        "xaxis2": {
         "anchor": "y2",
         "domain": [
          0.55,
          1
         ],
         "title": {
          "text": "Blended Value"
         }
        },
        "yaxis": {
         "anchor": "x",
         "domain": [
          0.625,
          1
         ],
         "title": {
          "text": "Player Count"
         }
        },
        "yaxis2": {
         "anchor": "x2",
         "domain": [
          0.625,
          1
         ]
        }
       }
      }
     },
     "metadata": {},
     "output_type": "display_data"
    },
    {
     "name": "stdout",
     "output_type": "stream",
     "text": [
      "📊 Roster composition visualization created!\n"
     ]
    }
   ],
   "source": [
    "# 1. Roster Composition by Position\n",
    "if roster_df is not None:\n",
    "    fig = make_subplots(\n",
    "        rows=2, cols=2,\n",
    "        subplot_titles=('Current Roster by Position', 'Position Strength Grades', \n",
    "                       'Player Status Distribution', 'Development Traits'),\n",
    "        specs=[[{\"type\": \"bar\"}, {\"type\": \"bar\"}],\n",
    "               [{\"type\": \"pie\"}, {\"type\": \"pie\"}]]\n",
    "    )\n",
    "    \n",
    "    # Subplot 1: Current roster by position\n",
    "    position_counts = roster_df['POSITION'].value_counts().reindex(position_order).fillna(0)\n",
    "    fig.add_trace(\n",
    "        go.Bar(x=position_counts.index, y=position_counts.values, \n",
    "               name=\"Current Count\", marker_color='lightblue'),\n",
    "        row=1, col=1\n",
    "    )\n",
    "    \n",
    "    # Subplot 2: Position grades\n",
    "    grade_colors = {'A+': '#2E8B57', 'A': '#32CD32', 'A-': '#90EE90', \n",
    "                   'B+': '#FFD700', 'B': '#FFA500', 'B-': '#FF8C00',\n",
    "                   'C+': '#FF6347', 'C': '#FF4500', 'C-': '#DC143C', 'F': '#8B0000'}\n",
    "    \n",
    "    recruiting_plan_sorted = recruiting_plan.sort_values('Blended Value', ascending=True)\n",
    "    colors = [grade_colors.get(grade, '#808080') for grade in recruiting_plan_sorted['Grade']]\n",
    "    \n",
    "    fig.add_trace(\n",
    "        go.Bar(x=recruiting_plan_sorted['Blended Value'], \n",
    "               y=recruiting_plan_sorted['Position'],\n",
    "               orientation='h',\n",
    "               name=\"Position Strength\",\n",
    "               marker_color=colors,\n",
    "               text=recruiting_plan_sorted['Grade'],\n",
    "               textposition='auto'),\n",
    "        row=1, col=2\n",
    "    )\n",
    "    \n",
    "    # Subplot 3: Player status distribution\n",
    "    status_counts = roster_df['STATUS'].value_counts()\n",
    "    status_colors = {'SAFE': '#2E8B57', 'AT RISK': '#FFD700', 'CUT': '#DC143C', 'GRADUATING': '#808080'}\n",
    "    fig.add_trace(\n",
    "        go.Pie(labels=status_counts.index, values=status_counts.values,\n",
    "               name=\"Status\", marker_colors=[status_colors.get(status, '#808080') for status in status_counts.index]),\n",
    "        row=2, col=1\n",
    "    )\n",
    "    \n",
    "    # Subplot 4: Development traits\n",
    "    dev_counts = roster_df['DEV TRAIT'].value_counts()\n",
    "    dev_colors = {'ELITE': '#2E8B57', 'STAR': '#32CD32', 'IMPACT': '#FFD700', 'NORMAL': '#808080'}\n",
    "    fig.add_trace(\n",
    "        go.Pie(labels=dev_counts.index, values=dev_counts.values,\n",
    "               name=\"Dev Traits\", marker_colors=[dev_colors.get(trait, '#808080') for trait in dev_counts.index]),\n",
    "        row=2, col=2\n",
    "    )\n",
    "    \n",
    "    fig.update_layout(height=800, title_text=\"🏈 Roster Overview Dashboard\", showlegend=False)\n",
    "    fig.update_xaxes(title_text=\"Position\", row=1, col=1)\n",
    "    fig.update_yaxes(title_text=\"Player Count\", row=1, col=1)\n",
    "    fig.update_xaxes(title_text=\"Blended Value\", row=1, col=2)\n",
    "    \n",
    "    fig.show()\n",
    "    \n",
    "    print(\"📊 Roster composition visualization created!\")"
   ]
  },
  {
   "cell_type": "code",
   "execution_count": 8,
   "id": "3ba1b848",
   "metadata": {},
   "outputs": [
    {
     "data": {
      "application/vnd.plotly.v1+json": {
       "config": {
        "plotlyServerURL": "https://plot.ly"
       },
       "data": [
        {
         "alignmentgroup": "True",
         "hovertemplate": "STATUS=SAFE<br>POSITION=%{x}<br>VALUE=%{y}<extra></extra>",
         "legendgroup": "SAFE",
         "marker": {
          "color": "#2E8B57"
         },
         "name": "SAFE",
         "notched": false,
         "offsetgroup": "SAFE",
         "orientation": "v",
         "showlegend": true,
         "type": "box",
         "x": [
          "QB",
          "QB",
          "QB",
          "HB",
          "HB",
          "WR",
          "LT",
          "LT",
          "RT",
          "CB",
          null,
          null,
          null,
          null,
          null
         ],
         "x0": " ",
         "xaxis": "x",
         "y": {
          "bdata": "exSuR+FKWUAAAAAAABBfQLgehetRAGBApHA9CtdzV0AAAAAAADBgQK5H4XoUbltArkfhehTeV0AAAAAAAPBUQHsUrkfhSllA16NwPQofYEAAAAAAAGBYQAAAAAAAIFdAXI/C9SisVUDNzMzMzFxaQKRwPQrX41NA",
          "dtype": "f8"
         },
         "y0": " ",
         "yaxis": "y"
        },
        {
         "alignmentgroup": "True",
         "hovertemplate": "STATUS=CUT<br>POSITION=%{x}<br>VALUE=%{y}<extra></extra>",
         "legendgroup": "CUT",
         "marker": {
          "color": "#DC143C"
         },
         "name": "CUT",
         "notched": false,
         "offsetgroup": "CUT",
         "orientation": "v",
         "showlegend": true,
         "type": "box",
         "x": [
          "QB",
          "HB",
          "WR",
          "WR",
          "WR",
          "TE",
          "TE",
          "LG",
          "LG",
          "RG",
          "RG",
          "RG",
          "RT",
          "RT",
          "DT",
          "DT",
          "DT",
          "CB",
          "CB",
          "CB",
          "CB",
          "FS",
          "SS",
          "K",
          null,
          null,
          null,
          null,
          null,
          null,
          null,
          null
         ],
         "x0": " ",
         "xaxis": "x",
         "y": {
          "bdata": "SOF6FK7HVEBI4XoUridXQK5H4XoUflhApHA9CtdDVkC4HoXrUZhTQGZmZmZmFlZAAAAAAACQUEAAAAAAAMBYQKRwPQrXg1FArkfhehTeV0AAAAAAAKBUQDMzMzMzg1dAMzMzMzODV0DNzMzMzMxWQKRwPQrXQ1ZAAAAAAADgVUAAAAAAAEBUQAAAAAAA0FZApHA9CtcTVUCkcD0K1xNVQK5H4XoU3ldAMzMzMzODV0Bcj8L1KNxWQLgehetRmFNAFK5H4XqUWEAAAAAAADBUQAAAAAAAMFRAAAAAAAAwVEBI4XoUridXQDMzMzMzg1dAzczMzMzMVkBI4XoUridXQA==",
          "dtype": "f8"
         },
         "y0": " ",
         "yaxis": "y"
        },
        {
         "alignmentgroup": "True",
         "hovertemplate": "STATUS=AT RISK<br>POSITION=%{x}<br>VALUE=%{y}<extra></extra>",
         "legendgroup": "AT RISK",
         "marker": {
          "color": "#FFD700"
         },
         "name": "AT RISK",
         "notched": false,
         "offsetgroup": "AT RISK",
         "orientation": "v",
         "showlegend": true,
         "type": "box",
         "x": [
          "HB",
          "HB",
          "HB",
          "WR",
          "WR",
          "TE",
          "LT",
          "LG",
          "RG",
          "DT",
          "FS",
          null,
          null,
          null,
          null,
          null,
          null
         ],
         "x0": " ",
         "xaxis": "x",
         "y": {
          "bdata": "MzMzMzMTW0AAAAAAACBcQAAAAAAAoF5A4XoUrkcBWkDD9Shcj9JbQAAAAAAAwF1AAAAAAACwWkAAAAAAAEBaQAAAAAAAQFpAAAAAAAAAXEAAAAAAAJBbQClcj8L1eFlAAAAAAABQXUBI4XoUrrddQJqZmZmZmVpAAAAAAABAWkAAAAAAAEBaQA==",
          "dtype": "f8"
         },
         "y0": " ",
         "yaxis": "y"
        },
        {
         "alignmentgroup": "True",
         "hovertemplate": "STATUS=GRADUATING<br>POSITION=%{x}<br>VALUE=%{y}<extra></extra>",
         "legendgroup": "GRADUATING",
         "marker": {
          "color": "#808080"
         },
         "name": "GRADUATING",
         "notched": false,
         "offsetgroup": "GRADUATING",
         "orientation": "v",
         "showlegend": true,
         "type": "box",
         "x": [
          "WR",
          "WR",
          "TE",
          "LT",
          "LG",
          "RG",
          "DT",
          "DT",
          "DT",
          "CB",
          "CB",
          "CB",
          "CB",
          "FS",
          "FS",
          "SS",
          "K",
          null,
          null,
          null,
          null
         ],
         "x0": " ",
         "xaxis": "x",
         "y": {
          "bdata": "zczMzMwMUkDNzMzMzNxQQAAAAAAAAFJAMzMzMzPTT0CamZmZmRlRQGZmZmZmhlJAAAAAAAAAU0AAAAAAAKBQQDMzMzMz009AexSuR+HaU0DNzMzMzAxSQM3MzMzMDFJAZmZmZmZWUUDNzMzMzAxSQGZmZmZmVlFAAAAAAABAU0AzMzMzM8NSQDMzMzMzw1JArkfhehQeVEBmZmZmZlZRQDMzMzMzY1BA",
          "dtype": "f8"
         },
         "y0": " ",
         "yaxis": "y"
        }
       ],
       "layout": {
        "boxmode": "group",
        "height": 600,
        "legend": {
         "title": {
          "text": "STATUS"
         },
         "tracegroupgap": 0
        },
        "template": {
         "data": {
          "bar": [
           {
            "error_x": {
             "color": "#2a3f5f"
            },
            "error_y": {
             "color": "#2a3f5f"
            },
            "marker": {
             "line": {
              "color": "#E5ECF6",
              "width": 0.5
             },
             "pattern": {
              "fillmode": "overlay",
              "size": 10,
              "solidity": 0.2
             }
            },
            "type": "bar"
           }
          ],
          "barpolar": [
           {
            "marker": {
             "line": {
              "color": "#E5ECF6",
              "width": 0.5
             },
             "pattern": {
              "fillmode": "overlay",
              "size": 10,
              "solidity": 0.2
             }
            },
            "type": "barpolar"
           }
          ],
          "carpet": [
           {
            "aaxis": {
             "endlinecolor": "#2a3f5f",
             "gridcolor": "white",
             "linecolor": "white",
             "minorgridcolor": "white",
             "startlinecolor": "#2a3f5f"
            },
            "baxis": {
             "endlinecolor": "#2a3f5f",
             "gridcolor": "white",
             "linecolor": "white",
             "minorgridcolor": "white",
             "startlinecolor": "#2a3f5f"
            },
            "type": "carpet"
           }
          ],
          "choropleth": [
           {
            "colorbar": {
             "outlinewidth": 0,
             "ticks": ""
            },
            "type": "choropleth"
           }
          ],
          "contour": [
           {
            "colorbar": {
             "outlinewidth": 0,
             "ticks": ""
            },
            "colorscale": [
             [
              0,
              "#0d0887"
             ],
             [
              0.1111111111111111,
              "#46039f"
             ],
             [
              0.2222222222222222,
              "#7201a8"
             ],
             [
              0.3333333333333333,
              "#9c179e"
             ],
             [
              0.4444444444444444,
              "#bd3786"
             ],
             [
              0.5555555555555556,
              "#d8576b"
             ],
             [
              0.6666666666666666,
              "#ed7953"
             ],
             [
              0.7777777777777778,
              "#fb9f3a"
             ],
             [
              0.8888888888888888,
              "#fdca26"
             ],
             [
              1,
              "#f0f921"
             ]
            ],
            "type": "contour"
           }
          ],
          "contourcarpet": [
           {
            "colorbar": {
             "outlinewidth": 0,
             "ticks": ""
            },
            "type": "contourcarpet"
           }
          ],
          "heatmap": [
           {
            "colorbar": {
             "outlinewidth": 0,
             "ticks": ""
            },
            "colorscale": [
             [
              0,
              "#0d0887"
             ],
             [
              0.1111111111111111,
              "#46039f"
             ],
             [
              0.2222222222222222,
              "#7201a8"
             ],
             [
              0.3333333333333333,
              "#9c179e"
             ],
             [
              0.4444444444444444,
              "#bd3786"
             ],
             [
              0.5555555555555556,
              "#d8576b"
             ],
             [
              0.6666666666666666,
              "#ed7953"
             ],
             [
              0.7777777777777778,
              "#fb9f3a"
             ],
             [
              0.8888888888888888,
              "#fdca26"
             ],
             [
              1,
              "#f0f921"
             ]
            ],
            "type": "heatmap"
           }
          ],
          "histogram": [
           {
            "marker": {
             "pattern": {
              "fillmode": "overlay",
              "size": 10,
              "solidity": 0.2
             }
            },
            "type": "histogram"
           }
          ],
          "histogram2d": [
           {
            "colorbar": {
             "outlinewidth": 0,
             "ticks": ""
            },
            "colorscale": [
             [
              0,
              "#0d0887"
             ],
             [
              0.1111111111111111,
              "#46039f"
             ],
             [
              0.2222222222222222,
              "#7201a8"
             ],
             [
              0.3333333333333333,
              "#9c179e"
             ],
             [
              0.4444444444444444,
              "#bd3786"
             ],
             [
              0.5555555555555556,
              "#d8576b"
             ],
             [
              0.6666666666666666,
              "#ed7953"
             ],
             [
              0.7777777777777778,
              "#fb9f3a"
             ],
             [
              0.8888888888888888,
              "#fdca26"
             ],
             [
              1,
              "#f0f921"
             ]
            ],
            "type": "histogram2d"
           }
          ],
          "histogram2dcontour": [
           {
            "colorbar": {
             "outlinewidth": 0,
             "ticks": ""
            },
            "colorscale": [
             [
              0,
              "#0d0887"
             ],
             [
              0.1111111111111111,
              "#46039f"
             ],
             [
              0.2222222222222222,
              "#7201a8"
             ],
             [
              0.3333333333333333,
              "#9c179e"
             ],
             [
              0.4444444444444444,
              "#bd3786"
             ],
             [
              0.5555555555555556,
              "#d8576b"
             ],
             [
              0.6666666666666666,
              "#ed7953"
             ],
             [
              0.7777777777777778,
              "#fb9f3a"
             ],
             [
              0.8888888888888888,
              "#fdca26"
             ],
             [
              1,
              "#f0f921"
             ]
            ],
            "type": "histogram2dcontour"
           }
          ],
          "mesh3d": [
           {
            "colorbar": {
             "outlinewidth": 0,
             "ticks": ""
            },
            "type": "mesh3d"
           }
          ],
          "parcoords": [
           {
            "line": {
             "colorbar": {
              "outlinewidth": 0,
              "ticks": ""
             }
            },
            "type": "parcoords"
           }
          ],
          "pie": [
           {
            "automargin": true,
            "type": "pie"
           }
          ],
          "scatter": [
           {
            "fillpattern": {
             "fillmode": "overlay",
             "size": 10,
             "solidity": 0.2
            },
            "type": "scatter"
           }
          ],
          "scatter3d": [
           {
            "line": {
             "colorbar": {
              "outlinewidth": 0,
              "ticks": ""
             }
            },
            "marker": {
             "colorbar": {
              "outlinewidth": 0,
              "ticks": ""
             }
            },
            "type": "scatter3d"
           }
          ],
          "scattercarpet": [
           {
            "marker": {
             "colorbar": {
              "outlinewidth": 0,
              "ticks": ""
             }
            },
            "type": "scattercarpet"
           }
          ],
          "scattergeo": [
           {
            "marker": {
             "colorbar": {
              "outlinewidth": 0,
              "ticks": ""
             }
            },
            "type": "scattergeo"
           }
          ],
          "scattergl": [
           {
            "marker": {
             "colorbar": {
              "outlinewidth": 0,
              "ticks": ""
             }
            },
            "type": "scattergl"
           }
          ],
          "scattermap": [
           {
            "marker": {
             "colorbar": {
              "outlinewidth": 0,
              "ticks": ""
             }
            },
            "type": "scattermap"
           }
          ],
          "scattermapbox": [
           {
            "marker": {
             "colorbar": {
              "outlinewidth": 0,
              "ticks": ""
             }
            },
            "type": "scattermapbox"
           }
          ],
          "scatterpolar": [
           {
            "marker": {
             "colorbar": {
              "outlinewidth": 0,
              "ticks": ""
             }
            },
            "type": "scatterpolar"
           }
          ],
          "scatterpolargl": [
           {
            "marker": {
             "colorbar": {
              "outlinewidth": 0,
              "ticks": ""
             }
            },
            "type": "scatterpolargl"
           }
          ],
          "scatterternary": [
           {
            "marker": {
             "colorbar": {
              "outlinewidth": 0,
              "ticks": ""
             }
            },
            "type": "scatterternary"
           }
          ],
          "surface": [
           {
            "colorbar": {
             "outlinewidth": 0,
             "ticks": ""
            },
            "colorscale": [
             [
              0,
              "#0d0887"
             ],
             [
              0.1111111111111111,
              "#46039f"
             ],
             [
              0.2222222222222222,
              "#7201a8"
             ],
             [
              0.3333333333333333,
              "#9c179e"
             ],
             [
              0.4444444444444444,
              "#bd3786"
             ],
             [
              0.5555555555555556,
              "#d8576b"
             ],
             [
              0.6666666666666666,
              "#ed7953"
             ],
             [
              0.7777777777777778,
              "#fb9f3a"
             ],
             [
              0.8888888888888888,
              "#fdca26"
             ],
             [
              1,
              "#f0f921"
             ]
            ],
            "type": "surface"
           }
          ],
          "table": [
           {
            "cells": {
             "fill": {
              "color": "#EBF0F8"
             },
             "line": {
              "color": "white"
             }
            },
            "header": {
             "fill": {
              "color": "#C8D4E3"
             },
             "line": {
              "color": "white"
             }
            },
            "type": "table"
           }
          ]
         },
         "layout": {
          "annotationdefaults": {
           "arrowcolor": "#2a3f5f",
           "arrowhead": 0,
           "arrowwidth": 1
          },
          "autotypenumbers": "strict",
          "coloraxis": {
           "colorbar": {
            "outlinewidth": 0,
            "ticks": ""
           }
          },
          "colorscale": {
           "diverging": [
            [
             0,
             "#8e0152"
            ],
            [
             0.1,
             "#c51b7d"
            ],
            [
             0.2,
             "#de77ae"
            ],
            [
             0.3,
             "#f1b6da"
            ],
            [
             0.4,
             "#fde0ef"
            ],
            [
             0.5,
             "#f7f7f7"
            ],
            [
             0.6,
             "#e6f5d0"
            ],
            [
             0.7,
             "#b8e186"
            ],
            [
             0.8,
             "#7fbc41"
            ],
            [
             0.9,
             "#4d9221"
            ],
            [
             1,
             "#276419"
            ]
           ],
           "sequential": [
            [
             0,
             "#0d0887"
            ],
            [
             0.1111111111111111,
             "#46039f"
            ],
            [
             0.2222222222222222,
             "#7201a8"
            ],
            [
             0.3333333333333333,
             "#9c179e"
            ],
            [
             0.4444444444444444,
             "#bd3786"
            ],
            [
             0.5555555555555556,
             "#d8576b"
            ],
            [
             0.6666666666666666,
             "#ed7953"
            ],
            [
             0.7777777777777778,
             "#fb9f3a"
            ],
            [
             0.8888888888888888,
             "#fdca26"
            ],
            [
             1,
             "#f0f921"
            ]
           ],
           "sequentialminus": [
            [
             0,
             "#0d0887"
            ],
            [
             0.1111111111111111,
             "#46039f"
            ],
            [
             0.2222222222222222,
             "#7201a8"
            ],
            [
             0.3333333333333333,
             "#9c179e"
            ],
            [
             0.4444444444444444,
             "#bd3786"
            ],
            [
             0.5555555555555556,
             "#d8576b"
            ],
            [
             0.6666666666666666,
             "#ed7953"
            ],
            [
             0.7777777777777778,
             "#fb9f3a"
            ],
            [
             0.8888888888888888,
             "#fdca26"
            ],
            [
             1,
             "#f0f921"
            ]
           ]
          },
          "colorway": [
           "#636efa",
           "#EF553B",
           "#00cc96",
           "#ab63fa",
           "#FFA15A",
           "#19d3f3",
           "#FF6692",
           "#B6E880",
           "#FF97FF",
           "#FECB52"
          ],
          "font": {
           "color": "#2a3f5f"
          },
          "geo": {
           "bgcolor": "white",
           "lakecolor": "white",
           "landcolor": "#E5ECF6",
           "showlakes": true,
           "showland": true,
           "subunitcolor": "white"
          },
          "hoverlabel": {
           "align": "left"
          },
          "hovermode": "closest",
          "mapbox": {
           "style": "light"
          },
          "paper_bgcolor": "white",
          "plot_bgcolor": "#E5ECF6",
          "polar": {
           "angularaxis": {
            "gridcolor": "white",
            "linecolor": "white",
            "ticks": ""
           },
           "bgcolor": "#E5ECF6",
           "radialaxis": {
            "gridcolor": "white",
            "linecolor": "white",
            "ticks": ""
           }
          },
          "scene": {
           "xaxis": {
            "backgroundcolor": "#E5ECF6",
            "gridcolor": "white",
            "gridwidth": 2,
            "linecolor": "white",
            "showbackground": true,
            "ticks": "",
            "zerolinecolor": "white"
           },
           "yaxis": {
            "backgroundcolor": "#E5ECF6",
            "gridcolor": "white",
            "gridwidth": 2,
            "linecolor": "white",
            "showbackground": true,
            "ticks": "",
            "zerolinecolor": "white"
           },
           "zaxis": {
            "backgroundcolor": "#E5ECF6",
            "gridcolor": "white",
            "gridwidth": 2,
            "linecolor": "white",
            "showbackground": true,
            "ticks": "",
            "zerolinecolor": "white"
           }
          },
          "shapedefaults": {
           "line": {
            "color": "#2a3f5f"
           }
          },
          "ternary": {
           "aaxis": {
            "gridcolor": "white",
            "linecolor": "white",
            "ticks": ""
           },
           "baxis": {
            "gridcolor": "white",
            "linecolor": "white",
            "ticks": ""
           },
           "bgcolor": "#E5ECF6",
           "caxis": {
            "gridcolor": "white",
            "linecolor": "white",
            "ticks": ""
           }
          },
          "title": {
           "x": 0.05
          },
          "xaxis": {
           "automargin": true,
           "gridcolor": "white",
           "linecolor": "white",
           "ticks": "",
           "title": {
            "standoff": 15
           },
           "zerolinecolor": "white",
           "zerolinewidth": 2
          },
          "yaxis": {
           "automargin": true,
           "gridcolor": "white",
           "linecolor": "white",
           "ticks": "",
           "title": {
            "standoff": 15
           },
           "zerolinecolor": "white",
           "zerolinewidth": 2
          }
         }
        },
        "title": {
         "text": "📈 Player Value Distribution by Position"
        },
        "xaxis": {
         "anchor": "y",
         "categoryarray": [
          "QB",
          "HB",
          "WR",
          "TE",
          "LT",
          "LG",
          "C",
          "RG",
          "RT",
          "LE",
          "RE",
          "DT",
          "LOLB",
          "MLB",
          "ROLB",
          "CB",
          "FS",
          "SS",
          "K",
          "P",
          "ATH"
         ],
         "categoryorder": "array",
         "domain": [
          0,
          1
         ],
         "title": {
          "text": "Position"
         }
        },
        "yaxis": {
         "anchor": "x",
         "domain": [
          0,
          1
         ],
         "title": {
          "text": "Player Value"
         }
        }
       }
      }
     },
     "metadata": {},
     "output_type": "display_data"
    },
    {
     "name": "stdout",
     "output_type": "stream",
     "text": [
      "💰 Player Value Statistics:\n",
      "  • Average Value: 91.1\n",
      "  • Highest Value: 129.5 (TYVONN BYARS)\n",
      "  • Lowest Value: 63.6\n",
      "  • Players > 150 Value: 0\n",
      "  • Players at Risk (100-125): 17\n",
      "  • Players to Cut (<100): 32\n"
     ]
    }
   ],
   "source": [
    "# 2. Player Value Distribution\n",
    "if roster_df is not None:\n",
    "    fig = px.box(roster_df, x='POSITION', y='VALUE', \n",
    "                 color='STATUS',\n",
    "                 title='📈 Player Value Distribution by Position',\n",
    "                 color_discrete_map={'SAFE': '#2E8B57', 'AT RISK': '#FFD700', \n",
    "                                   'CUT': '#DC143C', 'GRADUATING': '#808080'})\n",
    "    \n",
    "    fig.update_layout(\n",
    "        xaxis_title=\"Position\",\n",
    "        yaxis_title=\"Player Value\",\n",
    "        height=600,\n",
    "        xaxis={'categoryorder':'array', 'categoryarray':position_order}\n",
    "    )\n",
    "    \n",
    "    fig.show()\n",
    "    \n",
    "    # Additional value statistics\n",
    "    print(f\"💰 Player Value Statistics:\")\n",
    "    print(f\"  • Average Value: {roster_df['VALUE'].mean():.1f}\")\n",
    "    print(f\"  • Highest Value: {roster_df['VALUE'].max():.1f} ({roster_df.loc[roster_df['VALUE'].idxmax(), 'FIRST NAME']} {roster_df.loc[roster_df['VALUE'].idxmax(), 'LAST NAME']})\")\n",
    "    print(f\"  • Lowest Value: {roster_df['VALUE'].min():.1f}\")\n",
    "    print(f\"  • Players > 150 Value: {len(roster_df[roster_df['VALUE'] > 150])}\")\n",
    "    print(f\"  • Players at Risk (100-125): {len(roster_df[roster_df['STATUS'] == 'AT RISK'])}\")\n",
    "    print(f\"  • Players to Cut (<100): {len(roster_df[roster_df['STATUS'] == 'CUT'])}\")"
   ]
  },
  {
   "cell_type": "code",
   "execution_count": 9,
   "id": "2ab37b4f",
   "metadata": {},
   "outputs": [
    {
     "data": {
      "application/vnd.plotly.v1+json": {
       "config": {
        "plotlyServerURL": "https://plot.ly"
       },
       "data": [
        {
         "colorscale": [
          [
           0,
           "green"
          ],
          [
           0.5,
           "yellow"
          ],
          [
           1,
           "red"
          ]
         ],
         "showscale": false,
         "text": [
          [
           "HIGH",
           "LOW",
           "LOW",
           "HIGH",
           "LOW",
           "LOW",
           "LOW",
           "HIGH",
           "LOW",
           "HIGH",
           "LOW",
           "HIGH",
           "HIGH",
           "LOW",
           "HIGH",
           "LOW",
           "HIGH",
           "LOW",
           "HIGH",
           "LOW",
           "LOW"
          ]
         ],
         "textfont": {
          "size": 10
         },
         "texttemplate": "%{text}",
         "type": "heatmap",
         "x": [
          "C",
          "CB",
          "DT",
          "FB",
          "FS",
          "HB",
          "K",
          "LE",
          "LG",
          "LOLB",
          "LT",
          "MLB",
          "P",
          "QB",
          "RE",
          "RG",
          "ROLB",
          "RT",
          "SS",
          "TE",
          "WR"
         ],
         "xaxis": "x",
         "y": [
          "Priority"
         ],
         "yaxis": "y",
         "z": [
          [
           3,
           1,
           1,
           3,
           1,
           1,
           1,
           3,
           1,
           3,
           1,
           3,
           3,
           1,
           3,
           1,
           3,
           1,
           3,
           1,
           1
          ]
         ]
        },
        {
         "colorscale": [
          [
           0,
           "rgb(255,245,240)"
          ],
          [
           0.125,
           "rgb(254,224,210)"
          ],
          [
           0.25,
           "rgb(252,187,161)"
          ],
          [
           0.375,
           "rgb(252,146,114)"
          ],
          [
           0.5,
           "rgb(251,106,74)"
          ],
          [
           0.625,
           "rgb(239,59,44)"
          ],
          [
           0.75,
           "rgb(203,24,29)"
          ],
          [
           0.875,
           "rgb(165,15,21)"
          ],
          [
           1,
           "rgb(103,0,13)"
          ]
         ],
         "showscale": false,
         "text": [
          [
           "4",
           "2",
           "0",
           "0",
           "1",
           "0",
           "0",
           "4",
           "1",
           "4",
           "1",
           "4",
           "1",
           "0",
           "4",
           "0",
           "4",
           "1",
           "2",
           "1",
           "2"
          ]
         ],
         "textfont": {
          "size": 10
         },
         "texttemplate": "%{text}",
         "type": "heatmap",
         "x": [
          "C",
          "CB",
          "DT",
          "FB",
          "FS",
          "HB",
          "K",
          "LE",
          "LG",
          "LOLB",
          "LT",
          "MLB",
          "P",
          "QB",
          "RE",
          "RG",
          "ROLB",
          "RT",
          "SS",
          "TE",
          "WR"
         ],
         "xaxis": "x2",
         "y": [
          "Need"
         ],
         "yaxis": "y2",
         "z": [
          [
           4,
           2,
           0,
           0,
           1,
           0,
           0,
           4,
           1,
           4,
           1,
           4,
           1,
           0,
           4,
           0,
           4,
           1,
           2,
           1,
           2
          ]
         ]
        },
        {
         "colorscale": [
          [
           0,
           "rgb(165,0,38)"
          ],
          [
           0.1,
           "rgb(215,48,39)"
          ],
          [
           0.2,
           "rgb(244,109,67)"
          ],
          [
           0.3,
           "rgb(253,174,97)"
          ],
          [
           0.4,
           "rgb(254,224,139)"
          ],
          [
           0.5,
           "rgb(255,255,191)"
          ],
          [
           0.6,
           "rgb(217,239,139)"
          ],
          [
           0.7,
           "rgb(166,217,106)"
          ],
          [
           0.8,
           "rgb(102,189,99)"
          ],
          [
           0.9,
           "rgb(26,152,80)"
          ],
          [
           1,
           "rgb(0,104,55)"
          ]
         ],
         "showscale": true,
         "text": [
          [
           "0",
           "102",
           "93",
           "0",
           "101",
           "119",
           "77",
           "0",
           "97",
           "0",
           "99",
           "0",
           "0",
           "120",
           "0",
           "99",
           "0",
           "99",
           "87",
           "106",
           "100"
          ]
         ],
         "textfont": {
          "size": 10
         },
         "texttemplate": "%{text}",
         "type": "heatmap",
         "x": [
          "C",
          "CB",
          "DT",
          "FB",
          "FS",
          "HB",
          "K",
          "LE",
          "LG",
          "LOLB",
          "LT",
          "MLB",
          "P",
          "QB",
          "RE",
          "RG",
          "ROLB",
          "RT",
          "SS",
          "TE",
          "WR"
         ],
         "xaxis": "x3",
         "y": [
          "Strength"
         ],
         "yaxis": "y3",
         "z": [
          [
           0,
           102.26,
           92.85,
           0,
           100.74,
           118.74,
           77.38,
           0,
           97.25,
           0,
           99.01,
           0,
           0,
           120.46,
           0,
           99.46,
           0,
           98.61,
           87.11,
           105.96,
           100.14
          ]
         ]
        }
       ],
       "layout": {
        "annotations": [
         {
          "font": {
           "size": 16
          },
          "showarrow": false,
          "text": "Recruiting Priority",
          "x": 0.13333333333333333,
          "xanchor": "center",
          "xref": "paper",
          "y": 1,
          "yanchor": "bottom",
          "yref": "paper"
         },
         {
          "font": {
           "size": 16
          },
          "showarrow": false,
          "text": "Position Need",
          "x": 0.5,
          "xanchor": "center",
          "xref": "paper",
          "y": 1,
          "yanchor": "bottom",
          "yref": "paper"
         },
         {
          "font": {
           "size": 16
          },
          "showarrow": false,
          "text": "Current Strength",
          "x": 0.8666666666666667,
          "xanchor": "center",
          "xref": "paper",
          "y": 1,
          "yanchor": "bottom",
          "yref": "paper"
         }
        ],
        "height": 400,
        "showlegend": false,
        "template": {
         "data": {
          "bar": [
           {
            "error_x": {
             "color": "#2a3f5f"
            },
            "error_y": {
             "color": "#2a3f5f"
            },
            "marker": {
             "line": {
              "color": "#E5ECF6",
              "width": 0.5
             },
             "pattern": {
              "fillmode": "overlay",
              "size": 10,
              "solidity": 0.2
             }
            },
            "type": "bar"
           }
          ],
          "barpolar": [
           {
            "marker": {
             "line": {
              "color": "#E5ECF6",
              "width": 0.5
             },
             "pattern": {
              "fillmode": "overlay",
              "size": 10,
              "solidity": 0.2
             }
            },
            "type": "barpolar"
           }
          ],
          "carpet": [
           {
            "aaxis": {
             "endlinecolor": "#2a3f5f",
             "gridcolor": "white",
             "linecolor": "white",
             "minorgridcolor": "white",
             "startlinecolor": "#2a3f5f"
            },
            "baxis": {
             "endlinecolor": "#2a3f5f",
             "gridcolor": "white",
             "linecolor": "white",
             "minorgridcolor": "white",
             "startlinecolor": "#2a3f5f"
            },
            "type": "carpet"
           }
          ],
          "choropleth": [
           {
            "colorbar": {
             "outlinewidth": 0,
             "ticks": ""
            },
            "type": "choropleth"
           }
          ],
          "contour": [
           {
            "colorbar": {
             "outlinewidth": 0,
             "ticks": ""
            },
            "colorscale": [
             [
              0,
              "#0d0887"
             ],
             [
              0.1111111111111111,
              "#46039f"
             ],
             [
              0.2222222222222222,
              "#7201a8"
             ],
             [
              0.3333333333333333,
              "#9c179e"
             ],
             [
              0.4444444444444444,
              "#bd3786"
             ],
             [
              0.5555555555555556,
              "#d8576b"
             ],
             [
              0.6666666666666666,
              "#ed7953"
             ],
             [
              0.7777777777777778,
              "#fb9f3a"
             ],
             [
              0.8888888888888888,
              "#fdca26"
             ],
             [
              1,
              "#f0f921"
             ]
            ],
            "type": "contour"
           }
          ],
          "contourcarpet": [
           {
            "colorbar": {
             "outlinewidth": 0,
             "ticks": ""
            },
            "type": "contourcarpet"
           }
          ],
          "heatmap": [
           {
            "colorbar": {
             "outlinewidth": 0,
             "ticks": ""
            },
            "colorscale": [
             [
              0,
              "#0d0887"
             ],
             [
              0.1111111111111111,
              "#46039f"
             ],
             [
              0.2222222222222222,
              "#7201a8"
             ],
             [
              0.3333333333333333,
              "#9c179e"
             ],
             [
              0.4444444444444444,
              "#bd3786"
             ],
             [
              0.5555555555555556,
              "#d8576b"
             ],
             [
              0.6666666666666666,
              "#ed7953"
             ],
             [
              0.7777777777777778,
              "#fb9f3a"
             ],
             [
              0.8888888888888888,
              "#fdca26"
             ],
             [
              1,
              "#f0f921"
             ]
            ],
            "type": "heatmap"
           }
          ],
          "histogram": [
           {
            "marker": {
             "pattern": {
              "fillmode": "overlay",
              "size": 10,
              "solidity": 0.2
             }
            },
            "type": "histogram"
           }
          ],
          "histogram2d": [
           {
            "colorbar": {
             "outlinewidth": 0,
             "ticks": ""
            },
            "colorscale": [
             [
              0,
              "#0d0887"
             ],
             [
              0.1111111111111111,
              "#46039f"
             ],
             [
              0.2222222222222222,
              "#7201a8"
             ],
             [
              0.3333333333333333,
              "#9c179e"
             ],
             [
              0.4444444444444444,
              "#bd3786"
             ],
             [
              0.5555555555555556,
              "#d8576b"
             ],
             [
              0.6666666666666666,
              "#ed7953"
             ],
             [
              0.7777777777777778,
              "#fb9f3a"
             ],
             [
              0.8888888888888888,
              "#fdca26"
             ],
             [
              1,
              "#f0f921"
             ]
            ],
            "type": "histogram2d"
           }
          ],
          "histogram2dcontour": [
           {
            "colorbar": {
             "outlinewidth": 0,
             "ticks": ""
            },
            "colorscale": [
             [
              0,
              "#0d0887"
             ],
             [
              0.1111111111111111,
              "#46039f"
             ],
             [
              0.2222222222222222,
              "#7201a8"
             ],
             [
              0.3333333333333333,
              "#9c179e"
             ],
             [
              0.4444444444444444,
              "#bd3786"
             ],
             [
              0.5555555555555556,
              "#d8576b"
             ],
             [
              0.6666666666666666,
              "#ed7953"
             ],
             [
              0.7777777777777778,
              "#fb9f3a"
             ],
             [
              0.8888888888888888,
              "#fdca26"
             ],
             [
              1,
              "#f0f921"
             ]
            ],
            "type": "histogram2dcontour"
           }
          ],
          "mesh3d": [
           {
            "colorbar": {
             "outlinewidth": 0,
             "ticks": ""
            },
            "type": "mesh3d"
           }
          ],
          "parcoords": [
           {
            "line": {
             "colorbar": {
              "outlinewidth": 0,
              "ticks": ""
             }
            },
            "type": "parcoords"
           }
          ],
          "pie": [
           {
            "automargin": true,
            "type": "pie"
           }
          ],
          "scatter": [
           {
            "fillpattern": {
             "fillmode": "overlay",
             "size": 10,
             "solidity": 0.2
            },
            "type": "scatter"
           }
          ],
          "scatter3d": [
           {
            "line": {
             "colorbar": {
              "outlinewidth": 0,
              "ticks": ""
             }
            },
            "marker": {
             "colorbar": {
              "outlinewidth": 0,
              "ticks": ""
             }
            },
            "type": "scatter3d"
           }
          ],
          "scattercarpet": [
           {
            "marker": {
             "colorbar": {
              "outlinewidth": 0,
              "ticks": ""
             }
            },
            "type": "scattercarpet"
           }
          ],
          "scattergeo": [
           {
            "marker": {
             "colorbar": {
              "outlinewidth": 0,
              "ticks": ""
             }
            },
            "type": "scattergeo"
           }
          ],
          "scattergl": [
           {
            "marker": {
             "colorbar": {
              "outlinewidth": 0,
              "ticks": ""
             }
            },
            "type": "scattergl"
           }
          ],
          "scattermap": [
           {
            "marker": {
             "colorbar": {
              "outlinewidth": 0,
              "ticks": ""
             }
            },
            "type": "scattermap"
           }
          ],
          "scattermapbox": [
           {
            "marker": {
             "colorbar": {
              "outlinewidth": 0,
              "ticks": ""
             }
            },
            "type": "scattermapbox"
           }
          ],
          "scatterpolar": [
           {
            "marker": {
             "colorbar": {
              "outlinewidth": 0,
              "ticks": ""
             }
            },
            "type": "scatterpolar"
           }
          ],
          "scatterpolargl": [
           {
            "marker": {
             "colorbar": {
              "outlinewidth": 0,
              "ticks": ""
             }
            },
            "type": "scatterpolargl"
           }
          ],
          "scatterternary": [
           {
            "marker": {
             "colorbar": {
              "outlinewidth": 0,
              "ticks": ""
             }
            },
            "type": "scatterternary"
           }
          ],
          "surface": [
           {
            "colorbar": {
             "outlinewidth": 0,
             "ticks": ""
            },
            "colorscale": [
             [
              0,
              "#0d0887"
             ],
             [
              0.1111111111111111,
              "#46039f"
             ],
             [
              0.2222222222222222,
              "#7201a8"
             ],
             [
              0.3333333333333333,
              "#9c179e"
             ],
             [
              0.4444444444444444,
              "#bd3786"
             ],
             [
              0.5555555555555556,
              "#d8576b"
             ],
             [
              0.6666666666666666,
              "#ed7953"
             ],
             [
              0.7777777777777778,
              "#fb9f3a"
             ],
             [
              0.8888888888888888,
              "#fdca26"
             ],
             [
              1,
              "#f0f921"
             ]
            ],
            "type": "surface"
           }
          ],
          "table": [
           {
            "cells": {
             "fill": {
              "color": "#EBF0F8"
             },
             "line": {
              "color": "white"
             }
            },
            "header": {
             "fill": {
              "color": "#C8D4E3"
             },
             "line": {
              "color": "white"
             }
            },
            "type": "table"
           }
          ]
         },
         "layout": {
          "annotationdefaults": {
           "arrowcolor": "#2a3f5f",
           "arrowhead": 0,
           "arrowwidth": 1
          },
          "autotypenumbers": "strict",
          "coloraxis": {
           "colorbar": {
            "outlinewidth": 0,
            "ticks": ""
           }
          },
          "colorscale": {
           "diverging": [
            [
             0,
             "#8e0152"
            ],
            [
             0.1,
             "#c51b7d"
            ],
            [
             0.2,
             "#de77ae"
            ],
            [
             0.3,
             "#f1b6da"
            ],
            [
             0.4,
             "#fde0ef"
            ],
            [
             0.5,
             "#f7f7f7"
            ],
            [
             0.6,
             "#e6f5d0"
            ],
            [
             0.7,
             "#b8e186"
            ],
            [
             0.8,
             "#7fbc41"
            ],
            [
             0.9,
             "#4d9221"
            ],
            [
             1,
             "#276419"
            ]
           ],
           "sequential": [
            [
             0,
             "#0d0887"
            ],
            [
             0.1111111111111111,
             "#46039f"
            ],
            [
             0.2222222222222222,
             "#7201a8"
            ],
            [
             0.3333333333333333,
             "#9c179e"
            ],
            [
             0.4444444444444444,
             "#bd3786"
            ],
            [
             0.5555555555555556,
             "#d8576b"
            ],
            [
             0.6666666666666666,
             "#ed7953"
            ],
            [
             0.7777777777777778,
             "#fb9f3a"
            ],
            [
             0.8888888888888888,
             "#fdca26"
            ],
            [
             1,
             "#f0f921"
            ]
           ],
           "sequentialminus": [
            [
             0,
             "#0d0887"
            ],
            [
             0.1111111111111111,
             "#46039f"
            ],
            [
             0.2222222222222222,
             "#7201a8"
            ],
            [
             0.3333333333333333,
             "#9c179e"
            ],
            [
             0.4444444444444444,
             "#bd3786"
            ],
            [
             0.5555555555555556,
             "#d8576b"
            ],
            [
             0.6666666666666666,
             "#ed7953"
            ],
            [
             0.7777777777777778,
             "#fb9f3a"
            ],
            [
             0.8888888888888888,
             "#fdca26"
            ],
            [
             1,
             "#f0f921"
            ]
           ]
          },
          "colorway": [
           "#636efa",
           "#EF553B",
           "#00cc96",
           "#ab63fa",
           "#FFA15A",
           "#19d3f3",
           "#FF6692",
           "#B6E880",
           "#FF97FF",
           "#FECB52"
          ],
          "font": {
           "color": "#2a3f5f"
          },
          "geo": {
           "bgcolor": "white",
           "lakecolor": "white",
           "landcolor": "#E5ECF6",
           "showlakes": true,
           "showland": true,
           "subunitcolor": "white"
          },
          "hoverlabel": {
           "align": "left"
          },
          "hovermode": "closest",
          "mapbox": {
           "style": "light"
          },
          "paper_bgcolor": "white",
          "plot_bgcolor": "#E5ECF6",
          "polar": {
           "angularaxis": {
            "gridcolor": "white",
            "linecolor": "white",
            "ticks": ""
           },
           "bgcolor": "#E5ECF6",
           "radialaxis": {
            "gridcolor": "white",
            "linecolor": "white",
            "ticks": ""
           }
          },
          "scene": {
           "xaxis": {
            "backgroundcolor": "#E5ECF6",
            "gridcolor": "white",
            "gridwidth": 2,
            "linecolor": "white",
            "showbackground": true,
            "ticks": "",
            "zerolinecolor": "white"
           },
           "yaxis": {
            "backgroundcolor": "#E5ECF6",
            "gridcolor": "white",
            "gridwidth": 2,
            "linecolor": "white",
            "showbackground": true,
            "ticks": "",
            "zerolinecolor": "white"
           },
           "zaxis": {
            "backgroundcolor": "#E5ECF6",
            "gridcolor": "white",
            "gridwidth": 2,
            "linecolor": "white",
            "showbackground": true,
            "ticks": "",
            "zerolinecolor": "white"
           }
          },
          "shapedefaults": {
           "line": {
            "color": "#2a3f5f"
           }
          },
          "ternary": {
           "aaxis": {
            "gridcolor": "white",
            "linecolor": "white",
            "ticks": ""
           },
           "baxis": {
            "gridcolor": "white",
            "linecolor": "white",
            "ticks": ""
           },
           "bgcolor": "#E5ECF6",
           "caxis": {
            "gridcolor": "white",
            "linecolor": "white",
            "ticks": ""
           }
          },
          "title": {
           "x": 0.05
          },
          "xaxis": {
           "automargin": true,
           "gridcolor": "white",
           "linecolor": "white",
           "ticks": "",
           "title": {
            "standoff": 15
           },
           "zerolinecolor": "white",
           "zerolinewidth": 2
          },
          "yaxis": {
           "automargin": true,
           "gridcolor": "white",
           "linecolor": "white",
           "ticks": "",
           "title": {
            "standoff": 15
           },
           "zerolinecolor": "white",
           "zerolinewidth": 2
          }
         }
        },
        "title": {
         "text": "🎯 Recruiting Strategy Heatmap"
        },
        "xaxis": {
         "anchor": "y",
         "domain": [
          0,
          0.26666666666666666
         ],
         "tickangle": 45
        },
        "xaxis2": {
         "anchor": "y2",
         "domain": [
          0.3666666666666667,
          0.6333333333333333
         ],
         "tickangle": 45
        },
        "xaxis3": {
         "anchor": "y3",
         "domain": [
          0.7333333333333334,
          1
         ],
         "tickangle": 45
        },
        "yaxis": {
         "anchor": "x",
         "domain": [
          0,
          1
         ]
        },
        "yaxis2": {
         "anchor": "x2",
         "domain": [
          0,
          1
         ]
        },
        "yaxis3": {
         "anchor": "x3",
         "domain": [
          0,
          1
         ]
        }
       }
      }
     },
     "metadata": {},
     "output_type": "display_data"
    },
    {
     "name": "stdout",
     "output_type": "stream",
     "text": [
      "🎯 Recruiting priority heatmap created!\n",
      "\n",
      "📋 Quick Reference:\n",
      "  🔴 RED = High Priority/High Need\n",
      "  🟡 YELLOW = Medium Priority\n",
      "  🟢 GREEN = Low Priority/Strong Position\n"
     ]
    }
   ],
   "source": [
    "# 3. Recruiting Priority Heatmap\n",
    "if roster_df is not None and recruiting_plan is not None:\n",
    "    # Create a matrix for the heatmap\n",
    "    priority_map = {'HIGH': 3, 'MEDIUM': 2, 'LOW': 1}\n",
    "    recruiting_plan['Priority_Numeric'] = recruiting_plan['Priority'].map(priority_map)\n",
    "    \n",
    "    # Create heatmap data\n",
    "    heatmap_data = recruiting_plan.pivot_table(\n",
    "        index='Position', \n",
    "        values=['Priority_Numeric', 'Need', 'Blended Value'], \n",
    "        aggfunc='first'\n",
    "    ).fillna(0)\n",
    "    \n",
    "    fig = make_subplots(\n",
    "        rows=1, cols=3,\n",
    "        subplot_titles=('Recruiting Priority', 'Position Need', 'Current Strength'),\n",
    "        horizontal_spacing=0.1\n",
    "    )\n",
    "    \n",
    "    # Priority heatmap\n",
    "    fig.add_trace(\n",
    "        go.Heatmap(\n",
    "            z=[heatmap_data['Priority_Numeric'].values],\n",
    "            x=heatmap_data.index,\n",
    "            y=['Priority'],\n",
    "            colorscale=[[0, 'green'], [0.5, 'yellow'], [1, 'red']],\n",
    "            showscale=False,\n",
    "            text=[[recruiting_plan.set_index('Position').loc[pos, 'Priority'] for pos in heatmap_data.index]],\n",
    "            texttemplate=\"%{text}\",\n",
    "            textfont={\"size\": 10}\n",
    "        ),\n",
    "        row=1, col=1\n",
    "    )\n",
    "    \n",
    "    # Need heatmap\n",
    "    fig.add_trace(\n",
    "        go.Heatmap(\n",
    "            z=[heatmap_data['Need'].values],\n",
    "            x=heatmap_data.index,\n",
    "            y=['Need'],\n",
    "            colorscale='Reds',\n",
    "            showscale=False,\n",
    "            text=[[f\"{int(val)}\" for val in heatmap_data['Need'].values]],\n",
    "            texttemplate=\"%{text}\",\n",
    "            textfont={\"size\": 10}\n",
    "        ),\n",
    "        row=1, col=2\n",
    "    )\n",
    "    \n",
    "    # Strength heatmap\n",
    "    fig.add_trace(\n",
    "        go.Heatmap(\n",
    "            z=[heatmap_data['Blended Value'].values],\n",
    "            x=heatmap_data.index,\n",
    "            y=['Strength'],\n",
    "            colorscale='RdYlGn',\n",
    "            showscale=True,\n",
    "            text=[[f\"{val:.0f}\" for val in heatmap_data['Blended Value'].values]],\n",
    "            texttemplate=\"%{text}\",\n",
    "            textfont={\"size\": 10}\n",
    "        ),\n",
    "        row=1, col=3\n",
    "    )\n",
    "    \n",
    "    fig.update_layout(\n",
    "        title='🎯 Recruiting Strategy Heatmap',\n",
    "        height=400,\n",
    "        showlegend=False\n",
    "    )\n",
    "    \n",
    "    # Rotate x-axis labels\n",
    "    for i in range(1, 4):\n",
    "        fig.update_xaxes(tickangle=45, row=1, col=i)\n",
    "    \n",
    "    fig.show()\n",
    "    \n",
    "    print(\"🎯 Recruiting priority heatmap created!\")\n",
    "    print(\"\\n📋 Quick Reference:\")\n",
    "    print(\"  🔴 RED = High Priority/High Need\")\n",
    "    print(\"  🟡 YELLOW = Medium Priority\") \n",
    "    print(\"  🟢 GREEN = Low Priority/Strong Position\")"
   ]
  },
  {
   "cell_type": "code",
   "execution_count": 10,
   "id": "78723c53",
   "metadata": {},
   "outputs": [
    {
     "data": {
      "application/vnd.plotly.v1+json": {
       "config": {
        "plotlyServerURL": "https://plot.ly"
       },
       "data": [
        {
         "marker": {
          "color": "lightcoral"
         },
         "name": "Players by Year",
         "type": "bar",
         "x": [
          "FR",
          "SO",
          "JR",
          "SR",
          "FR (RS)",
          "SO (RS)",
          "JR (RS)",
          "SR (RS)"
         ],
         "xaxis": "x",
         "y": {
          "bdata": "DQMHAgMVERM=",
          "dtype": "i1"
         },
         "yaxis": "y"
        },
        {
         "marker": {
          "opacity": 0.7,
          "size": 8
         },
         "mode": "markers",
         "name": "QB",
         "type": "scatter",
         "x": [
          "SO (RS)",
          "FR",
          "JR (RS)",
          "FR (RS)"
         ],
         "xaxis": "x2",
         "y": [
          "QB",
          "QB",
          "QB",
          "QB"
         ],
         "yaxis": "y2"
        },
        {
         "marker": {
          "opacity": 0.7,
          "size": 8
         },
         "mode": "markers",
         "name": "HB",
         "type": "scatter",
         "x": [
          "JR (RS)",
          "JR (RS)",
          "SO (RS)",
          "SO",
          "FR",
          "FR"
         ],
         "xaxis": "x2",
         "y": [
          "HB",
          "HB",
          "HB",
          "HB",
          "HB",
          "HB"
         ],
         "yaxis": "y2"
        },
        {
         "marker": {
          "opacity": 0.7,
          "size": 8
         },
         "mode": "markers",
         "name": "WR",
         "type": "scatter",
         "x": [
          "SO (RS)",
          "SR (RS)",
          "JR (RS)",
          "JR (RS)",
          "SO (RS)",
          "SR (RS)",
          "SO (RS)",
          "SO (RS)"
         ],
         "xaxis": "x2",
         "y": [
          "WR",
          "WR",
          "WR",
          "WR",
          "WR",
          "WR",
          "WR",
          "WR"
         ],
         "yaxis": "y2"
        },
        {
         "marker": {
          "opacity": 0.7,
          "size": 8
         },
         "mode": "markers",
         "name": "TE",
         "type": "scatter",
         "x": [
          "SR",
          "FR",
          "SO (RS)",
          "JR"
         ],
         "xaxis": "x2",
         "y": [
          "TE",
          "TE",
          "TE",
          "TE"
         ],
         "yaxis": "y2"
        },
        {
         "marker": {
          "opacity": 0.7,
          "size": 8
         },
         "mode": "markers",
         "name": "LT",
         "type": "scatter",
         "x": [
          "SR (RS)",
          "SO (RS)",
          "JR",
          "FR"
         ],
         "xaxis": "x2",
         "y": [
          "LT",
          "LT",
          "LT",
          "LT"
         ],
         "yaxis": "y2"
        },
        {
         "marker": {
          "opacity": 0.7,
          "size": 8
         },
         "mode": "markers",
         "name": "LG",
         "type": "scatter",
         "x": [
          "SR (RS)",
          "SO",
          "FR",
          "JR (RS)"
         ],
         "xaxis": "x2",
         "y": [
          "LG",
          "LG",
          "LG",
          "LG"
         ],
         "yaxis": "y2"
        },
        {
         "marker": {
          "opacity": 0.7,
          "size": 8
         },
         "mode": "markers",
         "name": "RG",
         "type": "scatter",
         "x": [
          "SR (RS)",
          "SO (RS)",
          "JR",
          "SO (RS)",
          "FR"
         ],
         "xaxis": "x2",
         "y": [
          "RG",
          "RG",
          "RG",
          "RG",
          "RG"
         ],
         "yaxis": "y2"
        },
        {
         "marker": {
          "opacity": 0.7,
          "size": 8
         },
         "mode": "markers",
         "name": "RT",
         "type": "scatter",
         "x": [
          "SO (RS)",
          "SO (RS)",
          "SO (RS)"
         ],
         "xaxis": "x2",
         "y": [
          "RT",
          "RT",
          "RT"
         ],
         "yaxis": "y2"
        },
        {
         "marker": {
          "color": "lightgreen"
         },
         "name": "Avg Value by Year",
         "type": "bar",
         "x": [
          "FR",
          "SO",
          "JR",
          "SR",
          "FR (RS)",
          "SO (RS)",
          "JR (RS)",
          "SR (RS)"
         ],
         "xaxis": "x3",
         "y": {
          "bdata": "NRlgzrKpXEAAAAAAAGBYQJIkSZIkeVVAAAAAAACgUkBwPQrXo3BdQLFuUX07PlhAuewfU4aJVUAPmeyrk8pRQA==",
          "dtype": "f8"
         },
         "yaxis": "y3"
        },
        {
         "marker": {
          "color": "gold"
         },
         "name": "Next Season Projection",
         "type": "bar",
         "x": [
          "QB",
          "HB",
          "WR",
          "TE",
          "LT",
          "LG",
          "C",
          "RG",
          "RT",
          "LE",
          "RE",
          "DT",
          "LOLB",
          "MLB",
          "ROLB",
          "CB",
          "FS",
          "SS",
          "K",
          "P",
          "ATH"
         ],
         "xaxis": "x4",
         "y": {
          "bdata": "BAYGAwMDAAQDAAAEAAAABQIBAQAA",
          "dtype": "i1"
         },
         "yaxis": "y4"
        }
       ],
       "layout": {
        "annotations": [
         {
          "font": {
           "size": 16
          },
          "showarrow": false,
          "text": "Current Year Distribution",
          "x": 0.225,
          "xanchor": "center",
          "xref": "paper",
          "y": 1,
          "yanchor": "bottom",
          "yref": "paper"
         },
         {
          "font": {
           "size": 16
          },
          "showarrow": false,
          "text": "Position by Year Class",
          "x": 0.775,
          "xanchor": "center",
          "xref": "paper",
          "y": 1,
          "yanchor": "bottom",
          "yref": "paper"
         },
         {
          "font": {
           "size": 16
          },
          "showarrow": false,
          "text": "Development Potential by Year",
          "x": 0.225,
          "xanchor": "center",
          "xref": "paper",
          "y": 0.375,
          "yanchor": "bottom",
          "yref": "paper"
         },
         {
          "font": {
           "size": 16
          },
          "showarrow": false,
          "text": "Future Roster Projection",
          "x": 0.775,
          "xanchor": "center",
          "xref": "paper",
          "y": 0.375,
          "yanchor": "bottom",
          "yref": "paper"
         }
        ],
        "height": 800,
        "showlegend": false,
        "template": {
         "data": {
          "bar": [
           {
            "error_x": {
             "color": "#2a3f5f"
            },
            "error_y": {
             "color": "#2a3f5f"
            },
            "marker": {
             "line": {
              "color": "#E5ECF6",
              "width": 0.5
             },
             "pattern": {
              "fillmode": "overlay",
              "size": 10,
              "solidity": 0.2
             }
            },
            "type": "bar"
           }
          ],
          "barpolar": [
           {
            "marker": {
             "line": {
              "color": "#E5ECF6",
              "width": 0.5
             },
             "pattern": {
              "fillmode": "overlay",
              "size": 10,
              "solidity": 0.2
             }
            },
            "type": "barpolar"
           }
          ],
          "carpet": [
           {
            "aaxis": {
             "endlinecolor": "#2a3f5f",
             "gridcolor": "white",
             "linecolor": "white",
             "minorgridcolor": "white",
             "startlinecolor": "#2a3f5f"
            },
            "baxis": {
             "endlinecolor": "#2a3f5f",
             "gridcolor": "white",
             "linecolor": "white",
             "minorgridcolor": "white",
             "startlinecolor": "#2a3f5f"
            },
            "type": "carpet"
           }
          ],
          "choropleth": [
           {
            "colorbar": {
             "outlinewidth": 0,
             "ticks": ""
            },
            "type": "choropleth"
           }
          ],
          "contour": [
           {
            "colorbar": {
             "outlinewidth": 0,
             "ticks": ""
            },
            "colorscale": [
             [
              0,
              "#0d0887"
             ],
             [
              0.1111111111111111,
              "#46039f"
             ],
             [
              0.2222222222222222,
              "#7201a8"
             ],
             [
              0.3333333333333333,
              "#9c179e"
             ],
             [
              0.4444444444444444,
              "#bd3786"
             ],
             [
              0.5555555555555556,
              "#d8576b"
             ],
             [
              0.6666666666666666,
              "#ed7953"
             ],
             [
              0.7777777777777778,
              "#fb9f3a"
             ],
             [
              0.8888888888888888,
              "#fdca26"
             ],
             [
              1,
              "#f0f921"
             ]
            ],
            "type": "contour"
           }
          ],
          "contourcarpet": [
           {
            "colorbar": {
             "outlinewidth": 0,
             "ticks": ""
            },
            "type": "contourcarpet"
           }
          ],
          "heatmap": [
           {
            "colorbar": {
             "outlinewidth": 0,
             "ticks": ""
            },
            "colorscale": [
             [
              0,
              "#0d0887"
             ],
             [
              0.1111111111111111,
              "#46039f"
             ],
             [
              0.2222222222222222,
              "#7201a8"
             ],
             [
              0.3333333333333333,
              "#9c179e"
             ],
             [
              0.4444444444444444,
              "#bd3786"
             ],
             [
              0.5555555555555556,
              "#d8576b"
             ],
             [
              0.6666666666666666,
              "#ed7953"
             ],
             [
              0.7777777777777778,
              "#fb9f3a"
             ],
             [
              0.8888888888888888,
              "#fdca26"
             ],
             [
              1,
              "#f0f921"
             ]
            ],
            "type": "heatmap"
           }
          ],
          "histogram": [
           {
            "marker": {
             "pattern": {
              "fillmode": "overlay",
              "size": 10,
              "solidity": 0.2
             }
            },
            "type": "histogram"
           }
          ],
          "histogram2d": [
           {
            "colorbar": {
             "outlinewidth": 0,
             "ticks": ""
            },
            "colorscale": [
             [
              0,
              "#0d0887"
             ],
             [
              0.1111111111111111,
              "#46039f"
             ],
             [
              0.2222222222222222,
              "#7201a8"
             ],
             [
              0.3333333333333333,
              "#9c179e"
             ],
             [
              0.4444444444444444,
              "#bd3786"
             ],
             [
              0.5555555555555556,
              "#d8576b"
             ],
             [
              0.6666666666666666,
              "#ed7953"
             ],
             [
              0.7777777777777778,
              "#fb9f3a"
             ],
             [
              0.8888888888888888,
              "#fdca26"
             ],
             [
              1,
              "#f0f921"
             ]
            ],
            "type": "histogram2d"
           }
          ],
          "histogram2dcontour": [
           {
            "colorbar": {
             "outlinewidth": 0,
             "ticks": ""
            },
            "colorscale": [
             [
              0,
              "#0d0887"
             ],
             [
              0.1111111111111111,
              "#46039f"
             ],
             [
              0.2222222222222222,
              "#7201a8"
             ],
             [
              0.3333333333333333,
              "#9c179e"
             ],
             [
              0.4444444444444444,
              "#bd3786"
             ],
             [
              0.5555555555555556,
              "#d8576b"
             ],
             [
              0.6666666666666666,
              "#ed7953"
             ],
             [
              0.7777777777777778,
              "#fb9f3a"
             ],
             [
              0.8888888888888888,
              "#fdca26"
             ],
             [
              1,
              "#f0f921"
             ]
            ],
            "type": "histogram2dcontour"
           }
          ],
          "mesh3d": [
           {
            "colorbar": {
             "outlinewidth": 0,
             "ticks": ""
            },
            "type": "mesh3d"
           }
          ],
          "parcoords": [
           {
            "line": {
             "colorbar": {
              "outlinewidth": 0,
              "ticks": ""
             }
            },
            "type": "parcoords"
           }
          ],
          "pie": [
           {
            "automargin": true,
            "type": "pie"
           }
          ],
          "scatter": [
           {
            "fillpattern": {
             "fillmode": "overlay",
             "size": 10,
             "solidity": 0.2
            },
            "type": "scatter"
           }
          ],
          "scatter3d": [
           {
            "line": {
             "colorbar": {
              "outlinewidth": 0,
              "ticks": ""
             }
            },
            "marker": {
             "colorbar": {
              "outlinewidth": 0,
              "ticks": ""
             }
            },
            "type": "scatter3d"
           }
          ],
          "scattercarpet": [
           {
            "marker": {
             "colorbar": {
              "outlinewidth": 0,
              "ticks": ""
             }
            },
            "type": "scattercarpet"
           }
          ],
          "scattergeo": [
           {
            "marker": {
             "colorbar": {
              "outlinewidth": 0,
              "ticks": ""
             }
            },
            "type": "scattergeo"
           }
          ],
          "scattergl": [
           {
            "marker": {
             "colorbar": {
              "outlinewidth": 0,
              "ticks": ""
             }
            },
            "type": "scattergl"
           }
          ],
          "scattermap": [
           {
            "marker": {
             "colorbar": {
              "outlinewidth": 0,
              "ticks": ""
             }
            },
            "type": "scattermap"
           }
          ],
          "scattermapbox": [
           {
            "marker": {
             "colorbar": {
              "outlinewidth": 0,
              "ticks": ""
             }
            },
            "type": "scattermapbox"
           }
          ],
          "scatterpolar": [
           {
            "marker": {
             "colorbar": {
              "outlinewidth": 0,
              "ticks": ""
             }
            },
            "type": "scatterpolar"
           }
          ],
          "scatterpolargl": [
           {
            "marker": {
             "colorbar": {
              "outlinewidth": 0,
              "ticks": ""
             }
            },
            "type": "scatterpolargl"
           }
          ],
          "scatterternary": [
           {
            "marker": {
             "colorbar": {
              "outlinewidth": 0,
              "ticks": ""
             }
            },
            "type": "scatterternary"
           }
          ],
          "surface": [
           {
            "colorbar": {
             "outlinewidth": 0,
             "ticks": ""
            },
            "colorscale": [
             [
              0,
              "#0d0887"
             ],
             [
              0.1111111111111111,
              "#46039f"
             ],
             [
              0.2222222222222222,
              "#7201a8"
             ],
             [
              0.3333333333333333,
              "#9c179e"
             ],
             [
              0.4444444444444444,
              "#bd3786"
             ],
             [
              0.5555555555555556,
              "#d8576b"
             ],
             [
              0.6666666666666666,
              "#ed7953"
             ],
             [
              0.7777777777777778,
              "#fb9f3a"
             ],
             [
              0.8888888888888888,
              "#fdca26"
             ],
             [
              1,
              "#f0f921"
             ]
            ],
            "type": "surface"
           }
          ],
          "table": [
           {
            "cells": {
             "fill": {
              "color": "#EBF0F8"
             },
             "line": {
              "color": "white"
             }
            },
            "header": {
             "fill": {
              "color": "#C8D4E3"
             },
             "line": {
              "color": "white"
             }
            },
            "type": "table"
           }
          ]
         },
         "layout": {
          "annotationdefaults": {
           "arrowcolor": "#2a3f5f",
           "arrowhead": 0,
           "arrowwidth": 1
          },
          "autotypenumbers": "strict",
          "coloraxis": {
           "colorbar": {
            "outlinewidth": 0,
            "ticks": ""
           }
          },
          "colorscale": {
           "diverging": [
            [
             0,
             "#8e0152"
            ],
            [
             0.1,
             "#c51b7d"
            ],
            [
             0.2,
             "#de77ae"
            ],
            [
             0.3,
             "#f1b6da"
            ],
            [
             0.4,
             "#fde0ef"
            ],
            [
             0.5,
             "#f7f7f7"
            ],
            [
             0.6,
             "#e6f5d0"
            ],
            [
             0.7,
             "#b8e186"
            ],
            [
             0.8,
             "#7fbc41"
            ],
            [
             0.9,
             "#4d9221"
            ],
            [
             1,
             "#276419"
            ]
           ],
           "sequential": [
            [
             0,
             "#0d0887"
            ],
            [
             0.1111111111111111,
             "#46039f"
            ],
            [
             0.2222222222222222,
             "#7201a8"
            ],
            [
             0.3333333333333333,
             "#9c179e"
            ],
            [
             0.4444444444444444,
             "#bd3786"
            ],
            [
             0.5555555555555556,
             "#d8576b"
            ],
            [
             0.6666666666666666,
             "#ed7953"
            ],
            [
             0.7777777777777778,
             "#fb9f3a"
            ],
            [
             0.8888888888888888,
             "#fdca26"
            ],
            [
             1,
             "#f0f921"
            ]
           ],
           "sequentialminus": [
            [
             0,
             "#0d0887"
            ],
            [
             0.1111111111111111,
             "#46039f"
            ],
            [
             0.2222222222222222,
             "#7201a8"
            ],
            [
             0.3333333333333333,
             "#9c179e"
            ],
            [
             0.4444444444444444,
             "#bd3786"
            ],
            [
             0.5555555555555556,
             "#d8576b"
            ],
            [
             0.6666666666666666,
             "#ed7953"
            ],
            [
             0.7777777777777778,
             "#fb9f3a"
            ],
            [
             0.8888888888888888,
             "#fdca26"
            ],
            [
             1,
             "#f0f921"
            ]
           ]
          },
          "colorway": [
           "#636efa",
           "#EF553B",
           "#00cc96",
           "#ab63fa",
           "#FFA15A",
           "#19d3f3",
           "#FF6692",
           "#B6E880",
           "#FF97FF",
           "#FECB52"
          ],
          "font": {
           "color": "#2a3f5f"
          },
          "geo": {
           "bgcolor": "white",
           "lakecolor": "white",
           "landcolor": "#E5ECF6",
           "showlakes": true,
           "showland": true,
           "subunitcolor": "white"
          },
          "hoverlabel": {
           "align": "left"
          },
          "hovermode": "closest",
          "mapbox": {
           "style": "light"
          },
          "paper_bgcolor": "white",
          "plot_bgcolor": "#E5ECF6",
          "polar": {
           "angularaxis": {
            "gridcolor": "white",
            "linecolor": "white",
            "ticks": ""
           },
           "bgcolor": "#E5ECF6",
           "radialaxis": {
            "gridcolor": "white",
            "linecolor": "white",
            "ticks": ""
           }
          },
          "scene": {
           "xaxis": {
            "backgroundcolor": "#E5ECF6",
            "gridcolor": "white",
            "gridwidth": 2,
            "linecolor": "white",
            "showbackground": true,
            "ticks": "",
            "zerolinecolor": "white"
           },
           "yaxis": {
            "backgroundcolor": "#E5ECF6",
            "gridcolor": "white",
            "gridwidth": 2,
            "linecolor": "white",
            "showbackground": true,
            "ticks": "",
            "zerolinecolor": "white"
           },
           "zaxis": {
            "backgroundcolor": "#E5ECF6",
            "gridcolor": "white",
            "gridwidth": 2,
            "linecolor": "white",
            "showbackground": true,
            "ticks": "",
            "zerolinecolor": "white"
           }
          },
          "shapedefaults": {
           "line": {
            "color": "#2a3f5f"
           }
          },
          "ternary": {
           "aaxis": {
            "gridcolor": "white",
            "linecolor": "white",
            "ticks": ""
           },
           "baxis": {
            "gridcolor": "white",
            "linecolor": "white",
            "ticks": ""
           },
           "bgcolor": "#E5ECF6",
           "caxis": {
            "gridcolor": "white",
            "linecolor": "white",
            "ticks": ""
           }
          },
          "title": {
           "x": 0.05
          },
          "xaxis": {
           "automargin": true,
           "gridcolor": "white",
           "linecolor": "white",
           "ticks": "",
           "title": {
            "standoff": 15
           },
           "zerolinecolor": "white",
           "zerolinewidth": 2
          },
          "yaxis": {
           "automargin": true,
           "gridcolor": "white",
           "linecolor": "white",
           "ticks": "",
           "title": {
            "standoff": 15
           },
           "zerolinecolor": "white",
           "zerolinewidth": 2
          }
         }
        },
        "title": {
         "text": "📅 Year Class Analysis & Future Outlook"
        },
        "xaxis": {
         "anchor": "y",
         "domain": [
          0,
          0.45
         ],
         "title": {
          "text": "Year"
         }
        },
        "xaxis2": {
         "anchor": "y2",
         "domain": [
          0.55,
          1
         ],
         "title": {
          "text": "Year"
         }
        },
        "xaxis3": {
         "anchor": "y3",
         "domain": [
          0,
          0.45
         ],
         "title": {
          "text": "Year"
         }
        },
        "xaxis4": {
         "anchor": "y4",
         "domain": [
          0.55,
          1
         ],
         "tickangle": 45,
         "title": {
          "text": "Position"
         }
        },
        "yaxis": {
         "anchor": "x",
         "domain": [
          0.625,
          1
         ],
         "title": {
          "text": "Player Count"
         }
        },
        "yaxis2": {
         "anchor": "x2",
         "domain": [
          0.625,
          1
         ],
         "title": {
          "text": "Position"
         }
        },
        "yaxis3": {
         "anchor": "x3",
         "domain": [
          0,
          0.375
         ],
         "title": {
          "text": "Average Value"
         }
        },
        "yaxis4": {
         "anchor": "x4",
         "domain": [
          0,
          0.375
         ],
         "title": {
          "text": "Player Count"
         }
        }
       }
      }
     },
     "metadata": {},
     "output_type": "display_data"
    },
    {
     "name": "stdout",
     "output_type": "stream",
     "text": [
      "📅 Year Class Insights:\n",
      "  • 21 players graduating (24.7% of roster)\n",
      "  • 64 players returning next season\n",
      "  • Positions losing most players: CB, DT, WR\n"
     ]
    }
   ],
   "source": [
    "# 4. Year Class Distribution and Future Outlook\n",
    "if roster_df is not None:\n",
    "    # Create year class analysis\n",
    "    year_order = ['FR', 'SO', 'JR', 'SR', 'FR (RS)', 'SO (RS)', 'JR (RS)', 'SR (RS)']\n",
    "    \n",
    "    fig = make_subplots(\n",
    "        rows=2, cols=2,\n",
    "        subplot_titles=('Current Year Distribution', 'Position by Year Class', \n",
    "                       'Development Potential by Year', 'Future Roster Projection'),\n",
    "        specs=[[{\"type\": \"bar\"}, {\"type\": \"scatter\"}],\n",
    "               [{\"type\": \"bar\"}, {\"type\": \"bar\"}]]\n",
    "    )\n",
    "    \n",
    "    # Year distribution\n",
    "    year_counts = roster_df['YEAR'].value_counts().reindex(year_order).fillna(0)\n",
    "    fig.add_trace(\n",
    "        go.Bar(x=year_counts.index, y=year_counts.values, \n",
    "               name=\"Players by Year\", marker_color='lightcoral'),\n",
    "        row=1, col=1\n",
    "    )\n",
    "    \n",
    "    # Position by year (scatter plot)\n",
    "    for pos in position_order[:10]:  # Show top 10 positions to avoid clutter\n",
    "        pos_data = roster_df[roster_df['POSITION'] == pos]\n",
    "        if len(pos_data) > 0:\n",
    "            fig.add_trace(\n",
    "                go.Scatter(x=pos_data['YEAR'], y=[pos] * len(pos_data),\n",
    "                          mode='markers', name=pos, \n",
    "                          marker=dict(size=8, opacity=0.7)),\n",
    "                row=1, col=2\n",
    "            )\n",
    "    \n",
    "    # Development potential by year\n",
    "    year_dev_potential = roster_df.groupby('YEAR')['VALUE'].mean().reindex(year_order).fillna(0)\n",
    "    fig.add_trace(\n",
    "        go.Bar(x=year_dev_potential.index, y=year_dev_potential.values,\n",
    "               name=\"Avg Value by Year\", marker_color='lightgreen'),\n",
    "        row=2, col=1\n",
    "    )\n",
    "    \n",
    "    # Future projection (non-graduating players)\n",
    "    future_roster = roster_df[roster_df['STATUS'] != 'GRADUATING']\n",
    "    future_counts = future_roster['POSITION'].value_counts().reindex(position_order).fillna(0)\n",
    "    fig.add_trace(\n",
    "        go.Bar(x=future_counts.index, y=future_counts.values,\n",
    "               name=\"Next Season Projection\", marker_color='gold'),\n",
    "        row=2, col=2\n",
    "    )\n",
    "    \n",
    "    fig.update_layout(height=800, title_text=\"📅 Year Class Analysis & Future Outlook\", showlegend=False)\n",
    "    fig.update_xaxes(title_text=\"Year\", row=1, col=1)\n",
    "    fig.update_yaxes(title_text=\"Player Count\", row=1, col=1)\n",
    "    fig.update_xaxes(title_text=\"Year\", row=1, col=2)\n",
    "    fig.update_yaxes(title_text=\"Position\", row=1, col=2)\n",
    "    fig.update_xaxes(title_text=\"Year\", row=2, col=1)\n",
    "    fig.update_yaxes(title_text=\"Average Value\", row=2, col=1)\n",
    "    fig.update_xaxes(title_text=\"Position\", row=2, col=2, tickangle=45)\n",
    "    fig.update_yaxes(title_text=\"Player Count\", row=2, col=2)\n",
    "    \n",
    "    fig.show()\n",
    "    \n",
    "    # Print year class insights\n",
    "    print(\"📅 Year Class Insights:\")\n",
    "    graduating = len(roster_df[roster_df['STATUS'] == 'GRADUATING'])\n",
    "    total_players = len(roster_df)\n",
    "    print(f\"  • {graduating} players graduating ({graduating/total_players*100:.1f}% of roster)\")\n",
    "    print(f\"  • {len(future_roster)} players returning next season\")\n",
    "    \n",
    "    # Show positions most affected by graduation\n",
    "    grad_by_pos = roster_df[roster_df['STATUS'] == 'GRADUATING']['POSITION'].value_counts()\n",
    "    if len(grad_by_pos) > 0:\n",
    "        print(f\"  • Positions losing most players: {', '.join(grad_by_pos.head(3).index.tolist())}\")"
   ]
  },
  {
   "cell_type": "code",
   "execution_count": null,
   "id": "14e58a8e",
   "metadata": {},
   "outputs": [],
   "source": [
    "# 6. Geographic Heatmap - Player Distribution by Location\n",
    "# This cell demonstrates how to create a US geographic heatmap if you have CITY and STATE columns\n",
    "\n",
    "def create_geographic_heatmap(df):\n",
    "    \"\"\"Create a geographic heatmap showing player distribution across the US.\"\"\"\n",
    "    \n",
    "    # Check if geographic columns exist\n",
    "    if 'CITY' not in df.columns or 'STATE' not in df.columns:\n",
    "        print(\"⚠️  Geographic heatmap requires 'CITY' and 'STATE' columns in your data\")\n",
    "        print(\"📝 Sample data structure needed:\")\n",
    "        print(\"   FIRST NAME | LAST NAME | POSITION | CITY        | STATE\")\n",
    "        print(\"   John       | Smith     | QB       | Atlanta     | GA\")\n",
    "        print(\"   Mike       | Johnson   | RB       | Dallas      | TX\")\n",
    "        return None\n",
    "    \n",
    "    try:\n",
    "        # Count players by state\n",
    "        state_counts = df['STATE'].value_counts().reset_index()\n",
    "        state_counts.columns = ['state', 'player_count']\n",
    "        \n",
    "        # Create choropleth map\n",
    "        fig = go.Figure(data=go.Choropleth(\n",
    "            locations=state_counts['state'],\n",
    "            z=state_counts['player_count'],\n",
    "            locationmode='USA-states',\n",
    "            colorscale='Reds',\n",
    "            text=state_counts['state'],\n",
    "            marker_line_color='white',\n",
    "            colorbar_title=\"Players\"\n",
    "        ))\n",
    "        \n",
    "        fig.update_layout(\n",
    "            title='🗺️ Player Geographic Distribution - US Heatmap',\n",
    "            geo=dict(\n",
    "                scope='usa',\n",
    "                projection=go.layout.geo.Projection(type='albers usa'),\n",
    "                showlakes=True,\n",
    "                lakecolor='rgb(255, 255, 255)'\n",
    "            ),\n",
    "            height=600\n",
    "        )\n",
    "        \n",
    "        fig.show()\n",
    "        \n",
    "        # Create city-level scatter plot\n",
    "        if df['CITY'].notna().sum() > 0:\n",
    "            # For this demo, we'll use a scatter plot since we'd need lat/lon coordinates for actual city mapping\n",
    "            city_state_counts = df.groupby(['CITY', 'STATE']).size().reset_index(name='player_count')\n",
    "            city_state_counts = city_state_counts.sort_values('player_count', ascending=False).head(20)\n",
    "            \n",
    "            fig2 = px.bar(\n",
    "                city_state_counts.head(15),\n",
    "                x='player_count',\n",
    "                y=[f\"{row['CITY']}, {row['STATE']}\" for _, row in city_state_counts.head(15).iterrows()],\n",
    "                orientation='h',\n",
    "                title='🏙️ Top 15 Cities by Player Count',\n",
    "                labels={'player_count': 'Number of Players', 'y': 'City, State'}\n",
    "            )\n",
    "            \n",
    "            fig2.update_layout(height=500, yaxis={'categoryorder': 'total ascending'})\n",
    "            fig2.show()\n",
    "        \n",
    "        # Print summary statistics\n",
    "        print(\"🗺️ Geographic Distribution Summary:\")\n",
    "        print(f\"  • Total States Represented: {df['STATE'].nunique()}\")\n",
    "        print(f\"  • Total Cities Represented: {df['CITY'].nunique()}\")\n",
    "        print(f\"  • Top 5 States by Player Count:\")\n",
    "        \n",
    "        top_states = df['STATE'].value_counts().head(5)\n",
    "        for state, count in top_states.items():\n",
    "            print(f\"    - {state}: {count} players\")\n",
    "            \n",
    "        return fig\n",
    "        \n",
    "    except Exception as e:\n",
    "        print(f\"❌ Error creating geographic heatmap: {e}\")\n",
    "        return None\n",
    "\n",
    "def create_recruiting_territory_map(df):\n",
    "    \"\"\"Create a map showing recruiting territories and success by region.\"\"\"\n",
    "    \n",
    "    if 'CITY' not in df.columns or 'STATE' not in df.columns:\n",
    "        print(\"⚠️  Recruiting territory map requires 'CITY' and 'STATE' columns\")\n",
    "        return None\n",
    "    \n",
    "    try:\n",
    "        # Calculate recruiting metrics by state\n",
    "        state_metrics = df.groupby('STATE').agg({\n",
    "            'VALUE': ['count', 'mean', 'max'],\n",
    "            'DEV TRAIT': lambda x: (x == 'ELITE').sum() + (x == 'STAR').sum()\n",
    "        }).round(2)\n",
    "        \n",
    "        state_metrics.columns = ['player_count', 'avg_value', 'max_value', 'elite_star_count']\n",
    "        state_metrics = state_metrics.reset_index()\n",
    "        \n",
    "        # Create recruiting success heatmap\n",
    "        fig = go.Figure(data=go.Choropleth(\n",
    "            locations=state_metrics['STATE'],\n",
    "            z=state_metrics['avg_value'],\n",
    "            locationmode='USA-states',\n",
    "            colorscale='RdYlGn',\n",
    "            text=[f\"{state}<br>Avg Value: {avg_val}<br>Players: {count}<br>Elite/Star: {elite}\" \n",
    "                  for state, avg_val, count, elite in zip(\n",
    "                      state_metrics['STATE'], \n",
    "                      state_metrics['avg_value'],\n",
    "                      state_metrics['player_count'],\n",
    "                      state_metrics['elite_star_count']\n",
    "                  )],\n",
    "            hovertemplate='%{text}<extra></extra>',\n",
    "            marker_line_color='white',\n",
    "            colorbar_title=\"Avg Player Value\"\n",
    "        ))\n",
    "        \n",
    "        fig.update_layout(\n",
    "            title='🎯 Recruiting Territory Success Map - Average Player Value by State',\n",
    "            geo=dict(\n",
    "                scope='usa',\n",
    "                projection=go.layout.geo.Projection(type='albers usa'),\n",
    "                showlakes=True,\n",
    "                lakecolor='rgb(255, 255, 255)'\n",
    "            ),\n",
    "            height=600\n",
    "        )\n",
    "        \n",
    "        fig.show()\n",
    "        \n",
    "        print(\"🎯 Recruiting Territory Analysis:\")\n",
    "        print(f\"  • Best Recruiting State (Avg Value): {state_metrics.loc[state_metrics['avg_value'].idxmax(), 'STATE']}\")\n",
    "        print(f\"  • Most Players from: {state_metrics.loc[state_metrics['player_count'].idxmax(), 'STATE']}\")\n",
    "        print(f\"  • Most Elite/Star Players from: {state_metrics.loc[state_metrics['elite_star_count'].idxmax(), 'STATE']}\")\n",
    "        \n",
    "        return fig\n",
    "        \n",
    "    except Exception as e:\n",
    "        print(f\"❌ Error creating recruiting territory map: {e}\")\n",
    "        return None\n",
    "\n",
    "# Example usage with sample data (if geographic columns exist)\n",
    "if roster_df is not None:\n",
    "    # Check if geographic data exists\n",
    "    has_geographic_data = 'CITY' in roster_df.columns and 'STATE' in roster_df.columns\n",
    "    \n",
    "    if has_geographic_data:\n",
    "        print(\"✅ Geographic data found! Creating heatmaps...\")\n",
    "        create_geographic_heatmap(roster_df)\n",
    "        create_recruiting_territory_map(roster_df)\n",
    "    else:\n",
    "        print(\"📊 Geographic Heatmap Demo\")\n",
    "        print(\"🗺️ To enable geographic visualization, add these columns to your roster CSV:\")\n",
    "        print(\"   • CITY - Player's hometown city\")\n",
    "        print(\"   • STATE - Player's home state (use 2-letter abbreviations: TX, CA, FL, etc.)\")\n",
    "        print()\n",
    "        print(\"📝 Example data structure:\")\n",
    "        sample_data = pd.DataFrame({\n",
    "            'FIRST NAME': ['John', 'Mike', 'David', 'Chris', 'Alex'],\n",
    "            'LAST NAME': ['Smith', 'Johnson', 'Williams', 'Brown', 'Davis'],\n",
    "            'POSITION': ['QB', 'RB', 'WR', 'LB', 'CB'],\n",
    "            'CITY': ['Atlanta', 'Dallas', 'Miami', 'Houston', 'Los Angeles'],\n",
    "            'STATE': ['GA', 'TX', 'FL', 'TX', 'CA'],\n",
    "            'VALUE': [145.2, 132.1, 128.5, 142.8, 139.4],\n",
    "            'DEV TRAIT': ['ELITE', 'STAR', 'IMPACT', 'STAR', 'ELITE']\n",
    "        })\n",
    "        print(sample_data.to_string(index=False))\n",
    "        print()\n",
    "        print(\"🔧 Once you have this data, the geographic heatmaps will automatically generate!\")\n",
    "        print(\"📍 Features include:\")\n",
    "        print(\"   • US State heatmap showing player distribution\")\n",
    "        print(\"   • Top cities by player count\")\n",
    "        print(\"   • Recruiting territory success analysis\")\n",
    "        print(\"   • Average player value by state\")"
   ]
  },
  {
   "cell_type": "code",
   "execution_count": 11,
   "id": "a5aba76a",
   "metadata": {},
   "outputs": [
    {
     "ename": "KeyError",
     "evalue": "\"['RATING'] not in index\"",
     "output_type": "error",
     "traceback": [
      "\u001b[31m---------------------------------------------------------------------------\u001b[39m",
      "\u001b[31mKeyError\u001b[39m                                  Traceback (most recent call last)",
      "\u001b[36mCell\u001b[39m\u001b[36m \u001b[39m\u001b[32mIn[11]\u001b[39m\u001b[32m, line 38\u001b[39m\n\u001b[32m     30\u001b[39m     fig.add_trace(\n\u001b[32m     31\u001b[39m         go.Scatter(x=trait_data[\u001b[33m'\u001b[39m\u001b[33mBASE OVERALL\u001b[39m\u001b[33m'\u001b[39m], y=trait_data[\u001b[33m'\u001b[39m\u001b[33mVALUE\u001b[39m\u001b[33m'\u001b[39m],\n\u001b[32m     32\u001b[39m                   mode=\u001b[33m'\u001b[39m\u001b[33mmarkers\u001b[39m\u001b[33m'\u001b[39m, name=trait,\n\u001b[32m     33\u001b[39m                   marker=\u001b[38;5;28mdict\u001b[39m(color=dev_trait_colors.get(trait, \u001b[33m'\u001b[39m\u001b[33m#808080\u001b[39m\u001b[33m'\u001b[39m), size=\u001b[32m8\u001b[39m)),\n\u001b[32m     34\u001b[39m         row=\u001b[32m1\u001b[39m, col=\u001b[32m2\u001b[39m\n\u001b[32m     35\u001b[39m     )\n\u001b[32m     37\u001b[39m \u001b[38;5;66;03m# Cut candidates table\u001b[39;00m\n\u001b[32m---> \u001b[39m\u001b[32m38\u001b[39m cut_candidates = \u001b[43mroster_df\u001b[49m\u001b[43m[\u001b[49m\u001b[43mroster_df\u001b[49m\u001b[43m[\u001b[49m\u001b[33;43m'\u001b[39;49m\u001b[33;43mSTATUS\u001b[39;49m\u001b[33;43m'\u001b[39;49m\u001b[43m]\u001b[49m\u001b[43m \u001b[49m\u001b[43m==\u001b[49m\u001b[43m \u001b[49m\u001b[33;43m'\u001b[39;49m\u001b[33;43mCUT\u001b[39;49m\u001b[33;43m'\u001b[39;49m\u001b[43m]\u001b[49m\u001b[43m[\u001b[49m\n\u001b[32m     39\u001b[39m \u001b[43m    \u001b[49m\u001b[43m[\u001b[49m\u001b[33;43m'\u001b[39;49m\u001b[33;43mFIRST NAME\u001b[39;49m\u001b[33;43m'\u001b[39;49m\u001b[43m,\u001b[49m\u001b[43m \u001b[49m\u001b[33;43m'\u001b[39;49m\u001b[33;43mLAST NAME\u001b[39;49m\u001b[33;43m'\u001b[39;49m\u001b[43m,\u001b[49m\u001b[43m \u001b[49m\u001b[33;43m'\u001b[39;49m\u001b[33;43mPOSITION\u001b[39;49m\u001b[33;43m'\u001b[39;49m\u001b[43m,\u001b[49m\u001b[43m \u001b[49m\u001b[33;43m'\u001b[39;49m\u001b[33;43mYEAR\u001b[39;49m\u001b[33;43m'\u001b[39;49m\u001b[43m,\u001b[49m\u001b[43m \u001b[49m\u001b[33;43m'\u001b[39;49m\u001b[33;43mRATING\u001b[39;49m\u001b[33;43m'\u001b[39;49m\u001b[43m,\u001b[49m\u001b[43m \u001b[49m\u001b[33;43m'\u001b[39;49m\u001b[33;43mVALUE\u001b[39;49m\u001b[33;43m'\u001b[39;49m\u001b[43m]\u001b[49m\n\u001b[32m     40\u001b[39m \u001b[43m\u001b[49m\u001b[43m]\u001b[49m.round(\u001b[32m1\u001b[39m)\n\u001b[32m     42\u001b[39m \u001b[38;5;28;01mif\u001b[39;00m \u001b[38;5;28mlen\u001b[39m(cut_candidates) > \u001b[32m0\u001b[39m:\n\u001b[32m     43\u001b[39m     fig.add_trace(\n\u001b[32m     44\u001b[39m         go.Table(\n\u001b[32m     45\u001b[39m             header=\u001b[38;5;28mdict\u001b[39m(values=\u001b[38;5;28mlist\u001b[39m(cut_candidates.columns), fill_color=\u001b[33m'\u001b[39m\u001b[33mlightcoral\u001b[39m\u001b[33m'\u001b[39m),\n\u001b[32m   (...)\u001b[39m\u001b[32m     49\u001b[39m         row=\u001b[32m2\u001b[39m, col=\u001b[32m1\u001b[39m\n\u001b[32m     50\u001b[39m     )\n",
      "\u001b[36mFile \u001b[39m\u001b[32m~/GitHub/CFB-Dynasty-Data/venv/lib/python3.13/site-packages/pandas/core/frame.py:4108\u001b[39m, in \u001b[36mDataFrame.__getitem__\u001b[39m\u001b[34m(self, key)\u001b[39m\n\u001b[32m   4106\u001b[39m     \u001b[38;5;28;01mif\u001b[39;00m is_iterator(key):\n\u001b[32m   4107\u001b[39m         key = \u001b[38;5;28mlist\u001b[39m(key)\n\u001b[32m-> \u001b[39m\u001b[32m4108\u001b[39m     indexer = \u001b[38;5;28;43mself\u001b[39;49m\u001b[43m.\u001b[49m\u001b[43mcolumns\u001b[49m\u001b[43m.\u001b[49m\u001b[43m_get_indexer_strict\u001b[49m\u001b[43m(\u001b[49m\u001b[43mkey\u001b[49m\u001b[43m,\u001b[49m\u001b[43m \u001b[49m\u001b[33;43m\"\u001b[39;49m\u001b[33;43mcolumns\u001b[39;49m\u001b[33;43m\"\u001b[39;49m\u001b[43m)\u001b[49m[\u001b[32m1\u001b[39m]\n\u001b[32m   4110\u001b[39m \u001b[38;5;66;03m# take() does not accept boolean indexers\u001b[39;00m\n\u001b[32m   4111\u001b[39m \u001b[38;5;28;01mif\u001b[39;00m \u001b[38;5;28mgetattr\u001b[39m(indexer, \u001b[33m\"\u001b[39m\u001b[33mdtype\u001b[39m\u001b[33m\"\u001b[39m, \u001b[38;5;28;01mNone\u001b[39;00m) == \u001b[38;5;28mbool\u001b[39m:\n",
      "\u001b[36mFile \u001b[39m\u001b[32m~/GitHub/CFB-Dynasty-Data/venv/lib/python3.13/site-packages/pandas/core/indexes/base.py:6200\u001b[39m, in \u001b[36mIndex._get_indexer_strict\u001b[39m\u001b[34m(self, key, axis_name)\u001b[39m\n\u001b[32m   6197\u001b[39m \u001b[38;5;28;01melse\u001b[39;00m:\n\u001b[32m   6198\u001b[39m     keyarr, indexer, new_indexer = \u001b[38;5;28mself\u001b[39m._reindex_non_unique(keyarr)\n\u001b[32m-> \u001b[39m\u001b[32m6200\u001b[39m \u001b[38;5;28;43mself\u001b[39;49m\u001b[43m.\u001b[49m\u001b[43m_raise_if_missing\u001b[49m\u001b[43m(\u001b[49m\u001b[43mkeyarr\u001b[49m\u001b[43m,\u001b[49m\u001b[43m \u001b[49m\u001b[43mindexer\u001b[49m\u001b[43m,\u001b[49m\u001b[43m \u001b[49m\u001b[43maxis_name\u001b[49m\u001b[43m)\u001b[49m\n\u001b[32m   6202\u001b[39m keyarr = \u001b[38;5;28mself\u001b[39m.take(indexer)\n\u001b[32m   6203\u001b[39m \u001b[38;5;28;01mif\u001b[39;00m \u001b[38;5;28misinstance\u001b[39m(key, Index):\n\u001b[32m   6204\u001b[39m     \u001b[38;5;66;03m# GH 42790 - Preserve name from an Index\u001b[39;00m\n",
      "\u001b[36mFile \u001b[39m\u001b[32m~/GitHub/CFB-Dynasty-Data/venv/lib/python3.13/site-packages/pandas/core/indexes/base.py:6252\u001b[39m, in \u001b[36mIndex._raise_if_missing\u001b[39m\u001b[34m(self, key, indexer, axis_name)\u001b[39m\n\u001b[32m   6249\u001b[39m     \u001b[38;5;28;01mraise\u001b[39;00m \u001b[38;5;167;01mKeyError\u001b[39;00m(\u001b[33mf\u001b[39m\u001b[33m\"\u001b[39m\u001b[33mNone of [\u001b[39m\u001b[38;5;132;01m{\u001b[39;00mkey\u001b[38;5;132;01m}\u001b[39;00m\u001b[33m] are in the [\u001b[39m\u001b[38;5;132;01m{\u001b[39;00maxis_name\u001b[38;5;132;01m}\u001b[39;00m\u001b[33m]\u001b[39m\u001b[33m\"\u001b[39m)\n\u001b[32m   6251\u001b[39m not_found = \u001b[38;5;28mlist\u001b[39m(ensure_index(key)[missing_mask.nonzero()[\u001b[32m0\u001b[39m]].unique())\n\u001b[32m-> \u001b[39m\u001b[32m6252\u001b[39m \u001b[38;5;28;01mraise\u001b[39;00m \u001b[38;5;167;01mKeyError\u001b[39;00m(\u001b[33mf\u001b[39m\u001b[33m\"\u001b[39m\u001b[38;5;132;01m{\u001b[39;00mnot_found\u001b[38;5;132;01m}\u001b[39;00m\u001b[33m not in index\u001b[39m\u001b[33m\"\u001b[39m)\n",
      "\u001b[31mKeyError\u001b[39m: \"['RATING'] not in index\""
     ]
    }
   ],
   "source": [
    "# 5. Top Performers and Cut Candidates Analysis\n",
    "if roster_df is not None:\n",
    "    # Create top performers vs cut candidates comparison\n",
    "    fig = make_subplots(\n",
    "        rows=2, cols=2,\n",
    "        subplot_titles=('Top 15 Players by Value', 'Development Trait vs Rating', \n",
    "                       'Cut Candidates', 'At-Risk Players'),\n",
    "        specs=[[{\"type\": \"bar\"}, {\"type\": \"scatter\"}],\n",
    "               [{\"type\": \"table\"}, {\"type\": \"table\"}]]\n",
    "    )\n",
    "    \n",
    "    # Top performers\n",
    "    top_players = roster_df.nlargest(15, 'VALUE')\n",
    "    player_names = top_players['FIRST NAME'] + ' ' + top_players['LAST NAME']\n",
    "    \n",
    "    fig.add_trace(\n",
    "        go.Bar(x=player_names, y=top_players['VALUE'],\n",
    "               name=\"Top Players\", \n",
    "               marker_color=top_players['VALUE'],\n",
    "               marker_colorscale='Viridis',\n",
    "               text=top_players['POSITION'],\n",
    "               textposition='auto'),\n",
    "        row=1, col=1\n",
    "    )\n",
    "    \n",
    "    # Development trait vs rating scatter\n",
    "    dev_trait_colors = {'ELITE': '#2E8B57', 'STAR': '#32CD32', 'IMPACT': '#FFD700', 'NORMAL': '#808080'}\n",
    "    for trait in roster_df['DEV TRAIT'].unique():\n",
    "        trait_data = roster_df[roster_df['DEV TRAIT'] == trait]\n",
    "        fig.add_trace(\n",
    "            go.Scatter(x=trait_data['BASE OVERALL'], y=trait_data['VALUE'],\n",
    "                      mode='markers', name=trait,\n",
    "                      marker=dict(color=dev_trait_colors.get(trait, '#808080'), size=8)),\n",
    "            row=1, col=2\n",
    "        )\n",
    "    \n",
    "    # Cut candidates table\n",
    "    cut_candidates = roster_df[roster_df['STATUS'] == 'CUT'][\n",
    "        ['FIRST NAME', 'LAST NAME', 'POSITION', 'YEAR', 'RATING', 'VALUE']\n",
    "    ].round(1)\n",
    "    \n",
    "    if len(cut_candidates) > 0:\n",
    "        fig.add_trace(\n",
    "            go.Table(\n",
    "                header=dict(values=list(cut_candidates.columns), fill_color='lightcoral'),\n",
    "                cells=dict(values=[cut_candidates[col] for col in cut_candidates.columns],\n",
    "                          fill_color='white')\n",
    "            ),\n",
    "            row=2, col=1\n",
    "        )\n",
    "    \n",
    "    # At-risk players table\n",
    "    at_risk = roster_df[roster_df['STATUS'] == 'AT RISK'][\n",
    "        ['FIRST NAME', 'LAST NAME', 'POSITION', 'YEAR', 'RATING', 'VALUE']\n",
    "    ].round(1)\n",
    "    \n",
    "    if len(at_risk) > 0:\n",
    "        fig.add_trace(\n",
    "            go.Table(\n",
    "                header=dict(values=list(at_risk.columns), fill_color='gold'),\n",
    "                cells=dict(values=[at_risk[col] for col in at_risk.columns],\n",
    "                          fill_color='white')\n",
    "            ),\n",
    "            row=2, col=2\n",
    "        )\n",
    "    \n",
    "    fig.update_layout(height=800, title_text=\"⭐ Player Performance Analysis\", showlegend=True)\n",
    "    fig.update_xaxes(title_text=\"Player\", row=1, col=1, tickangle=45)\n",
    "    fig.update_yaxes(title_text=\"Player Value\", row=1, col=1)\n",
    "    fig.update_xaxes(title_text=\"Base Overall\", row=1, col=2)\n",
    "    fig.update_yaxes(title_text=\"Player Value\", row=1, col=2)\n",
    "    \n",
    "    fig.show()\n",
    "    \n",
    "    # Print key insights\n",
    "    print(\"⭐ Performance Insights:\")\n",
    "    print(f\"  • Top Player: {roster_df.loc[roster_df['VALUE'].idxmax(), 'FIRST NAME']} {roster_df.loc[roster_df['VALUE'].idxmax(), 'LAST NAME']} ({roster_df['VALUE'].max():.1f} value)\")\n",
    "    print(f\"  • Elite Dev Traits: {len(roster_df[roster_df['DEV TRAIT'] == 'ELITE'])} players\")\n",
    "    print(f\"  • Star Dev Traits: {len(roster_df[roster_df['DEV TRAIT'] == 'STAR'])} players\")\n",
    "    print(f\"  • Players to Cut: {len(cut_candidates)}\")\n",
    "    print(f\"  • Players At Risk: {len(at_risk)}\")"
   ]
  },
  {
   "cell_type": "markdown",
   "id": "e4b7472b",
   "metadata": {},
   "source": [
    "## 💾 Export Results\n",
    "\n",
    "Save your analysis results to CSV files for future reference or sharing."
   ]
  },
  {
   "cell_type": "code",
   "execution_count": null,
   "id": "a1e17d19",
   "metadata": {},
   "outputs": [],
   "source": [
    "# Export Analysis Results\n",
    "if roster_df is not None and recruiting_plan is not None:\n",
    "    # Create output directory\n",
    "    if not os.path.exists(data_folder):\n",
    "        os.makedirs(data_folder)\n",
    "    \n",
    "    # Export processed roster with player values\n",
    "    roster_export = roster_df.drop('Best at Position', axis=1, errors='ignore')\n",
    "    player_values_path = os.path.join(data_folder, 'player_values_analysis.csv')\n",
    "    roster_export.to_csv(player_values_path, index=False)\n",
    "    \n",
    "    # Export recruiting plan\n",
    "    recruiting_plan_path = os.path.join(data_folder, 'recruiting_plan_analysis.csv')\n",
    "    recruiting_plan.to_csv(recruiting_plan_path, index=False)\n",
    "    \n",
    "    # Export detailed position analysis\n",
    "    position_analysis = []\n",
    "    for pos in default_position_requirements.keys():\n",
    "        pos_data = roster_df[roster_df['POSITION'] == pos]\n",
    "        if len(pos_data) > 0:\n",
    "            analysis = {\n",
    "                'Position': pos,\n",
    "                'Total_Players': len(pos_data),\n",
    "                'Avg_Rating': pos_data['RATING'].mean(),\n",
    "                'Avg_Value': pos_data['VALUE'].mean(),\n",
    "                'Top_Player_Value': pos_data['VALUE'].max(),\n",
    "                'Top_Player_Name': f\"{pos_data.loc[pos_data['VALUE'].idxmax(), 'FIRST NAME']} {pos_data.loc[pos_data['VALUE'].idxmax(), 'LAST NAME']}\",\n",
    "                'Elite_Dev_Count': len(pos_data[pos_data['DEV TRAIT'] == 'ELITE']),\n",
    "                'Star_Dev_Count': len(pos_data[pos_data['DEV TRAIT'] == 'STAR']),\n",
    "                'Graduating_Count': len(pos_data[pos_data['STATUS'] == 'GRADUATING']),\n",
    "                'Cut_Candidates': len(pos_data[pos_data['STATUS'] == 'CUT']),\n",
    "                'At_Risk_Count': len(pos_data[pos_data['STATUS'] == 'AT RISK'])\n",
    "            }\n",
    "            position_analysis.append(analysis)\n",
    "    \n",
    "    position_analysis_df = pd.DataFrame(position_analysis)\n",
    "    position_analysis_path = os.path.join(data_folder, 'position_analysis_detailed.csv')\n",
    "    position_analysis_df.to_csv(position_analysis_path, index=False)\n",
    "    \n",
    "    print(\"💾 Export completed successfully!\")\n",
    "    print(f\"📁 Files saved to: {data_folder}\")\n",
    "    print(f\"  📊 Player Values: {os.path.basename(player_values_path)}\")\n",
    "    print(f\"  🎯 Recruiting Plan: {os.path.basename(recruiting_plan_path)}\")\n",
    "    print(f\"  📋 Position Analysis: {os.path.basename(position_analysis_path)}\")\n",
    "    \n",
    "    # Show summary of what was exported\n",
    "    print(f\"\\n📈 Export Summary:\")\n",
    "    print(f\"  • {len(roster_export)} player records with values and status\")\n",
    "    print(f\"  • {len(recruiting_plan)} position recruiting priorities\")\n",
    "    print(f\"  • {len(position_analysis_df)} detailed position breakdowns\")\n",
    "    \n",
    "else:\n",
    "    print(\"❌ Cannot export - no data available. Please run the analysis cells above first.\")"
   ]
  },
  {
   "cell_type": "markdown",
   "id": "b7a18c90",
   "metadata": {},
   "source": [
    "## 🔍 Interactive Data Exploration\n",
    "\n",
    "Use these cells to explore your data interactively. Modify the code below to filter and analyze specific aspects of your roster."
   ]
  },
  {
   "cell_type": "code",
   "execution_count": null,
   "id": "e70fa86c",
   "metadata": {},
   "outputs": [],
   "source": [
    "# Interactive Exploration Examples\n",
    "\n",
    "# Example 1: Filter by specific position (change 'QB' to any position)\n",
    "if roster_df is not None:\n",
    "    position_to_analyze = 'QB'  # Change this to any position\n",
    "    position_players = roster_df[roster_df['POSITION'] == position_to_analyze].copy()\n",
    "    \n",
    "    if len(position_players) > 0:\n",
    "        print(f\"📊 {position_to_analyze} Analysis:\")\n",
    "        print(f\"  • Total Players: {len(position_players)}\")\n",
    "        print(f\"  • Average Rating: {position_players['RATING'].mean():.1f}\")\n",
    "        print(f\"  • Average Value: {position_players['VALUE'].mean():.1f}\")\n",
    "        print(f\"  • Top Player: {position_players.loc[position_players['VALUE'].idxmax(), 'FIRST NAME']} {position_players.loc[position_players['VALUE'].idxmax(), 'LAST NAME']} ({position_players['VALUE'].max():.1f})\")\n",
    "        \n",
    "        # Show detailed breakdown\n",
    "        print(f\"\\n📋 Detailed {position_to_analyze} Roster:\")\n",
    "        display_cols = ['RS', 'FIRST NAME', 'LAST NAME', 'YEAR', 'OVERALL', 'BASE OVERALL', 'ARCHETYPE', 'DEV TRAIT', 'VALUE', 'STATUS']\n",
    "        print(position_players[display_cols].sort_values('VALUE', ascending=False).to_string(index=False))\n",
    "    else:\n",
    "        print(f\"❌ No players found at {position_to_analyze} position\")\n",
    "else:\n",
    "    print(\"❌ No roster data available. Please run the data loading cells first.\")"
   ]
  },
  {
   "cell_type": "code",
   "execution_count": null,
   "id": "db78d730",
   "metadata": {},
   "outputs": [],
   "source": [
    "# Example 2: Custom Filtering - High Value Underclassmen\n",
    "if roster_df is not None:\n",
    "    # Find high-value underclassmen (FR/SO with value > 120)\n",
    "    underclassmen = roster_df[\n",
    "        (roster_df['YEAR'].isin(['FR', 'SO', 'FR (RS)', 'SO (RS)'])) & \n",
    "        (roster_df['VALUE'] > 120)\n",
    "    ].copy()\n",
    "    \n",
    "    if len(underclassmen) > 0:\n",
    "        print(\"⭐ High-Value Underclassmen (Future Stars):\")\n",
    "        print(f\"Found {len(underclassmen)} underclassmen with value > 120\")\n",
    "        \n",
    "        # Create visualization\n",
    "        fig = px.scatter(underclassmen, x='BASE OVERALL', y='VALUE', \n",
    "                        color='DEV TRAIT', size='OVERALL',\n",
    "                        hover_data=['FIRST NAME', 'LAST NAME', 'POSITION', 'YEAR'],\n",
    "                        title='🌟 Future Stars: High-Value Underclassmen')\n",
    "        fig.show()\n",
    "        \n",
    "        # Show top prospects\n",
    "        top_prospects = underclassmen.nlargest(10, 'VALUE')\n",
    "        display_cols = ['FIRST NAME', 'LAST NAME', 'POSITION', 'YEAR', 'RATING', 'DEV TRAIT', 'VALUE']\n",
    "        print(f\"\\n🏆 Top 10 Future Prospects:\")\n",
    "        print(top_prospects[display_cols].to_string(index=False))\n",
    "    else:\n",
    "        print(\"🔍 No high-value underclassmen found (try lowering the value threshold)\")\n",
    "\n",
    "# Example 3: Position Group Analysis\n",
    "if roster_df is not None:\n",
    "    print(f\"\\n📊 Position Group Summary:\")\n",
    "    \n",
    "    # Group positions by unit\n",
    "    position_groups = {\n",
    "        'Offense': ['QB', 'HB', 'FB', 'WR', 'TE', 'LT', 'LG', 'C', 'RG', 'RT'],\n",
    "        'Defense': ['LE', 'RE', 'DT', 'LOLB', 'MLB', 'ROLB', 'CB', 'FS', 'SS'],\n",
    "        'Special Teams': ['K', 'P']\n",
    "    }\n",
    "    \n",
    "    for group_name, positions in position_groups.items():\n",
    "        group_players = roster_df[roster_df['POSITION'].isin(positions)]\n",
    "        if len(group_players) > 0:\n",
    "            avg_value = group_players['VALUE'].mean()\n",
    "            print(f\"  {group_name}: {len(group_players)} players, Avg Value: {avg_value:.1f}\")\n",
    "        else:\n",
    "            print(f\"  {group_name}: No players found\")"
   ]
  },
  {
   "cell_type": "markdown",
   "id": "479ace46",
   "metadata": {},
   "source": [
    "## 📋 Summary & Next Steps\n",
    "\n",
    "This notebook has provided a comprehensive analysis of your CFB Dynasty roster including:\n",
    "\n",
    "- ✅ **Player Valuations** - Each player's calculated value based on ratings, development potential, and remaining years\n",
    "- ✅ **Roster Composition** - Visual breakdown of your team's strengths and weaknesses by position\n",
    "- ✅ **Recruiting Strategy** - Data-driven priorities for recruiting based on position needs and current grades\n",
    "- ✅ **Future Outlook** - Analysis of year classes and projected roster changes\n",
    "- ✅ **Performance Insights** - Identification of top performers and players at risk\n",
    "\n",
    "### 🎯 Key Actions to Take:\n",
    "\n",
    "1. **Review High Priority Positions** - Focus recruiting efforts on positions marked as HIGH priority\n",
    "2. **Evaluate Cut Candidates** - Consider cutting players with status \"CUT\" to make roster space\n",
    "3. **Monitor At-Risk Players** - Keep an eye on players with status \"AT RISK\" for potential development\n",
    "4. **Plan for Graduation** - Prepare for the loss of graduating seniors by recruiting replacements\n",
    "\n",
    "### 📁 Exported Files:\n",
    "- `player_values_analysis.csv` - Complete roster with calculated values and status\n",
    "- `recruiting_plan_analysis.csv` - Position-by-position recruiting priorities  \n",
    "- `position_analysis_detailed.csv` - Detailed breakdown of each position group\n",
    "\n",
    "---\n",
    "\n",
    "*This analysis was generated using the CFB Dynasty Roster Analysis notebook. Modify the parameters and filters above to customize the analysis for your specific needs.*"
   ]
  }
 ],
 "metadata": {
  "kernelspec": {
   "display_name": "venv (3.13.3)",
   "language": "python",
   "name": "python3"
  },
  "language_info": {
   "name": "python",
   "version": "3.13.3"
  }
 },
 "nbformat": 4,
 "nbformat_minor": 5
}
